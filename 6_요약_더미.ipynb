{
  "cells": [
    {
      "cell_type": "markdown",
      "metadata": {
        "id": "view-in-github",
        "colab_type": "text"
      },
      "source": [
        "<a href=\"https://colab.research.google.com/github/YonggunJung/Project2-Review/blob/main/6_%EC%9A%94%EC%95%BD_%EB%8D%94%EB%AF%B8.ipynb\" target=\"_parent\"><img src=\"https://colab.research.google.com/assets/colab-badge.svg\" alt=\"Open In Colab\"/></a>"
      ]
    },
    {
      "cell_type": "code",
      "execution_count": null,
      "id": "65d91c67",
      "metadata": {
        "id": "65d91c67"
      },
      "outputs": [],
      "source": [
        "import bs4\n",
        "import json\n",
        "import requests\n",
        "import pandas as pd\n",
        "import numpy as np\n",
        "import time\n",
        "import datetime\n",
        "\n",
        "import os\n",
        "\n",
        "import torch\n",
        "from transformers import PreTrainedTokenizerFast\n",
        "from transformers import BartForConditionalGeneration\n",
        "\n",
        "from datetime import date, timedelta\n",
        "from selenium import webdriver\n",
        "from selenium.webdriver.common.by import By\n",
        "from selenium.webdriver.support.ui import Select\n",
        "from IPython.display import clear_output\n",
        "from bs4 import BeautifulSoup"
      ]
    },
    {
      "cell_type": "code",
      "execution_count": null,
      "id": "2cb38274",
      "metadata": {
        "id": "2cb38274",
        "outputId": "96f4a5fc-0cde-40c7-a329-c05897c16653"
      },
      "outputs": [
        {
          "data": {
            "text/plain": [
              "datetime.timedelta(days=1)"
            ]
          },
          "execution_count": 2,
          "metadata": {},
          "output_type": "execute_result"
        }
      ],
      "source": [
        "# datetime 내장 모듈의 timedelta 클래스는 기간을 표현하기 위해서 사용\n",
        "# timedelta 클래스의 생성자는 주, 일, 시, 분, 초, 밀리 초, 마이크로 초를 인자로 받음\n",
        "timedelta(1)"
      ]
    },
    {
      "cell_type": "code",
      "execution_count": null,
      "id": "7d4a50b0",
      "metadata": {
        "id": "7d4a50b0"
      },
      "outputs": [],
      "source": [
        "# 컴퓨터 상의 오늘 날짜\n",
        "today = date.today()\n",
        "yesterday = date.today() - timedelta(1)       # 오늘에서 하루를 뺀 어제 날짜 변수화\n",
        "twodaysago = date.today() - timedelta(2)      # 어제에서 하루를 뺀 그제 날짜 변수화\n",
        "twomonths = date.today() - timedelta(61)"
      ]
    },
    {
      "cell_type": "code",
      "execution_count": null,
      "id": "317c109e",
      "metadata": {
        "id": "317c109e",
        "outputId": "b558faec-3a18-40b5-88cf-d061a362e4d9"
      },
      "outputs": [
        {
          "data": {
            "text/plain": [
              "Timestamp('2002-07-22 00:00:00')"
            ]
          },
          "execution_count": 76,
          "metadata": {},
          "output_type": "execute_result"
        }
      ],
      "source": [
        "a = '2002.07.22'\n",
        "\n",
        "b = pd.to_datetime(a, format = '%Y-%m-%d')\n",
        "b"
      ]
    },
    {
      "cell_type": "code",
      "execution_count": null,
      "id": "5997dc67",
      "metadata": {
        "id": "5997dc67",
        "outputId": "423afa04-0f38-4b56-87df-3a37cce8d097"
      },
      "outputs": [
        {
          "name": "stdout",
          "output_type": "stream",
          "text": [
            "2022-11-09\n",
            "2022-11-08\n",
            "2022-11-07\n",
            "2022-09-09\n"
          ]
        }
      ],
      "source": [
        "# 날짜 확인\n",
        "print(today.strftime('%Y-%m-%d'))\n",
        "print(yesterday.strftime('%Y-%m-%d'))\n",
        "print(twodaysago.strftime('%Y-%m-%d'))\n",
        "print(twomonths.strftime('%Y-%m-%d'))"
      ]
    },
    {
      "cell_type": "code",
      "execution_count": null,
      "id": "e1778583",
      "metadata": {
        "id": "e1778583",
        "outputId": "38442ca2-6336-446b-f32b-f5bfd3189d27"
      },
      "outputs": [
        {
          "name": "stderr",
          "output_type": "stream",
          "text": [
            "You passed along `num_labels=3` with an incompatible id to label map: {'0': 'NEGATIVE', '1': 'POSITIVE'}. The number of labels wil be overwritten to 2.\n",
            "The tokenizer class you load from this checkpoint is not the same type as the class this function is called from. It may result in unexpected tokenization. \n",
            "The tokenizer class you load from this checkpoint is 'BartTokenizer'. \n",
            "The class this function is called from is 'PreTrainedTokenizerFast'.\n",
            "You passed along `num_labels=3` with an incompatible id to label map: {'0': 'NEGATIVE', '1': 'POSITIVE'}. The number of labels wil be overwritten to 2.\n"
          ]
        }
      ],
      "source": [
        "# base model\n",
        "huggingface_domain = 'gogamza/kobart-summarization'\n",
        "# 토크나이져\n",
        "tokenizer = PreTrainedTokenizerFast.from_pretrained(huggingface_domain)\n",
        "# 모델 변수화\n",
        "model = BartForConditionalGeneration.from_pretrained(huggingface_domain)"
      ]
    },
    {
      "cell_type": "code",
      "execution_count": null,
      "id": "75fcb3d9",
      "metadata": {
        "id": "75fcb3d9"
      },
      "outputs": [],
      "source": [
        "# 웹 드라이버 실행\n",
        "driver = webdriver.Chrome('chromedriver')"
      ]
    },
    {
      "cell_type": "code",
      "execution_count": null,
      "id": "ad43969a",
      "metadata": {
        "id": "ad43969a"
      },
      "outputs": [],
      "source": [
        "# 3) 지연시간 지정 후에 웹브라우저 주소로 이동\n",
        "# 지연시간 주기 time.sleep(시간)\n",
        "time.sleep(2)\n",
        "# 이동 URL\n",
        "# url = 'https://www.kurly.com/main'\n",
        "url = 'https://www.kurly.com/shop/goods/goods_review_list.php?goodsno=5059674&page=1'\n",
        "# 드라이버객체명.get(이동URL )\n",
        "driver.get(url)"
      ]
    },
    {
      "cell_type": "code",
      "execution_count": null,
      "id": "ea24f405",
      "metadata": {
        "id": "ea24f405",
        "outputId": "d830fffd-2b2e-4495-e274-401df56ca0c1"
      },
      "outputs": [
        {
          "name": "stdout",
          "output_type": "stream",
          "text": [
            "\n",
            "\n",
            "싱싱하게 잘 도착해서잘 요리해 먹었어요다이어트 중이라 1. 새송이 버섯을 식감이 있겠끔 다졌고 부추랑 김치 한 이파리도 적당한 크기로  썰었어요2. 닭가슴살은 미리 삶아두었고3. 두부 300g과 함께 food processor로 다졌어요4. 후라이펜에 강불에서 두부와 닭가슴살을 넣고 볶았어요 닭가슴살이 충분히 익고 두부의 물이 날아갈 때까지 볶았어요.5. 올리브오일 쪼끔6. 아까 다져뒀던 부추랑 버섯이랑 김치도 넣고7. 청양고춧가루 2/3큰술, 굴소스 반큰술, 다진마늘 한큰술을 넣고 볶아줍니다. 강불에서 3분정도 볶아주새요\n",
            "\n",
            "[KF365] 1등급 닭가슴살 500g씩 2개로 나뉘어 소분되어있어요.한팩은 아이 튀김 해주려고 두었고 한팩으로 오늘 “버터치킨커리”를 만들어 먹었습니다.닭가슴살이 신선해서 별다른 요리팁 없이도 맛있게 잘 먹었어요.*재료준비닭가슴살 500g, 커리페이스트1봉(또는 카레가루), 양파1개, 감자1개, 후추조금, 강황가루조금(생략가능)*조리과정1. 야채와 닭가슴살은 깍뚝썰기하여 준비2. 닭가슴살에 강황가루와 후추를 조금 뿌려 조물조물3. 버터를 한큰술 넣고 감자와 양파, 닭가슴살 볶기4. 적당히 물을 넣고 감자가 물렁하게 익을때까지 끓인후 커리페이스트를 넣어 잘 풀어주면 완성!아이가 빨리달라고 하두 졸라서 상차림 사진이 없네요^^;;저렴하면서도 신선한 컬리 닭가슴살로 오늘 한끼 건강하고 맛있게 잘 먹었어요~\n",
            "\n",
            "닭가슴살은 이것만 삽니다.\n",
            "\n",
            "양도 많고 쟁여두고 잘 사용해요\n",
            "\n",
            "상태가 아주 신선해요. 삶아서 썼어요\n",
            "\n"
          ]
        }
      ],
      "source": [
        "html_str = driver.page_source\n",
        "# 페이지 숲 객체화\n",
        "soup = BeautifulSoup(html_str)\n",
        "# 타켓을 품고있는 요소 파악\n",
        "target_list = soup.select('div.inner_review')\n",
        "# 원하는 타겟만을 얻기 위한 분리\n",
        "a= target_list[0].get_text().split('\\n\\n\\n')\n",
        "a[1]\n",
        "\n",
        "# 한 페이지에 후기가 7개씩 있으므로\n",
        "for i in range(7):\n",
        "        a = target_list[i].get_text().split('\\n\\n\\n')\n",
        "        print(a[1])\n"
      ]
    },
    {
      "cell_type": "code",
      "execution_count": null,
      "id": "103ce631",
      "metadata": {
        "id": "103ce631",
        "outputId": "d168cdc7-420f-4559-d889-37b5af0598e7"
      },
      "outputs": [
        {
          "name": "stdout",
          "output_type": "stream",
          "text": [
            "<a class=\"layout-pagination-button layout-pagination-last-page\" href=\"/shop/goods/goods_review_list.php?goodsno=5059674&amp;page=1293\">맨 끝 페이지로 가기</a>\n",
            "==================================================\n"
          ]
        },
        {
          "data": {
            "text/plain": [
              "'1293'"
            ]
          },
          "execution_count": 9,
          "metadata": {},
          "output_type": "execute_result"
        }
      ],
      "source": [
        "# 페이지 수 확인\n",
        "print(soup.find_all('a')[-1])\n",
        "print('='*50)\n",
        "\n",
        "# 페이지 수 들고오기\n",
        "a = soup.find_all('a')[-1]\n",
        "a['href'].split('=')[-1]"
      ]
    },
    {
      "cell_type": "code",
      "execution_count": null,
      "id": "521c9066",
      "metadata": {
        "id": "521c9066",
        "outputId": "62855f8d-39a2-4faa-813c-167e46d7b01e"
      },
      "outputs": [
        {
          "data": {
            "text/plain": [
              "'2019-11-01'"
            ]
          },
          "execution_count": 10,
          "metadata": {},
          "output_type": "execute_result"
        }
      ],
      "source": [
        "# 게시글 날짜 부분 추출 확인\n",
        "timeget = driver.find_element(By.CLASS_NAME, 'time').text\n",
        "timeget"
      ]
    },
    {
      "cell_type": "code",
      "execution_count": null,
      "id": "5cf0c7e5",
      "metadata": {
        "id": "5cf0c7e5",
        "outputId": "2f26a26d-d88d-4b2a-9c95-248b37dd0f0e"
      },
      "outputs": [
        {
          "data": {
            "text/plain": [
              "datetime.date(2019, 11, 1)"
            ]
          },
          "execution_count": 11,
          "metadata": {},
          "output_type": "execute_result"
        }
      ],
      "source": [
        "# object타입의 날짜를 데이트타임으로 변경\n",
        "c=timeget.split('-')\n",
        "timeget2 = datetime.date(int(c[0]),int(c[1]),int(c[2]))\n",
        "timeget2"
      ]
    },
    {
      "cell_type": "code",
      "execution_count": null,
      "id": "b5a12c7e",
      "metadata": {
        "id": "b5a12c7e",
        "outputId": "7df7d17b-ea96-4df8-8cc3-207273759e3d"
      },
      "outputs": [
        {
          "data": {
            "text/plain": [
              "<tr>\n",
              "<td align=\"center\">\n",
              "BEST\n",
              "</td>\n",
              "<td class=\"subject\">\n",
              "<div class=\"fst\">좋아요 <img alt=\"이미지가 첨부됨\" src=\"https://res.kurly.com/pc/ico/1910/ico_attach2.gif\"/></div>\n",
              "<div class=\"snd\">좋아요 <img alt=\"이미지가 첨부됨\" src=\"https://res.kurly.com/pc/ico/1910/ico_attach2.gif\"/></div>\n",
              "</td>\n",
              "<td class=\"user_grade grade_comm\">\n",
              "<span class=\"ico_grade grade1\">\n",
              "화이트 </span>\n",
              "</td>\n",
              "<td class=\"user_grade\">\n",
              "박*나 </td>\n",
              "<td class=\"time\">2022-06-04</td>\n",
              "<td>\n",
              "<span class=\"review-like-cnt\" data-sno=\"55810899\">0</span>\n",
              "</td>\n",
              "</tr>"
            ]
          },
          "execution_count": 12,
          "metadata": {},
          "output_type": "execute_result"
        }
      ],
      "source": [
        "# 게시글 번호와 게시글 날짜를 포함하고 있는 요소 변수화\n",
        "number = soup.select('tr')\n",
        "number[3]"
      ]
    },
    {
      "cell_type": "code",
      "execution_count": null,
      "id": "ae697e29",
      "metadata": {
        "id": "ae697e29",
        "outputId": "126edf7c-b597-4669-cfe3-6d5b2973ff2e"
      },
      "outputs": [
        {
          "data": {
            "text/plain": [
              "'공지'"
            ]
          },
          "execution_count": 13,
          "metadata": {},
          "output_type": "execute_result"
        }
      ],
      "source": [
        "# 게시글 번호 추출\n",
        "num = number[1].text.split('\\n\\n')\n",
        "num[1]"
      ]
    },
    {
      "cell_type": "code",
      "execution_count": null,
      "id": "9f3091e9",
      "metadata": {
        "id": "9f3091e9",
        "outputId": "b865a336-0175-4ce0-f2db-cf6f011641f6"
      },
      "outputs": [
        {
          "data": {
            "text/plain": [
              "'2019-11-01'"
            ]
          },
          "execution_count": 14,
          "metadata": {},
          "output_type": "execute_result"
        }
      ],
      "source": [
        "# 게시글 날짜 추출\n",
        "date = number[1].text.split('\\n')\n",
        "date[-5]"
      ]
    },
    {
      "cell_type": "code",
      "execution_count": null,
      "id": "44599710",
      "metadata": {
        "id": "44599710",
        "outputId": "81398ac6-ef35-48f6-d962-b4dee75fcc43"
      },
      "outputs": [
        {
          "name": "stdout",
          "output_type": "stream",
          "text": [
            "<class 'int'>\n"
          ]
        }
      ],
      "source": [
        "# 닭찌찌\n",
        "post_date1 = []\n",
        "review1 = []  # 데이터를 담을 리스트\n",
        "url1 = 'https://www.kurly.com/shop/goods/goods_review_list.php?goodsno=5059674&page='\n",
        "a = soup.find_all('a')[-1]\n",
        "last_page = a['href'].split('=')[-1]\n",
        "last_page = int(last_page)\n",
        "print(type(last_page))\n",
        "i = 0\n",
        "while True:    # 무한 루프\n",
        "    url = url1 + str(i)\n",
        "    driver.get(url)\n",
        "    i += 1          # i를 1씩 증가시킴\n",
        "\n",
        "    html_str = driver.page_source\n",
        "    soup = BeautifulSoup(html_str)\n",
        "    target_list = soup.select('div.inner_review')\n",
        "    number = soup.select('tr')\n",
        "\n",
        "\n",
        "    try:    # 오류시 넘기기 위해\n",
        "        for j in range(0,7):\n",
        "            num = number[j+1].get_text().split('\\n\\n')\n",
        "            if num[1] != '공지' and num[1] != 'BEST'  :     # 공지글과 BEST글은 스킵\n",
        "                date = number[j+1].text.split('\\n')\n",
        "                b=date[-5]\n",
        "                c=date[-5].split('-')\n",
        "                timeget2 = datetime.date(int(c[0]),int(c[1]),int(c[2]))\n",
        "                # print(twomonths,timeget2 )\n",
        "                if twomonths <= timeget2:\n",
        "                    post_date1.append(b)\n",
        "                    a = target_list[j].get_text().split('\\n\\n\\n')\n",
        "                    review1.append(a[1].replace('\\n',''))  # 리뷰에 담기\n",
        "                    if twomonths >= timeget2:  # 두달전 날짜가 글 게시 날짜와 같은때\n",
        "                        break\n",
        "                else:\n",
        "                    continue\n",
        "\n",
        "    except IndexError :\n",
        "        print('잘못된 인덱스입니다')  # 오류시 나오는 글\n",
        "\n",
        "    if twomonths >= timeget2: # 두달전 날짜가 글 게시 날짜와 같을 때\n",
        "        break"
      ]
    },
    {
      "cell_type": "code",
      "execution_count": null,
      "id": "0ed355ab",
      "metadata": {
        "id": "0ed355ab"
      },
      "outputs": [],
      "source": [
        "sumposi = ''.join(review1)[:1024].replace('\\n', ' ')"
      ]
    },
    {
      "cell_type": "code",
      "execution_count": null,
      "id": "94494411",
      "metadata": {
        "id": "94494411"
      },
      "outputs": [],
      "source": [
        "def getSummary( sumposi ):\n",
        "    embeding_txt  = tokenizer.encode(sumposi.strip() )\n",
        "    input_ids     = [tokenizer.bos_token_id] + embeding_txt + [tokenizer.eos_token_id]\n",
        "    summary_ids   = model.generate( torch.tensor([input_ids]))\n",
        "\n",
        "    return tokenizer.decode(summary_ids.squeeze().tolist(), skip_special_token=True)\n"
      ]
    },
    {
      "cell_type": "code",
      "execution_count": null,
      "id": "85fa0d3a",
      "metadata": {
        "id": "85fa0d3a",
        "outputId": "5270d4a6-b81e-4854-bf04-a8c11acc0849"
      },
      "outputs": [
        {
          "data": {
            "text/plain": [
              "'닭가슴살은 닭가슴살 다이어트용으로 닭가슴살 다이어트용으로 닭'"
            ]
          },
          "execution_count": 78,
          "metadata": {},
          "output_type": "execute_result"
        }
      ],
      "source": [
        "getSummary(sumposi).replace('<usr>', '').lstrip()"
      ]
    },
    {
      "cell_type": "code",
      "execution_count": null,
      "id": "508c84be",
      "metadata": {
        "id": "508c84be",
        "outputId": "1667919c-dd69-446a-b8cd-51a09770d8bc"
      },
      "outputs": [
        {
          "data": {
            "text/plain": [
              "'닭가슴살은 이것만 삽니다.양도 많고 쟁여두고 잘 사용해요상태가 아주 신선해요. 삶아서 썼어요닭가슴살은 이것만 삽니다.양도 많고 쟁여두고 잘 사용해요상태가 아주 신선해요. 삶아서 썼어요양이 많아서 항상 이 상품으로 구매얼음으로 잘 말아서 온 거 받았어요동네마트에서 샀으면 더 비싼에 여기서 싸게 구입하고 맛도 전 좋았습니다.샐러드용으로 삶아서 냉동실에 얼려놓음 편함다이어트에는 닭가슴살. 양 이 넉넉해서 자주이용하는 아이템가성비갑인것 같아요~~~ 샐러드, 카레 해먹었네요가슴살 다이어트용으로닭가슴살 요리가 많겠지만 저는 치킨까스 만들때 주로 사용하고 있어요. 두껍고 커서 절반이나 1/3 크기로 포뜨듯이 잘라서 하면 딱 좋더라고요. 두꺼우면 육즙 안나가서 좋긴한데 익는데 오래걸리더라고요닭가슴살 이어도 부드럽네요양이 많아서 어찌먹을지 고민신선합니다 배송이빨라요샐러드 해먹을려고 구매했는데 퍽퍽해서 카레 만들때 넣었더니 부드럽고 괜찮네요.괜찮은거 같아 자주주문해요싱싱하고 강아지 소세지나 샌드위치 만들때 없어선 안될 필수재료네요. 냉동보단 건강할꺼라 믿고 구매합니다강아지 간식으로 만들었어요 상태 좋아요 자주 주문해요싱싱하고 좋습니다 최고에요닭가슴살은 항상 이걸로 사요굳굳~!! 에어프라이어로 돌려먹고이써요~~~ 너무 맛나요~~!늘구매템입니다 샐러드용으로 구워먹으려구요강아지 케이크민드는데 구입했어요~냄새도 안나고 깔끔하고 좋네요~맛도있어요~양이넉넉하니좋으네요간편해요 아기 닭죽용 우로 구매햇어요포장 깔끔하고 신선해요신선하게 먹을 수 있어서 너무 좋습니다 최고의닭가슴살이여닭다리살과 닭가슴살 같이 주문해서 닭갈비 자주 해먹어요 너무 맛있어요깔끔하고 신선함...강아지 간식으로 딱닭가슴살 수비드 해 먹으려고 샀어요늘 잘먹고 있습니다뭉근하게 삶아 먹으면 맛있어요재구매했어요 맛있어요우리 댕댕이 육포만들었어요. 길게 잘라서 식촛물에 잠시 담가두었다 식품건조기로 12시간. 멍님이 좋아하네요늘 만족합니다 감사합니다운동하면서 잘먹고 있습니다우리 강쥐들 간식으로 닭가슴살 슬라이스 해서 육포로 만들어주고 있는데 엄청 잘 먹고 건강식이라 마음도 '"
            ]
          },
          "execution_count": 62,
          "metadata": {},
          "output_type": "execute_result"
        }
      ],
      "source": [
        "''.join(review1)[:1024]"
      ]
    },
    {
      "cell_type": "code",
      "execution_count": null,
      "id": "ffeed907",
      "metadata": {
        "id": "ffeed907"
      },
      "outputs": [],
      "source": []
    },
    {
      "cell_type": "code",
      "execution_count": null,
      "id": "e5e9df58",
      "metadata": {
        "id": "e5e9df58"
      },
      "outputs": [],
      "source": []
    }
  ],
  "metadata": {
    "kernelspec": {
      "display_name": "Python 3 (ipykernel)",
      "language": "python",
      "name": "python3"
    },
    "language_info": {
      "codemirror_mode": {
        "name": "ipython",
        "version": 3
      },
      "file_extension": ".py",
      "mimetype": "text/x-python",
      "name": "python",
      "nbconvert_exporter": "python",
      "pygments_lexer": "ipython3",
      "version": "3.9.13"
    },
    "colab": {
      "provenance": [],
      "include_colab_link": true
    }
  },
  "nbformat": 4,
  "nbformat_minor": 5
}