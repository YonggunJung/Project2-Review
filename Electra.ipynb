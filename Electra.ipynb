{
  "cells": [
    {
      "cell_type": "markdown",
      "metadata": {
        "id": "view-in-github",
        "colab_type": "text"
      },
      "source": [
        "<a href=\"https://colab.research.google.com/github/YonggunJung/Project2-Review/blob/main/Electra.ipynb\" target=\"_parent\"><img src=\"https://colab.research.google.com/assets/colab-badge.svg\" alt=\"Open In Colab\"/></a>"
      ]
    },
    {
      "cell_type": "code",
      "execution_count": null,
      "id": "0c26e7d2",
      "metadata": {
        "id": "0c26e7d2",
        "outputId": "be8e0bf1-dead-4878-a2cc-0efe6385dc4a"
      },
      "outputs": [
        {
          "name": "stdout",
          "output_type": "stream",
          "text": [
            "Collecting konlpy\n",
            "  Using cached konlpy-0.6.0-py2.py3-none-any.whl (19.4 MB)\n",
            "Requirement already satisfied: lxml>=4.1.0 in c:\\users\\pnu\\anaconda3\\lib\\site-packages (from konlpy) (4.9.1)\n",
            "Collecting JPype1>=0.7.0\n",
            "  Using cached JPype1-1.4.0-cp39-cp39-win_amd64.whl (344 kB)\n",
            "Requirement already satisfied: numpy>=1.6 in c:\\users\\pnu\\anaconda3\\lib\\site-packages (from konlpy) (1.21.5)\n",
            "Installing collected packages: JPype1, konlpy\n",
            "Successfully installed JPype1-1.4.0 konlpy-0.6.0\n"
          ]
        }
      ],
      "source": [
        "!pip install konlpy\n",
        "!pip install tensorflow"
      ]
    },
    {
      "cell_type": "code",
      "execution_count": null,
      "id": "b046091e",
      "metadata": {
        "id": "b046091e"
      },
      "outputs": [],
      "source": [
        "import json\n",
        "import numpy as np\n",
        "import pandas as pd\n",
        "\n",
        "import matplotlib.pyplot as plt\n",
        "import re\n",
        "import urllib.request\n",
        "from konlpy.tag import Okt\n",
        "from tqdm import tqdm\n",
        "from tensorflow.keras.preprocessing.text import Tokenizer\n",
        "from tensorflow.keras.preprocessing.sequence import pad_sequences\n",
        "\n",
        "from transformers import ElectraTokenizer\n",
        "import tensorflow as tf\n",
        "# 현재 프로젝트에서 GPU메모리 사용을 필요한 만큼만 쓸수 있다록 함\n",
        "# 컴퓨터에 있는 GPU정도들을 가져온다.\n",
        "gpus = tf.config.experimental.list_physical_devices('GPU')\n",
        "# gpu가 있다면\n",
        "if len(gpus) >0 :\n",
        "    try :\n",
        "        for gpu in gpus :\n",
        "            tf.config.experimental.set_memory_growth(gpu, True)\n",
        "    except RuntimeError as e:\n",
        "        print(e)"
      ]
    },
    {
      "cell_type": "code",
      "execution_count": null,
      "id": "09514955",
      "metadata": {
        "id": "09514955",
        "outputId": "95cc0f9d-43f1-4b35-b409-ccd79b200c41"
      },
      "outputs": [
        {
          "name": "stdout",
          "output_type": "stream",
          "text": [
            "WARNING:tensorflow:From C:\\Users\\pnu\\AppData\\Local\\Temp\\ipykernel_1612\\337460670.py:1: is_gpu_available (from tensorflow.python.framework.test_util) is deprecated and will be removed in a future version.\n",
            "Instructions for updating:\n",
            "Use `tf.config.list_physical_devices('GPU')` instead.\n"
          ]
        },
        {
          "data": {
            "text/plain": [
              "True"
            ]
          },
          "execution_count": 2,
          "metadata": {},
          "output_type": "execute_result"
        }
      ],
      "source": [
        "tf.test.is_gpu_available()"
      ]
    },
    {
      "cell_type": "code",
      "execution_count": null,
      "id": "be982bac",
      "metadata": {
        "id": "be982bac",
        "outputId": "bdd209bb-af7c-43f6-e3bb-541f06260a4d"
      },
      "outputs": [
        {
          "name": "stdout",
          "output_type": "stream",
          "text": [
            "Physical devices cannot be modified after being initialized\n"
          ]
        }
      ],
      "source": []
    },
    {
      "cell_type": "raw",
      "id": "c6a0fe95",
      "metadata": {
        "id": "c6a0fe95"
      },
      "source": [
        "!pip install openai"
      ]
    },
    {
      "cell_type": "raw",
      "id": "1786502f",
      "metadata": {
        "id": "1786502f"
      },
      "source": [
        "!pip install pytorch-lightning==1.5.7 --quiet"
      ]
    },
    {
      "cell_type": "raw",
      "id": "28a53805",
      "metadata": {
        "id": "28a53805"
      },
      "source": [
        "!pip install transformers"
      ]
    },
    {
      "cell_type": "raw",
      "id": "02f6aaf5",
      "metadata": {
        "id": "02f6aaf5"
      },
      "source": [
        "!pip install watermark --quiet"
      ]
    },
    {
      "cell_type": "raw",
      "id": "0f559e6e",
      "metadata": {
        "id": "0f559e6e"
      },
      "source": [
        "!git clone https://github.com/monologg/KoELECTRA.git"
      ]
    },
    {
      "cell_type": "raw",
      "id": "72bdf6c5",
      "metadata": {
        "id": "72bdf6c5"
      },
      "source": [
        "!git clone https://github.com/huggingface/transformers\n",
        "!cd transformers\n",
        "!pip install ."
      ]
    },
    {
      "cell_type": "raw",
      "id": "3b78c8b1",
      "metadata": {
        "id": "3b78c8b1"
      },
      "source": [
        "!pip install -r requirements.txt"
      ]
    },
    {
      "cell_type": "code",
      "execution_count": null,
      "id": "93c92ce5",
      "metadata": {
        "id": "93c92ce5",
        "outputId": "9952e662-7385-4697-d61c-d84c1ada091a"
      },
      "outputs": [
        {
          "data": {
            "text/html": [
              "<div>\n",
              "<style scoped>\n",
              "    .dataframe tbody tr th:only-of-type {\n",
              "        vertical-align: middle;\n",
              "    }\n",
              "\n",
              "    .dataframe tbody tr th {\n",
              "        vertical-align: top;\n",
              "    }\n",
              "\n",
              "    .dataframe thead th {\n",
              "        text-align: right;\n",
              "    }\n",
              "</style>\n",
              "<table border=\"1\" class=\"dataframe\">\n",
              "  <thead>\n",
              "    <tr style=\"text-align: right;\">\n",
              "      <th></th>\n",
              "      <th>id</th>\n",
              "      <th>sentence_form</th>\n",
              "      <th>annotation</th>\n",
              "    </tr>\n",
              "  </thead>\n",
              "  <tbody>\n",
              "    <tr>\n",
              "      <th>0</th>\n",
              "      <td>nikluge-sa-2022-dev-00001</td>\n",
              "      <td>깔끔하게 부직포 포장으로 되어 있어서 그냥 뜨거운 물에 풍덩 넣어놓고 좀 휘젓어주면...</td>\n",
              "      <td>[[본품#편의성, [부직포 포장, 5, 11], positive]]</td>\n",
              "    </tr>\n",
              "    <tr>\n",
              "      <th>1</th>\n",
              "      <td>nikluge-sa-2022-dev-00002</td>\n",
              "      <td>목욕할 때마다 넣어봤는데(샤워는 자주 해도 목욕은 그렇게 자주가 아님.. 이것도 약...</td>\n",
              "      <td>[[본품#일반, [한약풀 냄새, 69, 75], positive]]</td>\n",
              "    </tr>\n",
              "    <tr>\n",
              "      <th>2</th>\n",
              "      <td>nikluge-sa-2022-dev-00003</td>\n",
              "      <td>혹시 오래된 거 팔지 않나 고민했었는데 쑥향기 자체가 페퍼민트처럼 신선하고 포장도 ...</td>\n",
              "      <td>[[본품#일반, [쑥향기, 22, 25], positive], [패키지/구성품#디자...</td>\n",
              "    </tr>\n",
              "    <tr>\n",
              "      <th>3</th>\n",
              "      <td>nikluge-sa-2022-dev-00004</td>\n",
              "      <td>전에는 목욕할 때 입욕제 넣고 하는 거 좋아하지 않았는데 한약재로 바꿔보니 약용까지...</td>\n",
              "      <td>[[제품 전체#품질, [한약재, 32, 35], positive]]</td>\n",
              "    </tr>\n",
              "    <tr>\n",
              "      <th>4</th>\n",
              "      <td>nikluge-sa-2022-dev-00005</td>\n",
              "      <td>나 또 시계 좋아하잖아.ㅋㅋ</td>\n",
              "      <td>[[제품 전체#일반, [시계, 4, 6], positive]]</td>\n",
              "    </tr>\n",
              "    <tr>\n",
              "      <th>...</th>\n",
              "      <td>...</td>\n",
              "      <td>...</td>\n",
              "      <td>...</td>\n",
              "    </tr>\n",
              "    <tr>\n",
              "      <th>2789</th>\n",
              "      <td>nikluge-sa-2022-dev-02790</td>\n",
              "      <td>썸머세트라고 해서 세럼 + 선크림 이렇게 패키지로 파는 것 괜찮음</td>\n",
              "      <td>[[패키지/구성품#일반, [썸머세트, 0, 4], positive]]</td>\n",
              "    </tr>\n",
              "    <tr>\n",
              "      <th>2790</th>\n",
              "      <td>nikluge-sa-2022-dev-02791</td>\n",
              "      <td>비싸다.</td>\n",
              "      <td>[[제품 전체#가격, [None, 0, 0], negative]]</td>\n",
              "    </tr>\n",
              "    <tr>\n",
              "      <th>2791</th>\n",
              "      <td>nikluge-sa-2022-dev-02792</td>\n",
              "      <td>비싸지만 건강이 더 비싸니까.</td>\n",
              "      <td>[[제품 전체#가격, [None, 0, 0], negative]]</td>\n",
              "    </tr>\n",
              "    <tr>\n",
              "      <th>2792</th>\n",
              "      <td>nikluge-sa-2022-dev-02793</td>\n",
              "      <td>대형으로 샀더니 잘 맞음.</td>\n",
              "      <td>[[제품 전체#일반, [대형, 0, 2], positive]]</td>\n",
              "    </tr>\n",
              "    <tr>\n",
              "      <th>2793</th>\n",
              "      <td>nikluge-sa-2022-dev-02794</td>\n",
              "      <td>안경 쓰고 숨 푸악푸악 내쉬어 봤는데 김서림도 거의 없음.</td>\n",
              "      <td>[[제품 전체#품질, [None, 0, 0], positive]]</td>\n",
              "    </tr>\n",
              "  </tbody>\n",
              "</table>\n",
              "<p>2794 rows × 3 columns</p>\n",
              "</div>"
            ],
            "text/plain": [
              "                             id  \\\n",
              "0     nikluge-sa-2022-dev-00001   \n",
              "1     nikluge-sa-2022-dev-00002   \n",
              "2     nikluge-sa-2022-dev-00003   \n",
              "3     nikluge-sa-2022-dev-00004   \n",
              "4     nikluge-sa-2022-dev-00005   \n",
              "...                         ...   \n",
              "2789  nikluge-sa-2022-dev-02790   \n",
              "2790  nikluge-sa-2022-dev-02791   \n",
              "2791  nikluge-sa-2022-dev-02792   \n",
              "2792  nikluge-sa-2022-dev-02793   \n",
              "2793  nikluge-sa-2022-dev-02794   \n",
              "\n",
              "                                          sentence_form  \\\n",
              "0     깔끔하게 부직포 포장으로 되어 있어서 그냥 뜨거운 물에 풍덩 넣어놓고 좀 휘젓어주면...   \n",
              "1     목욕할 때마다 넣어봤는데(샤워는 자주 해도 목욕은 그렇게 자주가 아님.. 이것도 약...   \n",
              "2     혹시 오래된 거 팔지 않나 고민했었는데 쑥향기 자체가 페퍼민트처럼 신선하고 포장도 ...   \n",
              "3     전에는 목욕할 때 입욕제 넣고 하는 거 좋아하지 않았는데 한약재로 바꿔보니 약용까지...   \n",
              "4                                       나 또 시계 좋아하잖아.ㅋㅋ   \n",
              "...                                                 ...   \n",
              "2789               썸머세트라고 해서 세럼 + 선크림 이렇게 패키지로 파는 것 괜찮음   \n",
              "2790                                               비싸다.   \n",
              "2791                                   비싸지만 건강이 더 비싸니까.   \n",
              "2792                                     대형으로 샀더니 잘 맞음.   \n",
              "2793                   안경 쓰고 숨 푸악푸악 내쉬어 봤는데 김서림도 거의 없음.   \n",
              "\n",
              "                                             annotation  \n",
              "0                 [[본품#편의성, [부직포 포장, 5, 11], positive]]  \n",
              "1                 [[본품#일반, [한약풀 냄새, 69, 75], positive]]  \n",
              "2     [[본품#일반, [쑥향기, 22, 25], positive], [패키지/구성품#디자...  \n",
              "3                 [[제품 전체#품질, [한약재, 32, 35], positive]]  \n",
              "4                    [[제품 전체#일반, [시계, 4, 6], positive]]  \n",
              "...                                                 ...  \n",
              "2789             [[패키지/구성품#일반, [썸머세트, 0, 4], positive]]  \n",
              "2790               [[제품 전체#가격, [None, 0, 0], negative]]  \n",
              "2791               [[제품 전체#가격, [None, 0, 0], negative]]  \n",
              "2792                 [[제품 전체#일반, [대형, 0, 2], positive]]  \n",
              "2793               [[제품 전체#품질, [None, 0, 0], positive]]  \n",
              "\n",
              "[2794 rows x 3 columns]"
            ]
          },
          "execution_count": 3,
          "metadata": {},
          "output_type": "execute_result"
        }
      ],
      "source": [
        "df_dev = pd.read_json('./data/nikluge-sa-2022-dev.jsonl', lines=True)\n",
        "df_dev"
      ]
    },
    {
      "cell_type": "code",
      "execution_count": null,
      "id": "33bdb724",
      "metadata": {
        "id": "33bdb724",
        "outputId": "6c10ee81-c2c8-4c3b-bb1d-9d26513c6d2b"
      },
      "outputs": [
        {
          "data": {
            "text/html": [
              "<div>\n",
              "<style scoped>\n",
              "    .dataframe tbody tr th:only-of-type {\n",
              "        vertical-align: middle;\n",
              "    }\n",
              "\n",
              "    .dataframe tbody tr th {\n",
              "        vertical-align: top;\n",
              "    }\n",
              "\n",
              "    .dataframe thead th {\n",
              "        text-align: right;\n",
              "    }\n",
              "</style>\n",
              "<table border=\"1\" class=\"dataframe\">\n",
              "  <thead>\n",
              "    <tr style=\"text-align: right;\">\n",
              "      <th></th>\n",
              "      <th>id</th>\n",
              "      <th>sentence_form</th>\n",
              "      <th>annotation</th>\n",
              "    </tr>\n",
              "  </thead>\n",
              "  <tbody>\n",
              "    <tr>\n",
              "      <th>0</th>\n",
              "      <td>00001</td>\n",
              "      <td>깔끔하게 부직포 포장으로 되어 있어서 그냥 뜨거운 물에 풍덩 넣어놓고 좀 휘젓어주면...</td>\n",
              "      <td>[[본품#편의성, [부직포 포장, 5, 11], positive]]</td>\n",
              "    </tr>\n",
              "    <tr>\n",
              "      <th>1</th>\n",
              "      <td>00002</td>\n",
              "      <td>목욕할 때마다 넣어봤는데(샤워는 자주 해도 목욕은 그렇게 자주가 아님.. 이것도 약...</td>\n",
              "      <td>[[본품#일반, [한약풀 냄새, 69, 75], positive]]</td>\n",
              "    </tr>\n",
              "    <tr>\n",
              "      <th>2</th>\n",
              "      <td>00003</td>\n",
              "      <td>혹시 오래된 거 팔지 않나 고민했었는데 쑥향기 자체가 페퍼민트처럼 신선하고 포장도 ...</td>\n",
              "      <td>[[본품#일반, [쑥향기, 22, 25], positive], [패키지/구성품#디자...</td>\n",
              "    </tr>\n",
              "    <tr>\n",
              "      <th>3</th>\n",
              "      <td>00004</td>\n",
              "      <td>전에는 목욕할 때 입욕제 넣고 하는 거 좋아하지 않았는데 한약재로 바꿔보니 약용까지...</td>\n",
              "      <td>[[제품 전체#품질, [한약재, 32, 35], positive]]</td>\n",
              "    </tr>\n",
              "    <tr>\n",
              "      <th>4</th>\n",
              "      <td>00005</td>\n",
              "      <td>나 또 시계 좋아하잖아.ㅋㅋ</td>\n",
              "      <td>[[제품 전체#일반, [시계, 4, 6], positive]]</td>\n",
              "    </tr>\n",
              "    <tr>\n",
              "      <th>...</th>\n",
              "      <td>...</td>\n",
              "      <td>...</td>\n",
              "      <td>...</td>\n",
              "    </tr>\n",
              "    <tr>\n",
              "      <th>2789</th>\n",
              "      <td>02790</td>\n",
              "      <td>썸머세트라고 해서 세럼 + 선크림 이렇게 패키지로 파는 것 괜찮음</td>\n",
              "      <td>[[패키지/구성품#일반, [썸머세트, 0, 4], positive]]</td>\n",
              "    </tr>\n",
              "    <tr>\n",
              "      <th>2790</th>\n",
              "      <td>02791</td>\n",
              "      <td>비싸다.</td>\n",
              "      <td>[[제품 전체#가격, [None, 0, 0], negative]]</td>\n",
              "    </tr>\n",
              "    <tr>\n",
              "      <th>2791</th>\n",
              "      <td>02792</td>\n",
              "      <td>비싸지만 건강이 더 비싸니까.</td>\n",
              "      <td>[[제품 전체#가격, [None, 0, 0], negative]]</td>\n",
              "    </tr>\n",
              "    <tr>\n",
              "      <th>2792</th>\n",
              "      <td>02793</td>\n",
              "      <td>대형으로 샀더니 잘 맞음.</td>\n",
              "      <td>[[제품 전체#일반, [대형, 0, 2], positive]]</td>\n",
              "    </tr>\n",
              "    <tr>\n",
              "      <th>2793</th>\n",
              "      <td>02794</td>\n",
              "      <td>안경 쓰고 숨 푸악푸악 내쉬어 봤는데 김서림도 거의 없음.</td>\n",
              "      <td>[[제품 전체#품질, [None, 0, 0], positive]]</td>\n",
              "    </tr>\n",
              "  </tbody>\n",
              "</table>\n",
              "<p>2794 rows × 3 columns</p>\n",
              "</div>"
            ],
            "text/plain": [
              "         id                                      sentence_form  \\\n",
              "0     00001  깔끔하게 부직포 포장으로 되어 있어서 그냥 뜨거운 물에 풍덩 넣어놓고 좀 휘젓어주면...   \n",
              "1     00002  목욕할 때마다 넣어봤는데(샤워는 자주 해도 목욕은 그렇게 자주가 아님.. 이것도 약...   \n",
              "2     00003  혹시 오래된 거 팔지 않나 고민했었는데 쑥향기 자체가 페퍼민트처럼 신선하고 포장도 ...   \n",
              "3     00004  전에는 목욕할 때 입욕제 넣고 하는 거 좋아하지 않았는데 한약재로 바꿔보니 약용까지...   \n",
              "4     00005                                    나 또 시계 좋아하잖아.ㅋㅋ   \n",
              "...     ...                                                ...   \n",
              "2789  02790               썸머세트라고 해서 세럼 + 선크림 이렇게 패키지로 파는 것 괜찮음   \n",
              "2790  02791                                               비싸다.   \n",
              "2791  02792                                   비싸지만 건강이 더 비싸니까.   \n",
              "2792  02793                                     대형으로 샀더니 잘 맞음.   \n",
              "2793  02794                   안경 쓰고 숨 푸악푸악 내쉬어 봤는데 김서림도 거의 없음.   \n",
              "\n",
              "                                             annotation  \n",
              "0                 [[본품#편의성, [부직포 포장, 5, 11], positive]]  \n",
              "1                 [[본품#일반, [한약풀 냄새, 69, 75], positive]]  \n",
              "2     [[본품#일반, [쑥향기, 22, 25], positive], [패키지/구성품#디자...  \n",
              "3                 [[제품 전체#품질, [한약재, 32, 35], positive]]  \n",
              "4                    [[제품 전체#일반, [시계, 4, 6], positive]]  \n",
              "...                                                 ...  \n",
              "2789             [[패키지/구성품#일반, [썸머세트, 0, 4], positive]]  \n",
              "2790               [[제품 전체#가격, [None, 0, 0], negative]]  \n",
              "2791               [[제품 전체#가격, [None, 0, 0], negative]]  \n",
              "2792                 [[제품 전체#일반, [대형, 0, 2], positive]]  \n",
              "2793               [[제품 전체#품질, [None, 0, 0], positive]]  \n",
              "\n",
              "[2794 rows x 3 columns]"
            ]
          },
          "execution_count": 4,
          "metadata": {},
          "output_type": "execute_result"
        }
      ],
      "source": [
        "df_dev['id'] = df_dev['id'].str.replace('nikluge-sa-2022-dev-', '')\n",
        "df_dev"
      ]
    },
    {
      "cell_type": "code",
      "execution_count": null,
      "id": "fb758a37",
      "metadata": {
        "id": "fb758a37",
        "outputId": "d8244c5b-2968-4e1b-9052-9277fab5add8"
      },
      "outputs": [
        {
          "name": "stdout",
          "output_type": "stream",
          "text": [
            "<class 'pandas.core.frame.DataFrame'>\n",
            "RangeIndex: 2794 entries, 0 to 2793\n",
            "Data columns (total 3 columns):\n",
            " #   Column         Non-Null Count  Dtype \n",
            "---  ------         --------------  ----- \n",
            " 0   id             2794 non-null   object\n",
            " 1   sentence_form  2794 non-null   object\n",
            " 2   annotation     2794 non-null   object\n",
            "dtypes: object(3)\n",
            "memory usage: 65.6+ KB\n"
          ]
        }
      ],
      "source": [
        "df_dev.info()"
      ]
    },
    {
      "cell_type": "code",
      "execution_count": null,
      "id": "3f09d1ff",
      "metadata": {
        "id": "3f09d1ff",
        "outputId": "db823890-7f28-4caa-e0d0-abb713d1ec40"
      },
      "outputs": [
        {
          "data": {
            "text/html": [
              "<div>\n",
              "<style scoped>\n",
              "    .dataframe tbody tr th:only-of-type {\n",
              "        vertical-align: middle;\n",
              "    }\n",
              "\n",
              "    .dataframe tbody tr th {\n",
              "        vertical-align: top;\n",
              "    }\n",
              "\n",
              "    .dataframe thead th {\n",
              "        text-align: right;\n",
              "    }\n",
              "</style>\n",
              "<table border=\"1\" class=\"dataframe\">\n",
              "  <thead>\n",
              "    <tr style=\"text-align: right;\">\n",
              "      <th></th>\n",
              "      <th>id</th>\n",
              "      <th>sentence_form</th>\n",
              "      <th>annotation</th>\n",
              "      <th>label</th>\n",
              "    </tr>\n",
              "  </thead>\n",
              "  <tbody>\n",
              "    <tr>\n",
              "      <th>0</th>\n",
              "      <td>00001</td>\n",
              "      <td>깔끔하게 부직포 포장으로 되어 있어서 그냥 뜨거운 물에 풍덩 넣어놓고 좀 휘젓어주면...</td>\n",
              "      <td>[[본품#편의성, [부직포 포장, 5, 11], positive]]</td>\n",
              "      <td>[본품#편의성, [부직포 포장, 5, 11], positive]</td>\n",
              "    </tr>\n",
              "    <tr>\n",
              "      <th>1</th>\n",
              "      <td>00002</td>\n",
              "      <td>목욕할 때마다 넣어봤는데(샤워는 자주 해도 목욕은 그렇게 자주가 아님.. 이것도 약...</td>\n",
              "      <td>[[본품#일반, [한약풀 냄새, 69, 75], positive]]</td>\n",
              "      <td>[본품#일반, [한약풀 냄새, 69, 75], positive]</td>\n",
              "    </tr>\n",
              "    <tr>\n",
              "      <th>2</th>\n",
              "      <td>00003</td>\n",
              "      <td>혹시 오래된 거 팔지 않나 고민했었는데 쑥향기 자체가 페퍼민트처럼 신선하고 포장도 ...</td>\n",
              "      <td>[[본품#일반, [쑥향기, 22, 25], positive], [패키지/구성품#디자...</td>\n",
              "      <td>[본품#일반, [쑥향기, 22, 25], positive]</td>\n",
              "    </tr>\n",
              "    <tr>\n",
              "      <th>3</th>\n",
              "      <td>00004</td>\n",
              "      <td>전에는 목욕할 때 입욕제 넣고 하는 거 좋아하지 않았는데 한약재로 바꿔보니 약용까지...</td>\n",
              "      <td>[[제품 전체#품질, [한약재, 32, 35], positive]]</td>\n",
              "      <td>[제품 전체#품질, [한약재, 32, 35], positive]</td>\n",
              "    </tr>\n",
              "    <tr>\n",
              "      <th>4</th>\n",
              "      <td>00005</td>\n",
              "      <td>나 또 시계 좋아하잖아.ㅋㅋ</td>\n",
              "      <td>[[제품 전체#일반, [시계, 4, 6], positive]]</td>\n",
              "      <td>[제품 전체#일반, [시계, 4, 6], positive]</td>\n",
              "    </tr>\n",
              "    <tr>\n",
              "      <th>...</th>\n",
              "      <td>...</td>\n",
              "      <td>...</td>\n",
              "      <td>...</td>\n",
              "      <td>...</td>\n",
              "    </tr>\n",
              "    <tr>\n",
              "      <th>2789</th>\n",
              "      <td>02790</td>\n",
              "      <td>썸머세트라고 해서 세럼 + 선크림 이렇게 패키지로 파는 것 괜찮음</td>\n",
              "      <td>[[패키지/구성품#일반, [썸머세트, 0, 4], positive]]</td>\n",
              "      <td>[패키지/구성품#일반, [썸머세트, 0, 4], positive]</td>\n",
              "    </tr>\n",
              "    <tr>\n",
              "      <th>2790</th>\n",
              "      <td>02791</td>\n",
              "      <td>비싸다.</td>\n",
              "      <td>[[제품 전체#가격, [None, 0, 0], negative]]</td>\n",
              "      <td>[제품 전체#가격, [None, 0, 0], negative]</td>\n",
              "    </tr>\n",
              "    <tr>\n",
              "      <th>2791</th>\n",
              "      <td>02792</td>\n",
              "      <td>비싸지만 건강이 더 비싸니까.</td>\n",
              "      <td>[[제품 전체#가격, [None, 0, 0], negative]]</td>\n",
              "      <td>[제품 전체#가격, [None, 0, 0], negative]</td>\n",
              "    </tr>\n",
              "    <tr>\n",
              "      <th>2792</th>\n",
              "      <td>02793</td>\n",
              "      <td>대형으로 샀더니 잘 맞음.</td>\n",
              "      <td>[[제품 전체#일반, [대형, 0, 2], positive]]</td>\n",
              "      <td>[제품 전체#일반, [대형, 0, 2], positive]</td>\n",
              "    </tr>\n",
              "    <tr>\n",
              "      <th>2793</th>\n",
              "      <td>02794</td>\n",
              "      <td>안경 쓰고 숨 푸악푸악 내쉬어 봤는데 김서림도 거의 없음.</td>\n",
              "      <td>[[제품 전체#품질, [None, 0, 0], positive]]</td>\n",
              "      <td>[제품 전체#품질, [None, 0, 0], positive]</td>\n",
              "    </tr>\n",
              "  </tbody>\n",
              "</table>\n",
              "<p>2794 rows × 4 columns</p>\n",
              "</div>"
            ],
            "text/plain": [
              "         id                                      sentence_form  \\\n",
              "0     00001  깔끔하게 부직포 포장으로 되어 있어서 그냥 뜨거운 물에 풍덩 넣어놓고 좀 휘젓어주면...   \n",
              "1     00002  목욕할 때마다 넣어봤는데(샤워는 자주 해도 목욕은 그렇게 자주가 아님.. 이것도 약...   \n",
              "2     00003  혹시 오래된 거 팔지 않나 고민했었는데 쑥향기 자체가 페퍼민트처럼 신선하고 포장도 ...   \n",
              "3     00004  전에는 목욕할 때 입욕제 넣고 하는 거 좋아하지 않았는데 한약재로 바꿔보니 약용까지...   \n",
              "4     00005                                    나 또 시계 좋아하잖아.ㅋㅋ   \n",
              "...     ...                                                ...   \n",
              "2789  02790               썸머세트라고 해서 세럼 + 선크림 이렇게 패키지로 파는 것 괜찮음   \n",
              "2790  02791                                               비싸다.   \n",
              "2791  02792                                   비싸지만 건강이 더 비싸니까.   \n",
              "2792  02793                                     대형으로 샀더니 잘 맞음.   \n",
              "2793  02794                   안경 쓰고 숨 푸악푸악 내쉬어 봤는데 김서림도 거의 없음.   \n",
              "\n",
              "                                             annotation  \\\n",
              "0                 [[본품#편의성, [부직포 포장, 5, 11], positive]]   \n",
              "1                 [[본품#일반, [한약풀 냄새, 69, 75], positive]]   \n",
              "2     [[본품#일반, [쑥향기, 22, 25], positive], [패키지/구성품#디자...   \n",
              "3                 [[제품 전체#품질, [한약재, 32, 35], positive]]   \n",
              "4                    [[제품 전체#일반, [시계, 4, 6], positive]]   \n",
              "...                                                 ...   \n",
              "2789             [[패키지/구성품#일반, [썸머세트, 0, 4], positive]]   \n",
              "2790               [[제품 전체#가격, [None, 0, 0], negative]]   \n",
              "2791               [[제품 전체#가격, [None, 0, 0], negative]]   \n",
              "2792                 [[제품 전체#일반, [대형, 0, 2], positive]]   \n",
              "2793               [[제품 전체#품질, [None, 0, 0], positive]]   \n",
              "\n",
              "                                     label  \n",
              "0      [본품#편의성, [부직포 포장, 5, 11], positive]  \n",
              "1      [본품#일반, [한약풀 냄새, 69, 75], positive]  \n",
              "2         [본품#일반, [쑥향기, 22, 25], positive]  \n",
              "3      [제품 전체#품질, [한약재, 32, 35], positive]  \n",
              "4         [제품 전체#일반, [시계, 4, 6], positive]  \n",
              "...                                    ...  \n",
              "2789  [패키지/구성품#일반, [썸머세트, 0, 4], positive]  \n",
              "2790    [제품 전체#가격, [None, 0, 0], negative]  \n",
              "2791    [제품 전체#가격, [None, 0, 0], negative]  \n",
              "2792      [제품 전체#일반, [대형, 0, 2], positive]  \n",
              "2793    [제품 전체#품질, [None, 0, 0], positive]  \n",
              "\n",
              "[2794 rows x 4 columns]"
            ]
          },
          "execution_count": 6,
          "metadata": {},
          "output_type": "execute_result"
        }
      ],
      "source": [
        "df_dev['label'] = df_dev['annotation'].str[0]\n",
        "df_dev"
      ]
    },
    {
      "cell_type": "code",
      "execution_count": null,
      "id": "9ba2e9dd",
      "metadata": {
        "id": "9ba2e9dd",
        "outputId": "2250a9d7-452b-4fc9-92fb-ae5cb7ab1707"
      },
      "outputs": [
        {
          "data": {
            "text/html": [
              "<div>\n",
              "<style scoped>\n",
              "    .dataframe tbody tr th:only-of-type {\n",
              "        vertical-align: middle;\n",
              "    }\n",
              "\n",
              "    .dataframe tbody tr th {\n",
              "        vertical-align: top;\n",
              "    }\n",
              "\n",
              "    .dataframe thead th {\n",
              "        text-align: right;\n",
              "    }\n",
              "</style>\n",
              "<table border=\"1\" class=\"dataframe\">\n",
              "  <thead>\n",
              "    <tr style=\"text-align: right;\">\n",
              "      <th></th>\n",
              "      <th>id</th>\n",
              "      <th>sentence_form</th>\n",
              "      <th>annotation</th>\n",
              "      <th>label</th>\n",
              "    </tr>\n",
              "  </thead>\n",
              "  <tbody>\n",
              "    <tr>\n",
              "      <th>0</th>\n",
              "      <td>00001</td>\n",
              "      <td>깔끔하게 부직포 포장으로 되어 있어서 그냥 뜨거운 물에 풍덩 넣어놓고 좀 휘젓어주면...</td>\n",
              "      <td>[[본품#편의성, [부직포 포장, 5, 11], positive]]</td>\n",
              "      <td>positive</td>\n",
              "    </tr>\n",
              "    <tr>\n",
              "      <th>1</th>\n",
              "      <td>00002</td>\n",
              "      <td>목욕할 때마다 넣어봤는데(샤워는 자주 해도 목욕은 그렇게 자주가 아님.. 이것도 약...</td>\n",
              "      <td>[[본품#일반, [한약풀 냄새, 69, 75], positive]]</td>\n",
              "      <td>positive</td>\n",
              "    </tr>\n",
              "    <tr>\n",
              "      <th>2</th>\n",
              "      <td>00003</td>\n",
              "      <td>혹시 오래된 거 팔지 않나 고민했었는데 쑥향기 자체가 페퍼민트처럼 신선하고 포장도 ...</td>\n",
              "      <td>[[본품#일반, [쑥향기, 22, 25], positive], [패키지/구성품#디자...</td>\n",
              "      <td>positive</td>\n",
              "    </tr>\n",
              "    <tr>\n",
              "      <th>3</th>\n",
              "      <td>00004</td>\n",
              "      <td>전에는 목욕할 때 입욕제 넣고 하는 거 좋아하지 않았는데 한약재로 바꿔보니 약용까지...</td>\n",
              "      <td>[[제품 전체#품질, [한약재, 32, 35], positive]]</td>\n",
              "      <td>positive</td>\n",
              "    </tr>\n",
              "    <tr>\n",
              "      <th>4</th>\n",
              "      <td>00005</td>\n",
              "      <td>나 또 시계 좋아하잖아.ㅋㅋ</td>\n",
              "      <td>[[제품 전체#일반, [시계, 4, 6], positive]]</td>\n",
              "      <td>positive</td>\n",
              "    </tr>\n",
              "    <tr>\n",
              "      <th>...</th>\n",
              "      <td>...</td>\n",
              "      <td>...</td>\n",
              "      <td>...</td>\n",
              "      <td>...</td>\n",
              "    </tr>\n",
              "    <tr>\n",
              "      <th>2789</th>\n",
              "      <td>02790</td>\n",
              "      <td>썸머세트라고 해서 세럼 + 선크림 이렇게 패키지로 파는 것 괜찮음</td>\n",
              "      <td>[[패키지/구성품#일반, [썸머세트, 0, 4], positive]]</td>\n",
              "      <td>positive</td>\n",
              "    </tr>\n",
              "    <tr>\n",
              "      <th>2790</th>\n",
              "      <td>02791</td>\n",
              "      <td>비싸다.</td>\n",
              "      <td>[[제품 전체#가격, [None, 0, 0], negative]]</td>\n",
              "      <td>negative</td>\n",
              "    </tr>\n",
              "    <tr>\n",
              "      <th>2791</th>\n",
              "      <td>02792</td>\n",
              "      <td>비싸지만 건강이 더 비싸니까.</td>\n",
              "      <td>[[제품 전체#가격, [None, 0, 0], negative]]</td>\n",
              "      <td>negative</td>\n",
              "    </tr>\n",
              "    <tr>\n",
              "      <th>2792</th>\n",
              "      <td>02793</td>\n",
              "      <td>대형으로 샀더니 잘 맞음.</td>\n",
              "      <td>[[제품 전체#일반, [대형, 0, 2], positive]]</td>\n",
              "      <td>positive</td>\n",
              "    </tr>\n",
              "    <tr>\n",
              "      <th>2793</th>\n",
              "      <td>02794</td>\n",
              "      <td>안경 쓰고 숨 푸악푸악 내쉬어 봤는데 김서림도 거의 없음.</td>\n",
              "      <td>[[제품 전체#품질, [None, 0, 0], positive]]</td>\n",
              "      <td>positive</td>\n",
              "    </tr>\n",
              "  </tbody>\n",
              "</table>\n",
              "<p>2794 rows × 4 columns</p>\n",
              "</div>"
            ],
            "text/plain": [
              "         id                                      sentence_form  \\\n",
              "0     00001  깔끔하게 부직포 포장으로 되어 있어서 그냥 뜨거운 물에 풍덩 넣어놓고 좀 휘젓어주면...   \n",
              "1     00002  목욕할 때마다 넣어봤는데(샤워는 자주 해도 목욕은 그렇게 자주가 아님.. 이것도 약...   \n",
              "2     00003  혹시 오래된 거 팔지 않나 고민했었는데 쑥향기 자체가 페퍼민트처럼 신선하고 포장도 ...   \n",
              "3     00004  전에는 목욕할 때 입욕제 넣고 하는 거 좋아하지 않았는데 한약재로 바꿔보니 약용까지...   \n",
              "4     00005                                    나 또 시계 좋아하잖아.ㅋㅋ   \n",
              "...     ...                                                ...   \n",
              "2789  02790               썸머세트라고 해서 세럼 + 선크림 이렇게 패키지로 파는 것 괜찮음   \n",
              "2790  02791                                               비싸다.   \n",
              "2791  02792                                   비싸지만 건강이 더 비싸니까.   \n",
              "2792  02793                                     대형으로 샀더니 잘 맞음.   \n",
              "2793  02794                   안경 쓰고 숨 푸악푸악 내쉬어 봤는데 김서림도 거의 없음.   \n",
              "\n",
              "                                             annotation     label  \n",
              "0                 [[본품#편의성, [부직포 포장, 5, 11], positive]]  positive  \n",
              "1                 [[본품#일반, [한약풀 냄새, 69, 75], positive]]  positive  \n",
              "2     [[본품#일반, [쑥향기, 22, 25], positive], [패키지/구성품#디자...  positive  \n",
              "3                 [[제품 전체#품질, [한약재, 32, 35], positive]]  positive  \n",
              "4                    [[제품 전체#일반, [시계, 4, 6], positive]]  positive  \n",
              "...                                                 ...       ...  \n",
              "2789             [[패키지/구성품#일반, [썸머세트, 0, 4], positive]]  positive  \n",
              "2790               [[제품 전체#가격, [None, 0, 0], negative]]  negative  \n",
              "2791               [[제품 전체#가격, [None, 0, 0], negative]]  negative  \n",
              "2792                 [[제품 전체#일반, [대형, 0, 2], positive]]  positive  \n",
              "2793               [[제품 전체#품질, [None, 0, 0], positive]]  positive  \n",
              "\n",
              "[2794 rows x 4 columns]"
            ]
          },
          "execution_count": 7,
          "metadata": {},
          "output_type": "execute_result"
        }
      ],
      "source": [
        "df_dev['label'] = df_dev['label'].str[-1]\n",
        "df_dev"
      ]
    },
    {
      "cell_type": "code",
      "execution_count": null,
      "id": "3a06616e",
      "metadata": {
        "id": "3a06616e",
        "outputId": "d4212116-a36e-4b4e-f725-e27711b57eab"
      },
      "outputs": [
        {
          "data": {
            "text/html": [
              "<div>\n",
              "<style scoped>\n",
              "    .dataframe tbody tr th:only-of-type {\n",
              "        vertical-align: middle;\n",
              "    }\n",
              "\n",
              "    .dataframe tbody tr th {\n",
              "        vertical-align: top;\n",
              "    }\n",
              "\n",
              "    .dataframe thead th {\n",
              "        text-align: right;\n",
              "    }\n",
              "</style>\n",
              "<table border=\"1\" class=\"dataframe\">\n",
              "  <thead>\n",
              "    <tr style=\"text-align: right;\">\n",
              "      <th></th>\n",
              "      <th>id</th>\n",
              "      <th>sentence_form</th>\n",
              "      <th>annotation</th>\n",
              "    </tr>\n",
              "  </thead>\n",
              "  <tbody>\n",
              "    <tr>\n",
              "      <th>0</th>\n",
              "      <td>nikluge-sa-2022-test-00001</td>\n",
              "      <td>하나 사려고 알아보는 중인데 맘에드는거 발견</td>\n",
              "      <td>[]</td>\n",
              "    </tr>\n",
              "    <tr>\n",
              "      <th>1</th>\n",
              "      <td>nikluge-sa-2022-test-00002</td>\n",
              "      <td>동양인 피부톤과 잘 어울리고 우아한 분위기를 풍긴다네?</td>\n",
              "      <td>[]</td>\n",
              "    </tr>\n",
              "    <tr>\n",
              "      <th>2</th>\n",
              "      <td>nikluge-sa-2022-test-00003</td>\n",
              "      <td>근데 이건 마르살라보다 더 지나친 색 같은데..</td>\n",
              "      <td>[]</td>\n",
              "    </tr>\n",
              "    <tr>\n",
              "      <th>3</th>\n",
              "      <td>nikluge-sa-2022-test-00004</td>\n",
              "      <td>나스 색조가 다 그렇지만서도 어데이셔스 라인은 진짜 색 기막히게 뽑는것 같다</td>\n",
              "      <td>[]</td>\n",
              "    </tr>\n",
              "    <tr>\n",
              "      <th>4</th>\n",
              "      <td>nikluge-sa-2022-test-00005</td>\n",
              "      <td>색상만 보면 이걸 어떻게 발라.. 싶겠지만 의외로 너무너무 괜찮다</td>\n",
              "      <td>[]</td>\n",
              "    </tr>\n",
              "    <tr>\n",
              "      <th>...</th>\n",
              "      <td>...</td>\n",
              "      <td>...</td>\n",
              "      <td>...</td>\n",
              "    </tr>\n",
              "    <tr>\n",
              "      <th>2122</th>\n",
              "      <td>nikluge-sa-2022-test-02123</td>\n",
              "      <td>간단한 충전으로 간편한 사용이 가능한거죠.</td>\n",
              "      <td>[]</td>\n",
              "    </tr>\n",
              "    <tr>\n",
              "      <th>2123</th>\n",
              "      <td>nikluge-sa-2022-test-02124</td>\n",
              "      <td>눈을 가린 상태에서도 간편하게 조작이 가능하구요,</td>\n",
              "      <td>[]</td>\n",
              "    </tr>\n",
              "    <tr>\n",
              "      <th>2124</th>\n",
              "      <td>nikluge-sa-2022-test-02125</td>\n",
              "      <td>다양한 마사지로 관자놀이부터 눈주변까지 부드럽고 강력한 마사지가 진행됩니다.</td>\n",
              "      <td>[]</td>\n",
              "    </tr>\n",
              "    <tr>\n",
              "      <th>2125</th>\n",
              "      <td>nikluge-sa-2022-test-02126</td>\n",
              "      <td>본체부터 케이블, 설명서까지 깔끔하게 정리되어 보관이 가능하니 더더 맘에 쏙 들어요.</td>\n",
              "      <td>[]</td>\n",
              "    </tr>\n",
              "    <tr>\n",
              "      <th>2126</th>\n",
              "      <td>nikluge-sa-2022-test-02127</td>\n",
              "      <td>사이즈가 컴펙트하고 무게감도 부담없어 가방에 쏙 넣고 다니기도 좋아요.</td>\n",
              "      <td>[]</td>\n",
              "    </tr>\n",
              "  </tbody>\n",
              "</table>\n",
              "<p>2127 rows × 3 columns</p>\n",
              "</div>"
            ],
            "text/plain": [
              "                              id  \\\n",
              "0     nikluge-sa-2022-test-00001   \n",
              "1     nikluge-sa-2022-test-00002   \n",
              "2     nikluge-sa-2022-test-00003   \n",
              "3     nikluge-sa-2022-test-00004   \n",
              "4     nikluge-sa-2022-test-00005   \n",
              "...                          ...   \n",
              "2122  nikluge-sa-2022-test-02123   \n",
              "2123  nikluge-sa-2022-test-02124   \n",
              "2124  nikluge-sa-2022-test-02125   \n",
              "2125  nikluge-sa-2022-test-02126   \n",
              "2126  nikluge-sa-2022-test-02127   \n",
              "\n",
              "                                        sentence_form annotation  \n",
              "0                            하나 사려고 알아보는 중인데 맘에드는거 발견         []  \n",
              "1                      동양인 피부톤과 잘 어울리고 우아한 분위기를 풍긴다네?         []  \n",
              "2                          근데 이건 마르살라보다 더 지나친 색 같은데..         []  \n",
              "3          나스 색조가 다 그렇지만서도 어데이셔스 라인은 진짜 색 기막히게 뽑는것 같다         []  \n",
              "4                색상만 보면 이걸 어떻게 발라.. 싶겠지만 의외로 너무너무 괜찮다         []  \n",
              "...                                               ...        ...  \n",
              "2122                          간단한 충전으로 간편한 사용이 가능한거죠.         []  \n",
              "2123                      눈을 가린 상태에서도 간편하게 조작이 가능하구요,         []  \n",
              "2124       다양한 마사지로 관자놀이부터 눈주변까지 부드럽고 강력한 마사지가 진행됩니다.         []  \n",
              "2125  본체부터 케이블, 설명서까지 깔끔하게 정리되어 보관이 가능하니 더더 맘에 쏙 들어요.         []  \n",
              "2126          사이즈가 컴펙트하고 무게감도 부담없어 가방에 쏙 넣고 다니기도 좋아요.         []  \n",
              "\n",
              "[2127 rows x 3 columns]"
            ]
          },
          "execution_count": 8,
          "metadata": {},
          "output_type": "execute_result"
        }
      ],
      "source": [
        "df_test = pd.read_json('./data/nikluge-sa-2022-test.jsonl', lines=True)\n",
        "df_test"
      ]
    },
    {
      "cell_type": "code",
      "execution_count": null,
      "id": "cd364ce1",
      "metadata": {
        "id": "cd364ce1",
        "outputId": "eb6868ea-efd3-479e-85e0-878e26b65188"
      },
      "outputs": [
        {
          "data": {
            "text/html": [
              "<div>\n",
              "<style scoped>\n",
              "    .dataframe tbody tr th:only-of-type {\n",
              "        vertical-align: middle;\n",
              "    }\n",
              "\n",
              "    .dataframe tbody tr th {\n",
              "        vertical-align: top;\n",
              "    }\n",
              "\n",
              "    .dataframe thead th {\n",
              "        text-align: right;\n",
              "    }\n",
              "</style>\n",
              "<table border=\"1\" class=\"dataframe\">\n",
              "  <thead>\n",
              "    <tr style=\"text-align: right;\">\n",
              "      <th></th>\n",
              "      <th>id</th>\n",
              "      <th>sentence_form</th>\n",
              "      <th>annotation</th>\n",
              "    </tr>\n",
              "  </thead>\n",
              "  <tbody>\n",
              "    <tr>\n",
              "      <th>0</th>\n",
              "      <td>00001</td>\n",
              "      <td>하나 사려고 알아보는 중인데 맘에드는거 발견</td>\n",
              "      <td>[]</td>\n",
              "    </tr>\n",
              "    <tr>\n",
              "      <th>1</th>\n",
              "      <td>00002</td>\n",
              "      <td>동양인 피부톤과 잘 어울리고 우아한 분위기를 풍긴다네?</td>\n",
              "      <td>[]</td>\n",
              "    </tr>\n",
              "    <tr>\n",
              "      <th>2</th>\n",
              "      <td>00003</td>\n",
              "      <td>근데 이건 마르살라보다 더 지나친 색 같은데..</td>\n",
              "      <td>[]</td>\n",
              "    </tr>\n",
              "    <tr>\n",
              "      <th>3</th>\n",
              "      <td>00004</td>\n",
              "      <td>나스 색조가 다 그렇지만서도 어데이셔스 라인은 진짜 색 기막히게 뽑는것 같다</td>\n",
              "      <td>[]</td>\n",
              "    </tr>\n",
              "    <tr>\n",
              "      <th>4</th>\n",
              "      <td>00005</td>\n",
              "      <td>색상만 보면 이걸 어떻게 발라.. 싶겠지만 의외로 너무너무 괜찮다</td>\n",
              "      <td>[]</td>\n",
              "    </tr>\n",
              "    <tr>\n",
              "      <th>...</th>\n",
              "      <td>...</td>\n",
              "      <td>...</td>\n",
              "      <td>...</td>\n",
              "    </tr>\n",
              "    <tr>\n",
              "      <th>2122</th>\n",
              "      <td>02123</td>\n",
              "      <td>간단한 충전으로 간편한 사용이 가능한거죠.</td>\n",
              "      <td>[]</td>\n",
              "    </tr>\n",
              "    <tr>\n",
              "      <th>2123</th>\n",
              "      <td>02124</td>\n",
              "      <td>눈을 가린 상태에서도 간편하게 조작이 가능하구요,</td>\n",
              "      <td>[]</td>\n",
              "    </tr>\n",
              "    <tr>\n",
              "      <th>2124</th>\n",
              "      <td>02125</td>\n",
              "      <td>다양한 마사지로 관자놀이부터 눈주변까지 부드럽고 강력한 마사지가 진행됩니다.</td>\n",
              "      <td>[]</td>\n",
              "    </tr>\n",
              "    <tr>\n",
              "      <th>2125</th>\n",
              "      <td>02126</td>\n",
              "      <td>본체부터 케이블, 설명서까지 깔끔하게 정리되어 보관이 가능하니 더더 맘에 쏙 들어요.</td>\n",
              "      <td>[]</td>\n",
              "    </tr>\n",
              "    <tr>\n",
              "      <th>2126</th>\n",
              "      <td>02127</td>\n",
              "      <td>사이즈가 컴펙트하고 무게감도 부담없어 가방에 쏙 넣고 다니기도 좋아요.</td>\n",
              "      <td>[]</td>\n",
              "    </tr>\n",
              "  </tbody>\n",
              "</table>\n",
              "<p>2127 rows × 3 columns</p>\n",
              "</div>"
            ],
            "text/plain": [
              "         id                                    sentence_form annotation\n",
              "0     00001                         하나 사려고 알아보는 중인데 맘에드는거 발견         []\n",
              "1     00002                   동양인 피부톤과 잘 어울리고 우아한 분위기를 풍긴다네?         []\n",
              "2     00003                       근데 이건 마르살라보다 더 지나친 색 같은데..         []\n",
              "3     00004       나스 색조가 다 그렇지만서도 어데이셔스 라인은 진짜 색 기막히게 뽑는것 같다         []\n",
              "4     00005             색상만 보면 이걸 어떻게 발라.. 싶겠지만 의외로 너무너무 괜찮다         []\n",
              "...     ...                                              ...        ...\n",
              "2122  02123                          간단한 충전으로 간편한 사용이 가능한거죠.         []\n",
              "2123  02124                      눈을 가린 상태에서도 간편하게 조작이 가능하구요,         []\n",
              "2124  02125       다양한 마사지로 관자놀이부터 눈주변까지 부드럽고 강력한 마사지가 진행됩니다.         []\n",
              "2125  02126  본체부터 케이블, 설명서까지 깔끔하게 정리되어 보관이 가능하니 더더 맘에 쏙 들어요.         []\n",
              "2126  02127          사이즈가 컴펙트하고 무게감도 부담없어 가방에 쏙 넣고 다니기도 좋아요.         []\n",
              "\n",
              "[2127 rows x 3 columns]"
            ]
          },
          "execution_count": 9,
          "metadata": {},
          "output_type": "execute_result"
        }
      ],
      "source": [
        "df_test['id'] = df_test['id'].str.replace('nikluge-sa-2022-test-', '')\n",
        "df_test"
      ]
    },
    {
      "cell_type": "code",
      "execution_count": null,
      "id": "192142e8",
      "metadata": {
        "id": "192142e8"
      },
      "outputs": [],
      "source": [
        "df_test['label'] = ''"
      ]
    },
    {
      "cell_type": "code",
      "execution_count": null,
      "id": "834a6b26",
      "metadata": {
        "id": "834a6b26",
        "outputId": "f1dbecfd-ab16-4690-8834-1a5c8308995f"
      },
      "outputs": [
        {
          "data": {
            "text/html": [
              "<div>\n",
              "<style scoped>\n",
              "    .dataframe tbody tr th:only-of-type {\n",
              "        vertical-align: middle;\n",
              "    }\n",
              "\n",
              "    .dataframe tbody tr th {\n",
              "        vertical-align: top;\n",
              "    }\n",
              "\n",
              "    .dataframe thead th {\n",
              "        text-align: right;\n",
              "    }\n",
              "</style>\n",
              "<table border=\"1\" class=\"dataframe\">\n",
              "  <thead>\n",
              "    <tr style=\"text-align: right;\">\n",
              "      <th></th>\n",
              "      <th>id</th>\n",
              "      <th>sentence_form</th>\n",
              "      <th>annotation</th>\n",
              "    </tr>\n",
              "  </thead>\n",
              "  <tbody>\n",
              "    <tr>\n",
              "      <th>0</th>\n",
              "      <td>nikluge-sa-2022-train-00001</td>\n",
              "      <td>둘쨋날은 미친듯이 밟아봤더니 기어가 헛돌면서 틱틱 소리가 나서 경악.</td>\n",
              "      <td>[[본품#품질, [기어, 16, 18], negative]]</td>\n",
              "    </tr>\n",
              "    <tr>\n",
              "      <th>1</th>\n",
              "      <td>nikluge-sa-2022-train-00002</td>\n",
              "      <td>이거 뭐 삐꾸를 준 거 아냐 불안하고, 거금 투자한 게 왜 이래.. 싶어서 정이 확...</td>\n",
              "      <td>[[본품#품질, [기어 텐션, 67, 72], negative]]</td>\n",
              "    </tr>\n",
              "    <tr>\n",
              "      <th>2</th>\n",
              "      <td>nikluge-sa-2022-train-00003</td>\n",
              "      <td>간사하게도 그 이후에는 라이딩이 아주 즐거워져서 만족스럽게 탔다.</td>\n",
              "      <td>[[제품 전체#일반, [None, 0, 0], positive]]</td>\n",
              "    </tr>\n",
              "    <tr>\n",
              "      <th>3</th>\n",
              "      <td>nikluge-sa-2022-train-00004</td>\n",
              "      <td>샥이 없는 모델이라 일반 도로에서 타면 노면의 진동 때문에 손목이 덜덜덜 떨리고 이...</td>\n",
              "      <td>[[제품 전체#일반, [샥이 없는 모델, 0, 8], neutral]]</td>\n",
              "    </tr>\n",
              "    <tr>\n",
              "      <th>4</th>\n",
              "      <td>nikluge-sa-2022-train-00005</td>\n",
              "      <td>안장도 딱딱해서 엉덩이가 아팠는데 무시하고 타고 있다.</td>\n",
              "      <td>[[본품#일반, [안장, 0, 2], negative]]</td>\n",
              "    </tr>\n",
              "    <tr>\n",
              "      <th>...</th>\n",
              "      <td>...</td>\n",
              "      <td>...</td>\n",
              "      <td>...</td>\n",
              "    </tr>\n",
              "    <tr>\n",
              "      <th>2996</th>\n",
              "      <td>nikluge-sa-2022-train-02997</td>\n",
              "      <td>(슬픔)</td>\n",
              "      <td>[[제품 전체#가격, [None, 0, 0], negative]]</td>\n",
              "    </tr>\n",
              "    <tr>\n",
              "      <th>2997</th>\n",
              "      <td>nikluge-sa-2022-train-02998</td>\n",
              "      <td>보드랍고 괜찮다!</td>\n",
              "      <td>[[제품 전체#품질, [None, 0, 0], positive]]</td>\n",
              "    </tr>\n",
              "    <tr>\n",
              "      <th>2998</th>\n",
              "      <td>nikluge-sa-2022-train-02999</td>\n",
              "      <td>#일본 유니클로 질이 우리나라보다 좋은 것 같으면 기분 탓인가.......</td>\n",
              "      <td>[[브랜드#일반, [유니클로, 4, 8], neutral]]</td>\n",
              "    </tr>\n",
              "    <tr>\n",
              "      <th>2999</th>\n",
              "      <td>nikluge-sa-2022-train-03000</td>\n",
              "      <td>마지막으로 귀여워서 집어온 모자.</td>\n",
              "      <td>[[제품 전체#디자인, [모자, 15, 17], positive]]</td>\n",
              "    </tr>\n",
              "    <tr>\n",
              "      <th>3000</th>\n",
              "      <td>nikluge-sa-2022-train-03001</td>\n",
              "      <td>일본유니클로 사랑해!!!!!!!</td>\n",
              "      <td>[[브랜드#일반, [일본유니클로, 0, 6], positive]]</td>\n",
              "    </tr>\n",
              "  </tbody>\n",
              "</table>\n",
              "<p>3001 rows × 3 columns</p>\n",
              "</div>"
            ],
            "text/plain": [
              "                               id  \\\n",
              "0     nikluge-sa-2022-train-00001   \n",
              "1     nikluge-sa-2022-train-00002   \n",
              "2     nikluge-sa-2022-train-00003   \n",
              "3     nikluge-sa-2022-train-00004   \n",
              "4     nikluge-sa-2022-train-00005   \n",
              "...                           ...   \n",
              "2996  nikluge-sa-2022-train-02997   \n",
              "2997  nikluge-sa-2022-train-02998   \n",
              "2998  nikluge-sa-2022-train-02999   \n",
              "2999  nikluge-sa-2022-train-03000   \n",
              "3000  nikluge-sa-2022-train-03001   \n",
              "\n",
              "                                          sentence_form  \\\n",
              "0                둘쨋날은 미친듯이 밟아봤더니 기어가 헛돌면서 틱틱 소리가 나서 경악.   \n",
              "1     이거 뭐 삐꾸를 준 거 아냐 불안하고, 거금 투자한 게 왜 이래.. 싶어서 정이 확...   \n",
              "2                  간사하게도 그 이후에는 라이딩이 아주 즐거워져서 만족스럽게 탔다.   \n",
              "3     샥이 없는 모델이라 일반 도로에서 타면 노면의 진동 때문에 손목이 덜덜덜 떨리고 이...   \n",
              "4                        안장도 딱딱해서 엉덩이가 아팠는데 무시하고 타고 있다.   \n",
              "...                                                 ...   \n",
              "2996                                               (슬픔)   \n",
              "2997                                          보드랍고 괜찮다!   \n",
              "2998          #일본 유니클로 질이 우리나라보다 좋은 것 같으면 기분 탓인가.......   \n",
              "2999                                 마지막으로 귀여워서 집어온 모자.   \n",
              "3000                                  일본유니클로 사랑해!!!!!!!   \n",
              "\n",
              "                                   annotation  \n",
              "0           [[본품#품질, [기어, 16, 18], negative]]  \n",
              "1        [[본품#품질, [기어 텐션, 67, 72], negative]]  \n",
              "2        [[제품 전체#일반, [None, 0, 0], positive]]  \n",
              "3     [[제품 전체#일반, [샥이 없는 모델, 0, 8], neutral]]  \n",
              "4             [[본품#일반, [안장, 0, 2], negative]]  \n",
              "...                                       ...  \n",
              "2996     [[제품 전체#가격, [None, 0, 0], negative]]  \n",
              "2997     [[제품 전체#품질, [None, 0, 0], positive]]  \n",
              "2998        [[브랜드#일반, [유니클로, 4, 8], neutral]]  \n",
              "2999    [[제품 전체#디자인, [모자, 15, 17], positive]]  \n",
              "3000     [[브랜드#일반, [일본유니클로, 0, 6], positive]]  \n",
              "\n",
              "[3001 rows x 3 columns]"
            ]
          },
          "execution_count": 11,
          "metadata": {},
          "output_type": "execute_result"
        }
      ],
      "source": [
        "df_train = pd.read_json('./data/nikluge-sa-2022-train.jsonl', lines=True)\n",
        "df_train"
      ]
    },
    {
      "cell_type": "code",
      "execution_count": null,
      "id": "0862f8b4",
      "metadata": {
        "id": "0862f8b4",
        "outputId": "13969860-d253-4a62-c3cf-69cd6e866968"
      },
      "outputs": [
        {
          "data": {
            "text/html": [
              "<div>\n",
              "<style scoped>\n",
              "    .dataframe tbody tr th:only-of-type {\n",
              "        vertical-align: middle;\n",
              "    }\n",
              "\n",
              "    .dataframe tbody tr th {\n",
              "        vertical-align: top;\n",
              "    }\n",
              "\n",
              "    .dataframe thead th {\n",
              "        text-align: right;\n",
              "    }\n",
              "</style>\n",
              "<table border=\"1\" class=\"dataframe\">\n",
              "  <thead>\n",
              "    <tr style=\"text-align: right;\">\n",
              "      <th></th>\n",
              "      <th>id</th>\n",
              "      <th>sentence_form</th>\n",
              "      <th>annotation</th>\n",
              "    </tr>\n",
              "  </thead>\n",
              "  <tbody>\n",
              "    <tr>\n",
              "      <th>0</th>\n",
              "      <td>00001</td>\n",
              "      <td>둘쨋날은 미친듯이 밟아봤더니 기어가 헛돌면서 틱틱 소리가 나서 경악.</td>\n",
              "      <td>[[본품#품질, [기어, 16, 18], negative]]</td>\n",
              "    </tr>\n",
              "    <tr>\n",
              "      <th>1</th>\n",
              "      <td>00002</td>\n",
              "      <td>이거 뭐 삐꾸를 준 거 아냐 불안하고, 거금 투자한 게 왜 이래.. 싶어서 정이 확...</td>\n",
              "      <td>[[본품#품질, [기어 텐션, 67, 72], negative]]</td>\n",
              "    </tr>\n",
              "    <tr>\n",
              "      <th>2</th>\n",
              "      <td>00003</td>\n",
              "      <td>간사하게도 그 이후에는 라이딩이 아주 즐거워져서 만족스럽게 탔다.</td>\n",
              "      <td>[[제품 전체#일반, [None, 0, 0], positive]]</td>\n",
              "    </tr>\n",
              "    <tr>\n",
              "      <th>3</th>\n",
              "      <td>00004</td>\n",
              "      <td>샥이 없는 모델이라 일반 도로에서 타면 노면의 진동 때문에 손목이 덜덜덜 떨리고 이...</td>\n",
              "      <td>[[제품 전체#일반, [샥이 없는 모델, 0, 8], neutral]]</td>\n",
              "    </tr>\n",
              "    <tr>\n",
              "      <th>4</th>\n",
              "      <td>00005</td>\n",
              "      <td>안장도 딱딱해서 엉덩이가 아팠는데 무시하고 타고 있다.</td>\n",
              "      <td>[[본품#일반, [안장, 0, 2], negative]]</td>\n",
              "    </tr>\n",
              "    <tr>\n",
              "      <th>...</th>\n",
              "      <td>...</td>\n",
              "      <td>...</td>\n",
              "      <td>...</td>\n",
              "    </tr>\n",
              "    <tr>\n",
              "      <th>2996</th>\n",
              "      <td>02997</td>\n",
              "      <td>(슬픔)</td>\n",
              "      <td>[[제품 전체#가격, [None, 0, 0], negative]]</td>\n",
              "    </tr>\n",
              "    <tr>\n",
              "      <th>2997</th>\n",
              "      <td>02998</td>\n",
              "      <td>보드랍고 괜찮다!</td>\n",
              "      <td>[[제품 전체#품질, [None, 0, 0], positive]]</td>\n",
              "    </tr>\n",
              "    <tr>\n",
              "      <th>2998</th>\n",
              "      <td>02999</td>\n",
              "      <td>#일본 유니클로 질이 우리나라보다 좋은 것 같으면 기분 탓인가.......</td>\n",
              "      <td>[[브랜드#일반, [유니클로, 4, 8], neutral]]</td>\n",
              "    </tr>\n",
              "    <tr>\n",
              "      <th>2999</th>\n",
              "      <td>03000</td>\n",
              "      <td>마지막으로 귀여워서 집어온 모자.</td>\n",
              "      <td>[[제품 전체#디자인, [모자, 15, 17], positive]]</td>\n",
              "    </tr>\n",
              "    <tr>\n",
              "      <th>3000</th>\n",
              "      <td>03001</td>\n",
              "      <td>일본유니클로 사랑해!!!!!!!</td>\n",
              "      <td>[[브랜드#일반, [일본유니클로, 0, 6], positive]]</td>\n",
              "    </tr>\n",
              "  </tbody>\n",
              "</table>\n",
              "<p>3001 rows × 3 columns</p>\n",
              "</div>"
            ],
            "text/plain": [
              "         id                                      sentence_form  \\\n",
              "0     00001             둘쨋날은 미친듯이 밟아봤더니 기어가 헛돌면서 틱틱 소리가 나서 경악.   \n",
              "1     00002  이거 뭐 삐꾸를 준 거 아냐 불안하고, 거금 투자한 게 왜 이래.. 싶어서 정이 확...   \n",
              "2     00003               간사하게도 그 이후에는 라이딩이 아주 즐거워져서 만족스럽게 탔다.   \n",
              "3     00004  샥이 없는 모델이라 일반 도로에서 타면 노면의 진동 때문에 손목이 덜덜덜 떨리고 이...   \n",
              "4     00005                     안장도 딱딱해서 엉덩이가 아팠는데 무시하고 타고 있다.   \n",
              "...     ...                                                ...   \n",
              "2996  02997                                               (슬픔)   \n",
              "2997  02998                                          보드랍고 괜찮다!   \n",
              "2998  02999          #일본 유니클로 질이 우리나라보다 좋은 것 같으면 기분 탓인가.......   \n",
              "2999  03000                                 마지막으로 귀여워서 집어온 모자.   \n",
              "3000  03001                                  일본유니클로 사랑해!!!!!!!   \n",
              "\n",
              "                                   annotation  \n",
              "0           [[본품#품질, [기어, 16, 18], negative]]  \n",
              "1        [[본품#품질, [기어 텐션, 67, 72], negative]]  \n",
              "2        [[제품 전체#일반, [None, 0, 0], positive]]  \n",
              "3     [[제품 전체#일반, [샥이 없는 모델, 0, 8], neutral]]  \n",
              "4             [[본품#일반, [안장, 0, 2], negative]]  \n",
              "...                                       ...  \n",
              "2996     [[제품 전체#가격, [None, 0, 0], negative]]  \n",
              "2997     [[제품 전체#품질, [None, 0, 0], positive]]  \n",
              "2998        [[브랜드#일반, [유니클로, 4, 8], neutral]]  \n",
              "2999    [[제품 전체#디자인, [모자, 15, 17], positive]]  \n",
              "3000     [[브랜드#일반, [일본유니클로, 0, 6], positive]]  \n",
              "\n",
              "[3001 rows x 3 columns]"
            ]
          },
          "execution_count": 12,
          "metadata": {},
          "output_type": "execute_result"
        }
      ],
      "source": [
        "df_train['id'] = df_train['id'].str.replace('nikluge-sa-2022-train-', '')\n",
        "df_train"
      ]
    },
    {
      "cell_type": "code",
      "execution_count": null,
      "id": "aed010b3",
      "metadata": {
        "id": "aed010b3",
        "outputId": "1e90781d-045a-434c-f5f0-6a610a1e5c87"
      },
      "outputs": [
        {
          "data": {
            "text/html": [
              "<div>\n",
              "<style scoped>\n",
              "    .dataframe tbody tr th:only-of-type {\n",
              "        vertical-align: middle;\n",
              "    }\n",
              "\n",
              "    .dataframe tbody tr th {\n",
              "        vertical-align: top;\n",
              "    }\n",
              "\n",
              "    .dataframe thead th {\n",
              "        text-align: right;\n",
              "    }\n",
              "</style>\n",
              "<table border=\"1\" class=\"dataframe\">\n",
              "  <thead>\n",
              "    <tr style=\"text-align: right;\">\n",
              "      <th></th>\n",
              "      <th>id</th>\n",
              "      <th>sentence_form</th>\n",
              "      <th>annotation</th>\n",
              "      <th>label</th>\n",
              "    </tr>\n",
              "  </thead>\n",
              "  <tbody>\n",
              "    <tr>\n",
              "      <th>0</th>\n",
              "      <td>00001</td>\n",
              "      <td>둘쨋날은 미친듯이 밟아봤더니 기어가 헛돌면서 틱틱 소리가 나서 경악.</td>\n",
              "      <td>[[본품#품질, [기어, 16, 18], negative]]</td>\n",
              "      <td>negative</td>\n",
              "    </tr>\n",
              "    <tr>\n",
              "      <th>1</th>\n",
              "      <td>00002</td>\n",
              "      <td>이거 뭐 삐꾸를 준 거 아냐 불안하고, 거금 투자한 게 왜 이래.. 싶어서 정이 확...</td>\n",
              "      <td>[[본품#품질, [기어 텐션, 67, 72], negative]]</td>\n",
              "      <td>negative</td>\n",
              "    </tr>\n",
              "    <tr>\n",
              "      <th>2</th>\n",
              "      <td>00003</td>\n",
              "      <td>간사하게도 그 이후에는 라이딩이 아주 즐거워져서 만족스럽게 탔다.</td>\n",
              "      <td>[[제품 전체#일반, [None, 0, 0], positive]]</td>\n",
              "      <td>positive</td>\n",
              "    </tr>\n",
              "    <tr>\n",
              "      <th>3</th>\n",
              "      <td>00004</td>\n",
              "      <td>샥이 없는 모델이라 일반 도로에서 타면 노면의 진동 때문에 손목이 덜덜덜 떨리고 이...</td>\n",
              "      <td>[[제품 전체#일반, [샥이 없는 모델, 0, 8], neutral]]</td>\n",
              "      <td>neutral</td>\n",
              "    </tr>\n",
              "    <tr>\n",
              "      <th>4</th>\n",
              "      <td>00005</td>\n",
              "      <td>안장도 딱딱해서 엉덩이가 아팠는데 무시하고 타고 있다.</td>\n",
              "      <td>[[본품#일반, [안장, 0, 2], negative]]</td>\n",
              "      <td>negative</td>\n",
              "    </tr>\n",
              "    <tr>\n",
              "      <th>...</th>\n",
              "      <td>...</td>\n",
              "      <td>...</td>\n",
              "      <td>...</td>\n",
              "      <td>...</td>\n",
              "    </tr>\n",
              "    <tr>\n",
              "      <th>2996</th>\n",
              "      <td>02997</td>\n",
              "      <td>(슬픔)</td>\n",
              "      <td>[[제품 전체#가격, [None, 0, 0], negative]]</td>\n",
              "      <td>negative</td>\n",
              "    </tr>\n",
              "    <tr>\n",
              "      <th>2997</th>\n",
              "      <td>02998</td>\n",
              "      <td>보드랍고 괜찮다!</td>\n",
              "      <td>[[제품 전체#품질, [None, 0, 0], positive]]</td>\n",
              "      <td>positive</td>\n",
              "    </tr>\n",
              "    <tr>\n",
              "      <th>2998</th>\n",
              "      <td>02999</td>\n",
              "      <td>#일본 유니클로 질이 우리나라보다 좋은 것 같으면 기분 탓인가.......</td>\n",
              "      <td>[[브랜드#일반, [유니클로, 4, 8], neutral]]</td>\n",
              "      <td>neutral</td>\n",
              "    </tr>\n",
              "    <tr>\n",
              "      <th>2999</th>\n",
              "      <td>03000</td>\n",
              "      <td>마지막으로 귀여워서 집어온 모자.</td>\n",
              "      <td>[[제품 전체#디자인, [모자, 15, 17], positive]]</td>\n",
              "      <td>positive</td>\n",
              "    </tr>\n",
              "    <tr>\n",
              "      <th>3000</th>\n",
              "      <td>03001</td>\n",
              "      <td>일본유니클로 사랑해!!!!!!!</td>\n",
              "      <td>[[브랜드#일반, [일본유니클로, 0, 6], positive]]</td>\n",
              "      <td>positive</td>\n",
              "    </tr>\n",
              "  </tbody>\n",
              "</table>\n",
              "<p>3001 rows × 4 columns</p>\n",
              "</div>"
            ],
            "text/plain": [
              "         id                                      sentence_form  \\\n",
              "0     00001             둘쨋날은 미친듯이 밟아봤더니 기어가 헛돌면서 틱틱 소리가 나서 경악.   \n",
              "1     00002  이거 뭐 삐꾸를 준 거 아냐 불안하고, 거금 투자한 게 왜 이래.. 싶어서 정이 확...   \n",
              "2     00003               간사하게도 그 이후에는 라이딩이 아주 즐거워져서 만족스럽게 탔다.   \n",
              "3     00004  샥이 없는 모델이라 일반 도로에서 타면 노면의 진동 때문에 손목이 덜덜덜 떨리고 이...   \n",
              "4     00005                     안장도 딱딱해서 엉덩이가 아팠는데 무시하고 타고 있다.   \n",
              "...     ...                                                ...   \n",
              "2996  02997                                               (슬픔)   \n",
              "2997  02998                                          보드랍고 괜찮다!   \n",
              "2998  02999          #일본 유니클로 질이 우리나라보다 좋은 것 같으면 기분 탓인가.......   \n",
              "2999  03000                                 마지막으로 귀여워서 집어온 모자.   \n",
              "3000  03001                                  일본유니클로 사랑해!!!!!!!   \n",
              "\n",
              "                                   annotation     label  \n",
              "0           [[본품#품질, [기어, 16, 18], negative]]  negative  \n",
              "1        [[본품#품질, [기어 텐션, 67, 72], negative]]  negative  \n",
              "2        [[제품 전체#일반, [None, 0, 0], positive]]  positive  \n",
              "3     [[제품 전체#일반, [샥이 없는 모델, 0, 8], neutral]]   neutral  \n",
              "4             [[본품#일반, [안장, 0, 2], negative]]  negative  \n",
              "...                                       ...       ...  \n",
              "2996     [[제품 전체#가격, [None, 0, 0], negative]]  negative  \n",
              "2997     [[제품 전체#품질, [None, 0, 0], positive]]  positive  \n",
              "2998        [[브랜드#일반, [유니클로, 4, 8], neutral]]   neutral  \n",
              "2999    [[제품 전체#디자인, [모자, 15, 17], positive]]  positive  \n",
              "3000     [[브랜드#일반, [일본유니클로, 0, 6], positive]]  positive  \n",
              "\n",
              "[3001 rows x 4 columns]"
            ]
          },
          "execution_count": 13,
          "metadata": {},
          "output_type": "execute_result"
        }
      ],
      "source": [
        "df_train['label'] = df_train['annotation'].str[0]\n",
        "df_train['label'] = df_train['label'].str[-1]\n",
        "df_train"
      ]
    },
    {
      "cell_type": "code",
      "execution_count": null,
      "id": "6116f0eb",
      "metadata": {
        "scrolled": true,
        "id": "6116f0eb",
        "outputId": "2807afd2-0f8c-4bfb-af7b-d4d49c6a922c"
      },
      "outputs": [
        {
          "name": "stdout",
          "output_type": "stream",
          "text": [
            "id               0\n",
            "sentence_form    0\n",
            "annotation       0\n",
            "label            0\n",
            "dtype: int64\n"
          ]
        }
      ],
      "source": [
        "print(df_train.isnull().sum())"
      ]
    },
    {
      "cell_type": "raw",
      "id": "e0b0152e",
      "metadata": {
        "id": "e0b0152e"
      },
      "source": [
        "eng_text = 'do!!! you expect... people~ to~ read~ the FAQ, etc. and actually accept hard~! atheism?@@'\n",
        "print(re.sub(r'[^a-zA-Z ]', '', eng_text))"
      ]
    },
    {
      "cell_type": "code",
      "execution_count": null,
      "id": "28b4d420",
      "metadata": {
        "scrolled": true,
        "id": "28b4d420",
        "outputId": "06ef54ad-5a1e-419c-fbe0-105d219eecf5"
      },
      "outputs": [
        {
          "name": "stderr",
          "output_type": "stream",
          "text": [
            "C:\\Users\\pnu\\AppData\\Local\\Temp\\ipykernel_1612\\820094974.py:2: FutureWarning: The default value of regex will change from True to False in a future version.\n",
            "  df_train['sentence_form'] = df_train['sentence_form'].str.replace(\"[^ㄱ-ㅎㅏ-ㅣ가-힣a-zA-Z ]\",\"\")\n"
          ]
        },
        {
          "data": {
            "text/html": [
              "<div>\n",
              "<style scoped>\n",
              "    .dataframe tbody tr th:only-of-type {\n",
              "        vertical-align: middle;\n",
              "    }\n",
              "\n",
              "    .dataframe tbody tr th {\n",
              "        vertical-align: top;\n",
              "    }\n",
              "\n",
              "    .dataframe thead th {\n",
              "        text-align: right;\n",
              "    }\n",
              "</style>\n",
              "<table border=\"1\" class=\"dataframe\">\n",
              "  <thead>\n",
              "    <tr style=\"text-align: right;\">\n",
              "      <th></th>\n",
              "      <th>id</th>\n",
              "      <th>sentence_form</th>\n",
              "      <th>annotation</th>\n",
              "      <th>label</th>\n",
              "    </tr>\n",
              "  </thead>\n",
              "  <tbody>\n",
              "    <tr>\n",
              "      <th>0</th>\n",
              "      <td>00001</td>\n",
              "      <td>둘쨋날은 미친듯이 밟아봤더니 기어가 헛돌면서 틱틱 소리가 나서 경악</td>\n",
              "      <td>[[본품#품질, [기어, 16, 18], negative]]</td>\n",
              "      <td>negative</td>\n",
              "    </tr>\n",
              "    <tr>\n",
              "      <th>1</th>\n",
              "      <td>00002</td>\n",
              "      <td>이거 뭐 삐꾸를 준 거 아냐 불안하고 거금 투자한 게 왜 이래 싶어서 정이 확 떨어...</td>\n",
              "      <td>[[본품#품질, [기어 텐션, 67, 72], negative]]</td>\n",
              "      <td>negative</td>\n",
              "    </tr>\n",
              "    <tr>\n",
              "      <th>2</th>\n",
              "      <td>00003</td>\n",
              "      <td>간사하게도 그 이후에는 라이딩이 아주 즐거워져서 만족스럽게 탔다</td>\n",
              "      <td>[[제품 전체#일반, [None, 0, 0], positive]]</td>\n",
              "      <td>positive</td>\n",
              "    </tr>\n",
              "    <tr>\n",
              "      <th>3</th>\n",
              "      <td>00004</td>\n",
              "      <td>샥이 없는 모델이라 일반 도로에서 타면 노면의 진동 때문에 손목이 덜덜덜 떨리고 이...</td>\n",
              "      <td>[[제품 전체#일반, [샥이 없는 모델, 0, 8], neutral]]</td>\n",
              "      <td>neutral</td>\n",
              "    </tr>\n",
              "    <tr>\n",
              "      <th>4</th>\n",
              "      <td>00005</td>\n",
              "      <td>안장도 딱딱해서 엉덩이가 아팠는데 무시하고 타고 있다</td>\n",
              "      <td>[[본품#일반, [안장, 0, 2], negative]]</td>\n",
              "      <td>negative</td>\n",
              "    </tr>\n",
              "  </tbody>\n",
              "</table>\n",
              "</div>"
            ],
            "text/plain": [
              "      id                                      sentence_form  \\\n",
              "0  00001              둘쨋날은 미친듯이 밟아봤더니 기어가 헛돌면서 틱틱 소리가 나서 경악   \n",
              "1  00002  이거 뭐 삐꾸를 준 거 아냐 불안하고 거금 투자한 게 왜 이래 싶어서 정이 확 떨어...   \n",
              "2  00003                간사하게도 그 이후에는 라이딩이 아주 즐거워져서 만족스럽게 탔다   \n",
              "3  00004  샥이 없는 모델이라 일반 도로에서 타면 노면의 진동 때문에 손목이 덜덜덜 떨리고 이...   \n",
              "4  00005                      안장도 딱딱해서 엉덩이가 아팠는데 무시하고 타고 있다   \n",
              "\n",
              "                                annotation     label  \n",
              "0        [[본품#품질, [기어, 16, 18], negative]]  negative  \n",
              "1     [[본품#품질, [기어 텐션, 67, 72], negative]]  negative  \n",
              "2     [[제품 전체#일반, [None, 0, 0], positive]]  positive  \n",
              "3  [[제품 전체#일반, [샥이 없는 모델, 0, 8], neutral]]   neutral  \n",
              "4          [[본품#일반, [안장, 0, 2], negative]]  negative  "
            ]
          },
          "execution_count": 16,
          "metadata": {},
          "output_type": "execute_result"
        }
      ],
      "source": [
        "# 한글과 공백을 제외하고 모두 제거\n",
        "df_train['sentence_form'] = df_train['sentence_form'].str.replace(\"[^ㄱ-ㅎㅏ-ㅣ가-힣a-zA-Z ]\",\"\")\n",
        "df_train[:5]"
      ]
    },
    {
      "cell_type": "code",
      "execution_count": null,
      "id": "db8d6775",
      "metadata": {
        "scrolled": true,
        "id": "db8d6775",
        "outputId": "e7dbe850-701f-4411-c70c-cea398c50596"
      },
      "outputs": [
        {
          "name": "stdout",
          "output_type": "stream",
          "text": [
            "id               0\n",
            "sentence_form    0\n",
            "annotation       0\n",
            "label            0\n",
            "dtype: int64\n"
          ]
        }
      ],
      "source": [
        "print(df_train.isnull().sum())"
      ]
    },
    {
      "cell_type": "code",
      "execution_count": null,
      "id": "f103a721",
      "metadata": {
        "id": "f103a721",
        "outputId": "1b479951-2177-4a4a-a1c1-55af03ecd0d3"
      },
      "outputs": [
        {
          "name": "stderr",
          "output_type": "stream",
          "text": [
            "C:\\Users\\pnu\\AppData\\Local\\Temp\\ipykernel_1612\\156374660.py:1: FutureWarning: The default value of regex will change from True to False in a future version.\n",
            "  df_train['sentence_form'] = df_train['sentence_form'].str.replace('^ +', \"\") # 공백은 empty 값으로 변경\n"
          ]
        }
      ],
      "source": [
        "df_train['sentence_form'] = df_train['sentence_form'].str.replace('^ +', \"\") # 공백은 empty 값으로 변경"
      ]
    },
    {
      "cell_type": "code",
      "execution_count": null,
      "id": "c9c1318c",
      "metadata": {
        "scrolled": false,
        "id": "c9c1318c",
        "outputId": "fefbf814-5961-48d0-c564-07db9390542b"
      },
      "outputs": [
        {
          "name": "stdout",
          "output_type": "stream",
          "text": [
            "전처리 후 테스트용 샘플의 개수 : 2127\n"
          ]
        },
        {
          "name": "stderr",
          "output_type": "stream",
          "text": [
            "C:\\Users\\pnu\\AppData\\Local\\Temp\\ipykernel_1612\\4260889883.py:1: FutureWarning: The default value of regex will change from True to False in a future version.\n",
            "  df_test['sentence_form'] = df_test['sentence_form'].str.replace(\"[^ㄱ-ㅎㅏ-ㅣ가-힣a-zA-Z ]\",\"\") # 정규 표현식 수행\n",
            "C:\\Users\\pnu\\AppData\\Local\\Temp\\ipykernel_1612\\4260889883.py:2: FutureWarning: The default value of regex will change from True to False in a future version.\n",
            "  df_test['sentence_form'] = df_test['sentence_form'].str.replace('^ +', \"\") # 공백은 empty 값으로 변경\n"
          ]
        }
      ],
      "source": [
        "df_test['sentence_form'] = df_test['sentence_form'].str.replace(\"[^ㄱ-ㅎㅏ-ㅣ가-힣a-zA-Z ]\",\"\") # 정규 표현식 수행\n",
        "df_test['sentence_form'] = df_test['sentence_form'].str.replace('^ +', \"\") # 공백은 empty 값으로 변경\n",
        "df_test['sentence_form'].replace('', np.nan, inplace=True) # 공백은 Null 값으로 변경\n",
        "df_test = df_test.dropna(how='any') # Null 값 제거\n",
        "print('전처리 후 테스트용 샘플의 개수 :',len(df_test))"
      ]
    },
    {
      "cell_type": "code",
      "execution_count": null,
      "id": "dbb6d4b8",
      "metadata": {
        "id": "dbb6d4b8"
      },
      "outputs": [],
      "source": [
        "stopwords = ['의','가','이','은','들','는','좀','잘','걍','과','도','를','으로','자','에','와','한','하다']"
      ]
    },
    {
      "cell_type": "code",
      "execution_count": null,
      "id": "dd367d0c",
      "metadata": {
        "id": "dd367d0c",
        "outputId": "09fa0f2f-bbce-4f1a-cae5-4ac948b194ca"
      },
      "outputs": [
        {
          "data": {
            "text/plain": [
              "['오다', '이렇다', '것', '도', '영화', '라고', '차라리', '뮤직비디오', '를', '만들다', '게', '나다', '뻔']"
            ]
          },
          "execution_count": 21,
          "metadata": {},
          "output_type": "execute_result"
        }
      ],
      "source": [
        "okt = Okt()\n",
        "okt.morphs('와 이런 것도 영화라고 차라리 뮤직비디오를 만드는 게 나을 뻔', stem = True)"
      ]
    },
    {
      "cell_type": "code",
      "execution_count": null,
      "id": "e001c098",
      "metadata": {
        "id": "e001c098",
        "outputId": "9ad77242-e1ae-4d98-9740-a0e8c1461411"
      },
      "outputs": [
        {
          "name": "stderr",
          "output_type": "stream",
          "text": [
            "100%|█████████████████████████████████████████████████████████████████████████████| 3001/3001 [00:04<00:00, 686.82it/s]\n"
          ]
        }
      ],
      "source": [
        "X_train = []\n",
        "for sentence in tqdm(df_train['sentence_form']):\n",
        "    tokenized_sentence = okt.morphs(sentence, stem=True) # 토큰화\n",
        "    stopwords_removed_sentence = [word for word in tokenized_sentence if not word in stopwords] # 불용어 제거\n",
        "    X_train.append(stopwords_removed_sentence)"
      ]
    },
    {
      "cell_type": "code",
      "execution_count": null,
      "id": "bc0cd53e",
      "metadata": {
        "id": "bc0cd53e",
        "outputId": "a2d6e017-b707-4ecd-ab09-0dbdde5e8e05"
      },
      "outputs": [
        {
          "name": "stdout",
          "output_type": "stream",
          "text": [
            "[['둘쨋', '날', '미치다', '밟다', '보다', '기어', '헛돌면', '서', '틱틱', '소리', '나서다', '경악'], ['거', '뭐', '삐', '꾸다', '준', '거', '알다', '불안하다', '거금', '투자', '게', '왜', '이렇다', '싶다', '정이', '확', '떨어지다', '산', '곳', '가져가다', '확인', '기어', '텐션', '문제', '라고', '고장', '아니다'], ['간사하다', '그', '이후', '에는', '라이딩', '아주', '즐겁다', '만족', '스럽게', '타다']]\n"
          ]
        }
      ],
      "source": [
        "print(X_train[:3])"
      ]
    },
    {
      "cell_type": "code",
      "execution_count": null,
      "id": "dba0b3e3",
      "metadata": {
        "scrolled": true,
        "id": "dba0b3e3",
        "outputId": "e6ef93e1-5fd6-4378-a4cc-3a6ba45421fd"
      },
      "outputs": [
        {
          "name": "stderr",
          "output_type": "stream",
          "text": [
            "100%|█████████████████████████████████████████████████████████████████████████████| 2127/2127 [00:03<00:00, 566.12it/s]\n"
          ]
        }
      ],
      "source": [
        "X_test = []\n",
        "for sentence in tqdm(df_test['sentence_form']):\n",
        "    tokenized_sentence = okt.morphs(sentence, stem=True) # 토큰화\n",
        "    stopwords_removed_sentence = [word for word in tokenized_sentence if not word in stopwords] # 불용어 제거\n",
        "    X_test.append(stopwords_removed_sentence)"
      ]
    },
    {
      "cell_type": "code",
      "execution_count": null,
      "id": "a884e712",
      "metadata": {
        "id": "a884e712"
      },
      "outputs": [],
      "source": [
        "# 따라한거\n",
        "tokenizer = Tokenizer()\n",
        "tokenizer.fit_on_texts(X_train)"
      ]
    },
    {
      "cell_type": "raw",
      "id": "7855bb30",
      "metadata": {
        "id": "7855bb30"
      },
      "source": [
        "# 일렉트라\n",
        "tokenizer = ElectraTokenizer.from_pretrained(\"monologg/koelectra-base-v3-discriminator\")\n",
        "tokenizer.fit_on_texts(X_train)"
      ]
    },
    {
      "cell_type": "code",
      "execution_count": null,
      "id": "cf9df51a",
      "metadata": {
        "scrolled": true,
        "id": "cf9df51a",
        "outputId": "88dccf8c-418d-49bb-c549-9a63c6983bba"
      },
      "outputs": [
        {
          "name": "stdout",
          "output_type": "stream",
          "text": [
            "단어 집합(vocabulary)의 크기 : 5418\n",
            "등장 빈도가 2번 이하인 희귀 단어의 수: 3440\n",
            "단어 집합에서 희귀 단어의 비율: 63.49206349206349\n",
            "전체 등장 빈도에서 희귀 단어 등장 빈도 비율: 13.351287766220901\n"
          ]
        }
      ],
      "source": [
        "threshold = 3\n",
        "total_cnt = len(tokenizer.word_index) # 단어의 수\n",
        "rare_cnt = 0 # 등장 빈도수가 threshold보다 작은 단어의 개수를 카운트\n",
        "total_freq = 0 # 훈련 데이터의 전체 단어 빈도수 총 합\n",
        "rare_freq = 0 # 등장 빈도수가 threshold보다 작은 단어의 등장 빈도수의 총 합\n",
        "\n",
        "# 단어와 빈도수의 쌍(pair)을 key와 value로 받는다.\n",
        "for key, value in tokenizer.word_counts.items():\n",
        "    total_freq = total_freq + value\n",
        "\n",
        "    # 단어의 등장 빈도수가 threshold보다 작으면\n",
        "    if(value < threshold):\n",
        "        rare_cnt = rare_cnt + 1\n",
        "        rare_freq = rare_freq + value\n",
        "\n",
        "print('단어 집합(vocabulary)의 크기 :',total_cnt)\n",
        "print('등장 빈도가 %s번 이하인 희귀 단어의 수: %s'%(threshold - 1, rare_cnt))\n",
        "print(\"단어 집합에서 희귀 단어의 비율:\", (rare_cnt / total_cnt)*100)\n",
        "print(\"전체 등장 빈도에서 희귀 단어 등장 빈도 비율:\", (rare_freq / total_freq)*100)"
      ]
    },
    {
      "cell_type": "code",
      "execution_count": null,
      "id": "f182f227",
      "metadata": {
        "id": "f182f227",
        "outputId": "d5032832-e483-496e-bda4-02913198d087"
      },
      "outputs": [
        {
          "name": "stdout",
          "output_type": "stream",
          "text": [
            "단어 집합의 크기 : 1979\n"
          ]
        }
      ],
      "source": [
        "# 전체 단어 개수 중 빈도수 2이하인 단어는 제거.\n",
        "# 0번 패딩 토큰을 고려하여 + 1\n",
        "vocab_size = total_cnt - rare_cnt + 1\n",
        "print('단어 집합의 크기 :',vocab_size)"
      ]
    },
    {
      "cell_type": "code",
      "execution_count": null,
      "id": "13c079a6",
      "metadata": {
        "id": "13c079a6"
      },
      "outputs": [],
      "source": [
        "tokenizer = Tokenizer(vocab_size)\n",
        "tokenizer.fit_on_texts(X_train)\n",
        "X_train = tokenizer.texts_to_sequences(X_train)\n",
        "X_test = tokenizer.texts_to_sequences(X_test)"
      ]
    },
    {
      "cell_type": "code",
      "execution_count": null,
      "id": "6f4ea934",
      "metadata": {
        "id": "6f4ea934",
        "outputId": "b6a3e312-3615-4f0a-a5af-3a5a656d1a2b"
      },
      "outputs": [
        {
          "name": "stdout",
          "output_type": "stream",
          "text": [
            "[[173, 623, 12, 704, 215, 705, 796], [52, 387, 1492, 52, 344, 1030, 107, 490, 345, 89, 706, 624, 625, 330, 1493, 797, 704, 1031, 898, 1494, 113], [178, 1220, 298, 299, 565, 241, 421, 798]]\n"
          ]
        }
      ],
      "source": [
        "print(X_train[:3])"
      ]
    },
    {
      "cell_type": "code",
      "execution_count": null,
      "id": "9a2aed73",
      "metadata": {
        "id": "9a2aed73"
      },
      "outputs": [],
      "source": [
        "y_train = np.array(df_train['label'])\n",
        "y_test = np.array(df_test['label'])"
      ]
    },
    {
      "cell_type": "code",
      "execution_count": null,
      "id": "bf0406a4",
      "metadata": {
        "id": "bf0406a4"
      },
      "outputs": [],
      "source": [
        "drop_train = [index for index, sentence in enumerate(X_train) if len(sentence) < 1]"
      ]
    },
    {
      "cell_type": "code",
      "execution_count": null,
      "id": "83c44c71",
      "metadata": {
        "id": "83c44c71",
        "outputId": "450dcd3e-965c-462a-bf8c-d51cf04a3454"
      },
      "outputs": [
        {
          "name": "stdout",
          "output_type": "stream",
          "text": [
            "2995\n",
            "2995\n"
          ]
        },
        {
          "name": "stderr",
          "output_type": "stream",
          "text": [
            "C:\\Users\\pnu\\anaconda3\\lib\\site-packages\\numpy\\lib\\function_base.py:4454: VisibleDeprecationWarning: Creating an ndarray from ragged nested sequences (which is a list-or-tuple of lists-or-tuples-or ndarrays with different lengths or shapes) is deprecated. If you meant to do this, you must specify 'dtype=object' when creating the ndarray.\n",
            "  arr = asarray(arr)\n"
          ]
        }
      ],
      "source": [
        "# 빈 샘플들을 제거\n",
        "X_train = np.delete(X_train, drop_train, axis=0)\n",
        "y_train = np.delete(y_train, drop_train, axis=0)\n",
        "print(len(X_train))\n",
        "print(len(y_train))"
      ]
    },
    {
      "cell_type": "raw",
      "id": "31556fe8",
      "metadata": {
        "id": "31556fe8"
      },
      "source": [
        "# 커널 터짐\n",
        "print('리뷰의 최대 길이 :',max(len(review) for review in X_train))\n",
        "print('리뷰의 평균 길이 :',sum(map(len, X_train))/len(X_train))\n",
        "plt.hist([len(review) for review in X_train], bins=1)\n",
        "plt.xlabel('length of samples')\n",
        "plt.ylabel('number of samples')\n",
        "plt.show()"
      ]
    },
    {
      "cell_type": "code",
      "execution_count": null,
      "id": "371c64c9",
      "metadata": {
        "id": "371c64c9"
      },
      "outputs": [],
      "source": [
        "def below_threshold_len(max_len, nested_list):\n",
        "  count = 0\n",
        "  for sentence in nested_list:\n",
        "    if(len(sentence) <= max_len):\n",
        "        count = count + 1\n",
        "  print('전체 샘플 중 길이가 %s 이하인 샘플의 비율: %s'%(max_len, (count / len(nested_list))*100))"
      ]
    },
    {
      "cell_type": "code",
      "execution_count": null,
      "id": "b0b2c7be",
      "metadata": {
        "id": "b0b2c7be",
        "outputId": "459214f2-dbb0-4285-d478-ce86053a0529"
      },
      "outputs": [
        {
          "name": "stdout",
          "output_type": "stream",
          "text": [
            "전체 샘플 중 길이가 30 이하인 샘플의 비율: 99.26544240400668\n"
          ]
        }
      ],
      "source": [
        "max_len = 30\n",
        "below_threshold_len(max_len, X_train)"
      ]
    },
    {
      "cell_type": "code",
      "execution_count": null,
      "id": "e8470791",
      "metadata": {
        "id": "e8470791"
      },
      "outputs": [],
      "source": [
        "X_train = pad_sequences(X_train, maxlen=max_len)\n",
        "X_test = pad_sequences(X_test, maxlen=max_len)"
      ]
    },
    {
      "cell_type": "code",
      "execution_count": null,
      "id": "20151b25",
      "metadata": {
        "id": "20151b25",
        "outputId": "51c46f47-ca42-4b46-eeab-d3f3e41cde54"
      },
      "outputs": [
        {
          "name": "stdout",
          "output_type": "stream",
          "text": [
            "Epoch 1/5\n"
          ]
        },
        {
          "ename": "UnimplementedError",
          "evalue": "Graph execution error:\n\nDetected at node 'binary_crossentropy/Cast' defined at (most recent call last):\n    File \"C:\\Users\\pnu\\anaconda3\\lib\\runpy.py\", line 197, in _run_module_as_main\n      return _run_code(code, main_globals, None,\n    File \"C:\\Users\\pnu\\anaconda3\\lib\\runpy.py\", line 87, in _run_code\n      exec(code, run_globals)\n    File \"C:\\Users\\pnu\\AppData\\Roaming\\Python\\Python39\\site-packages\\ipykernel_launcher.py\", line 17, in <module>\n      app.launch_new_instance()\n    File \"C:\\Users\\pnu\\AppData\\Roaming\\Python\\Python39\\site-packages\\traitlets\\config\\application.py\", line 978, in launch_instance\n      app.start()\n    File \"C:\\Users\\pnu\\AppData\\Roaming\\Python\\Python39\\site-packages\\ipykernel\\kernelapp.py\", line 712, in start\n      self.io_loop.start()\n    File \"C:\\Users\\pnu\\AppData\\Roaming\\Python\\Python39\\site-packages\\tornado\\platform\\asyncio.py\", line 215, in start\n      self.asyncio_loop.run_forever()\n    File \"C:\\Users\\pnu\\anaconda3\\lib\\asyncio\\base_events.py\", line 601, in run_forever\n      self._run_once()\n    File \"C:\\Users\\pnu\\anaconda3\\lib\\asyncio\\base_events.py\", line 1905, in _run_once\n      handle._run()\n    File \"C:\\Users\\pnu\\anaconda3\\lib\\asyncio\\events.py\", line 80, in _run\n      self._context.run(self._callback, *self._args)\n    File \"C:\\Users\\pnu\\AppData\\Roaming\\Python\\Python39\\site-packages\\ipykernel\\kernelbase.py\", line 510, in dispatch_queue\n      await self.process_one()\n    File \"C:\\Users\\pnu\\AppData\\Roaming\\Python\\Python39\\site-packages\\ipykernel\\kernelbase.py\", line 499, in process_one\n      await dispatch(*args)\n    File \"C:\\Users\\pnu\\AppData\\Roaming\\Python\\Python39\\site-packages\\ipykernel\\kernelbase.py\", line 406, in dispatch_shell\n      await result\n    File \"C:\\Users\\pnu\\AppData\\Roaming\\Python\\Python39\\site-packages\\ipykernel\\kernelbase.py\", line 730, in execute_request\n      reply_content = await reply_content\n    File \"C:\\Users\\pnu\\AppData\\Roaming\\Python\\Python39\\site-packages\\ipykernel\\ipkernel.py\", line 383, in do_execute\n      res = shell.run_cell(\n    File \"C:\\Users\\pnu\\AppData\\Roaming\\Python\\Python39\\site-packages\\ipykernel\\zmqshell.py\", line 528, in run_cell\n      return super().run_cell(*args, **kwargs)\n    File \"C:\\Users\\pnu\\AppData\\Roaming\\Python\\Python39\\site-packages\\IPython\\core\\interactiveshell.py\", line 2885, in run_cell\n      result = self._run_cell(\n    File \"C:\\Users\\pnu\\AppData\\Roaming\\Python\\Python39\\site-packages\\IPython\\core\\interactiveshell.py\", line 2940, in _run_cell\n      return runner(coro)\n    File \"C:\\Users\\pnu\\AppData\\Roaming\\Python\\Python39\\site-packages\\IPython\\core\\async_helpers.py\", line 129, in _pseudo_sync_runner\n      coro.send(None)\n    File \"C:\\Users\\pnu\\AppData\\Roaming\\Python\\Python39\\site-packages\\IPython\\core\\interactiveshell.py\", line 3139, in run_cell_async\n      has_raised = await self.run_ast_nodes(code_ast.body, cell_name,\n    File \"C:\\Users\\pnu\\AppData\\Roaming\\Python\\Python39\\site-packages\\IPython\\core\\interactiveshell.py\", line 3318, in run_ast_nodes\n      if await self.run_code(code, result, async_=asy):\n    File \"C:\\Users\\pnu\\AppData\\Roaming\\Python\\Python39\\site-packages\\IPython\\core\\interactiveshell.py\", line 3378, in run_code\n      exec(code_obj, self.user_global_ns, self.user_ns)\n    File \"C:\\Users\\pnu\\AppData\\Local\\Temp\\ipykernel_1612\\3074243771.py\", line 18, in <module>\n      history = model.fit(X_train, y_train, epochs=5, callbacks=[es, mc], batch_size=64, validation_split=0.2)\n    File \"C:\\Users\\pnu\\anaconda3\\lib\\site-packages\\keras\\utils\\traceback_utils.py\", line 64, in error_handler\n      return fn(*args, **kwargs)\n    File \"C:\\Users\\pnu\\anaconda3\\lib\\site-packages\\keras\\engine\\training.py\", line 1409, in fit\n      tmp_logs = self.train_function(iterator)\n    File \"C:\\Users\\pnu\\anaconda3\\lib\\site-packages\\keras\\engine\\training.py\", line 1051, in train_function\n      return step_function(self, iterator)\n    File \"C:\\Users\\pnu\\anaconda3\\lib\\site-packages\\keras\\engine\\training.py\", line 1040, in step_function\n      outputs = model.distribute_strategy.run(run_step, args=(data,))\n    File \"C:\\Users\\pnu\\anaconda3\\lib\\site-packages\\keras\\engine\\training.py\", line 1030, in run_step\n      outputs = model.train_step(data)\n    File \"C:\\Users\\pnu\\anaconda3\\lib\\site-packages\\keras\\engine\\training.py\", line 890, in train_step\n      loss = self.compute_loss(x, y, y_pred, sample_weight)\n    File \"C:\\Users\\pnu\\anaconda3\\lib\\site-packages\\keras\\engine\\training.py\", line 948, in compute_loss\n      return self.compiled_loss(\n    File \"C:\\Users\\pnu\\anaconda3\\lib\\site-packages\\keras\\engine\\compile_utils.py\", line 201, in __call__\n      loss_value = loss_obj(y_t, y_p, sample_weight=sw)\n    File \"C:\\Users\\pnu\\anaconda3\\lib\\site-packages\\keras\\losses.py\", line 139, in __call__\n      losses = call_fn(y_true, y_pred)\n    File \"C:\\Users\\pnu\\anaconda3\\lib\\site-packages\\keras\\losses.py\", line 243, in call\n      return ag_fn(y_true, y_pred, **self._fn_kwargs)\n    File \"C:\\Users\\pnu\\anaconda3\\lib\\site-packages\\keras\\losses.py\", line 1920, in binary_crossentropy\n      y_true = tf.cast(y_true, y_pred.dtype)\nNode: 'binary_crossentropy/Cast'\nCast string to float is not supported\n\t [[{{node binary_crossentropy/Cast}}]] [Op:__inference_train_function_30123]",
          "output_type": "error",
          "traceback": [
            "\u001b[1;31m---------------------------------------------------------------------------\u001b[0m",
            "\u001b[1;31mUnimplementedError\u001b[0m                        Traceback (most recent call last)",
            "Cell \u001b[1;32mIn [52], line 18\u001b[0m\n\u001b[0;32m     15\u001b[0m mc \u001b[38;5;241m=\u001b[39m ModelCheckpoint(\u001b[38;5;124m'\u001b[39m\u001b[38;5;124mbest_model.h5\u001b[39m\u001b[38;5;124m'\u001b[39m, monitor\u001b[38;5;241m=\u001b[39m\u001b[38;5;124m'\u001b[39m\u001b[38;5;124mval_acc\u001b[39m\u001b[38;5;124m'\u001b[39m, mode\u001b[38;5;241m=\u001b[39m\u001b[38;5;124m'\u001b[39m\u001b[38;5;124mmax\u001b[39m\u001b[38;5;124m'\u001b[39m, verbose\u001b[38;5;241m=\u001b[39m\u001b[38;5;241m1\u001b[39m, save_best_only\u001b[38;5;241m=\u001b[39m\u001b[38;5;28;01mTrue\u001b[39;00m)\n\u001b[0;32m     17\u001b[0m model\u001b[38;5;241m.\u001b[39mcompile(optimizer\u001b[38;5;241m=\u001b[39m\u001b[38;5;124m'\u001b[39m\u001b[38;5;124mrmsprop\u001b[39m\u001b[38;5;124m'\u001b[39m, loss\u001b[38;5;241m=\u001b[39m\u001b[38;5;124m'\u001b[39m\u001b[38;5;124mbinary_crossentropy\u001b[39m\u001b[38;5;124m'\u001b[39m, metrics\u001b[38;5;241m=\u001b[39m[\u001b[38;5;124m'\u001b[39m\u001b[38;5;124macc\u001b[39m\u001b[38;5;124m'\u001b[39m])\n\u001b[1;32m---> 18\u001b[0m history \u001b[38;5;241m=\u001b[39m model\u001b[38;5;241m.\u001b[39mfit(X_train, y_train, epochs\u001b[38;5;241m=\u001b[39m\u001b[38;5;241m5\u001b[39m, callbacks\u001b[38;5;241m=\u001b[39m[es, mc], batch_size\u001b[38;5;241m=\u001b[39m\u001b[38;5;241m64\u001b[39m, validation_split\u001b[38;5;241m=\u001b[39m\u001b[38;5;241m0.2\u001b[39m)\n",
            "File \u001b[1;32m~\\anaconda3\\lib\\site-packages\\keras\\utils\\traceback_utils.py:67\u001b[0m, in \u001b[0;36mfilter_traceback.<locals>.error_handler\u001b[1;34m(*args, **kwargs)\u001b[0m\n\u001b[0;32m     65\u001b[0m \u001b[38;5;28;01mexcept\u001b[39;00m \u001b[38;5;167;01mException\u001b[39;00m \u001b[38;5;28;01mas\u001b[39;00m e:  \u001b[38;5;66;03m# pylint: disable=broad-except\u001b[39;00m\n\u001b[0;32m     66\u001b[0m   filtered_tb \u001b[38;5;241m=\u001b[39m _process_traceback_frames(e\u001b[38;5;241m.\u001b[39m__traceback__)\n\u001b[1;32m---> 67\u001b[0m   \u001b[38;5;28;01mraise\u001b[39;00m e\u001b[38;5;241m.\u001b[39mwith_traceback(filtered_tb) \u001b[38;5;28;01mfrom\u001b[39;00m \u001b[38;5;28mNone\u001b[39m\n\u001b[0;32m     68\u001b[0m \u001b[38;5;28;01mfinally\u001b[39;00m:\n\u001b[0;32m     69\u001b[0m   \u001b[38;5;28;01mdel\u001b[39;00m filtered_tb\n",
            "File \u001b[1;32m~\\anaconda3\\lib\\site-packages\\tensorflow\\python\\eager\\execute.py:54\u001b[0m, in \u001b[0;36mquick_execute\u001b[1;34m(op_name, num_outputs, inputs, attrs, ctx, name)\u001b[0m\n\u001b[0;32m     52\u001b[0m \u001b[38;5;28;01mtry\u001b[39;00m:\n\u001b[0;32m     53\u001b[0m   ctx\u001b[38;5;241m.\u001b[39mensure_initialized()\n\u001b[1;32m---> 54\u001b[0m   tensors \u001b[38;5;241m=\u001b[39m pywrap_tfe\u001b[38;5;241m.\u001b[39mTFE_Py_Execute(ctx\u001b[38;5;241m.\u001b[39m_handle, device_name, op_name,\n\u001b[0;32m     55\u001b[0m                                       inputs, attrs, num_outputs)\n\u001b[0;32m     56\u001b[0m \u001b[38;5;28;01mexcept\u001b[39;00m core\u001b[38;5;241m.\u001b[39m_NotOkStatusException \u001b[38;5;28;01mas\u001b[39;00m e:\n\u001b[0;32m     57\u001b[0m   \u001b[38;5;28;01mif\u001b[39;00m name \u001b[38;5;129;01mis\u001b[39;00m \u001b[38;5;129;01mnot\u001b[39;00m \u001b[38;5;28;01mNone\u001b[39;00m:\n",
            "\u001b[1;31mUnimplementedError\u001b[0m: Graph execution error:\n\nDetected at node 'binary_crossentropy/Cast' defined at (most recent call last):\n    File \"C:\\Users\\pnu\\anaconda3\\lib\\runpy.py\", line 197, in _run_module_as_main\n      return _run_code(code, main_globals, None,\n    File \"C:\\Users\\pnu\\anaconda3\\lib\\runpy.py\", line 87, in _run_code\n      exec(code, run_globals)\n    File \"C:\\Users\\pnu\\AppData\\Roaming\\Python\\Python39\\site-packages\\ipykernel_launcher.py\", line 17, in <module>\n      app.launch_new_instance()\n    File \"C:\\Users\\pnu\\AppData\\Roaming\\Python\\Python39\\site-packages\\traitlets\\config\\application.py\", line 978, in launch_instance\n      app.start()\n    File \"C:\\Users\\pnu\\AppData\\Roaming\\Python\\Python39\\site-packages\\ipykernel\\kernelapp.py\", line 712, in start\n      self.io_loop.start()\n    File \"C:\\Users\\pnu\\AppData\\Roaming\\Python\\Python39\\site-packages\\tornado\\platform\\asyncio.py\", line 215, in start\n      self.asyncio_loop.run_forever()\n    File \"C:\\Users\\pnu\\anaconda3\\lib\\asyncio\\base_events.py\", line 601, in run_forever\n      self._run_once()\n    File \"C:\\Users\\pnu\\anaconda3\\lib\\asyncio\\base_events.py\", line 1905, in _run_once\n      handle._run()\n    File \"C:\\Users\\pnu\\anaconda3\\lib\\asyncio\\events.py\", line 80, in _run\n      self._context.run(self._callback, *self._args)\n    File \"C:\\Users\\pnu\\AppData\\Roaming\\Python\\Python39\\site-packages\\ipykernel\\kernelbase.py\", line 510, in dispatch_queue\n      await self.process_one()\n    File \"C:\\Users\\pnu\\AppData\\Roaming\\Python\\Python39\\site-packages\\ipykernel\\kernelbase.py\", line 499, in process_one\n      await dispatch(*args)\n    File \"C:\\Users\\pnu\\AppData\\Roaming\\Python\\Python39\\site-packages\\ipykernel\\kernelbase.py\", line 406, in dispatch_shell\n      await result\n    File \"C:\\Users\\pnu\\AppData\\Roaming\\Python\\Python39\\site-packages\\ipykernel\\kernelbase.py\", line 730, in execute_request\n      reply_content = await reply_content\n    File \"C:\\Users\\pnu\\AppData\\Roaming\\Python\\Python39\\site-packages\\ipykernel\\ipkernel.py\", line 383, in do_execute\n      res = shell.run_cell(\n    File \"C:\\Users\\pnu\\AppData\\Roaming\\Python\\Python39\\site-packages\\ipykernel\\zmqshell.py\", line 528, in run_cell\n      return super().run_cell(*args, **kwargs)\n    File \"C:\\Users\\pnu\\AppData\\Roaming\\Python\\Python39\\site-packages\\IPython\\core\\interactiveshell.py\", line 2885, in run_cell\n      result = self._run_cell(\n    File \"C:\\Users\\pnu\\AppData\\Roaming\\Python\\Python39\\site-packages\\IPython\\core\\interactiveshell.py\", line 2940, in _run_cell\n      return runner(coro)\n    File \"C:\\Users\\pnu\\AppData\\Roaming\\Python\\Python39\\site-packages\\IPython\\core\\async_helpers.py\", line 129, in _pseudo_sync_runner\n      coro.send(None)\n    File \"C:\\Users\\pnu\\AppData\\Roaming\\Python\\Python39\\site-packages\\IPython\\core\\interactiveshell.py\", line 3139, in run_cell_async\n      has_raised = await self.run_ast_nodes(code_ast.body, cell_name,\n    File \"C:\\Users\\pnu\\AppData\\Roaming\\Python\\Python39\\site-packages\\IPython\\core\\interactiveshell.py\", line 3318, in run_ast_nodes\n      if await self.run_code(code, result, async_=asy):\n    File \"C:\\Users\\pnu\\AppData\\Roaming\\Python\\Python39\\site-packages\\IPython\\core\\interactiveshell.py\", line 3378, in run_code\n      exec(code_obj, self.user_global_ns, self.user_ns)\n    File \"C:\\Users\\pnu\\AppData\\Local\\Temp\\ipykernel_1612\\3074243771.py\", line 18, in <module>\n      history = model.fit(X_train, y_train, epochs=5, callbacks=[es, mc], batch_size=64, validation_split=0.2)\n    File \"C:\\Users\\pnu\\anaconda3\\lib\\site-packages\\keras\\utils\\traceback_utils.py\", line 64, in error_handler\n      return fn(*args, **kwargs)\n    File \"C:\\Users\\pnu\\anaconda3\\lib\\site-packages\\keras\\engine\\training.py\", line 1409, in fit\n      tmp_logs = self.train_function(iterator)\n    File \"C:\\Users\\pnu\\anaconda3\\lib\\site-packages\\keras\\engine\\training.py\", line 1051, in train_function\n      return step_function(self, iterator)\n    File \"C:\\Users\\pnu\\anaconda3\\lib\\site-packages\\keras\\engine\\training.py\", line 1040, in step_function\n      outputs = model.distribute_strategy.run(run_step, args=(data,))\n    File \"C:\\Users\\pnu\\anaconda3\\lib\\site-packages\\keras\\engine\\training.py\", line 1030, in run_step\n      outputs = model.train_step(data)\n    File \"C:\\Users\\pnu\\anaconda3\\lib\\site-packages\\keras\\engine\\training.py\", line 890, in train_step\n      loss = self.compute_loss(x, y, y_pred, sample_weight)\n    File \"C:\\Users\\pnu\\anaconda3\\lib\\site-packages\\keras\\engine\\training.py\", line 948, in compute_loss\n      return self.compiled_loss(\n    File \"C:\\Users\\pnu\\anaconda3\\lib\\site-packages\\keras\\engine\\compile_utils.py\", line 201, in __call__\n      loss_value = loss_obj(y_t, y_p, sample_weight=sw)\n    File \"C:\\Users\\pnu\\anaconda3\\lib\\site-packages\\keras\\losses.py\", line 139, in __call__\n      losses = call_fn(y_true, y_pred)\n    File \"C:\\Users\\pnu\\anaconda3\\lib\\site-packages\\keras\\losses.py\", line 243, in call\n      return ag_fn(y_true, y_pred, **self._fn_kwargs)\n    File \"C:\\Users\\pnu\\anaconda3\\lib\\site-packages\\keras\\losses.py\", line 1920, in binary_crossentropy\n      y_true = tf.cast(y_true, y_pred.dtype)\nNode: 'binary_crossentropy/Cast'\nCast string to float is not supported\n\t [[{{node binary_crossentropy/Cast}}]] [Op:__inference_train_function_30123]"
          ]
        }
      ],
      "source": [
        "from tensorflow.keras.layers import Embedding, Dense, LSTM\n",
        "from tensorflow.keras.models import Sequential\n",
        "from tensorflow.keras.models import load_model\n",
        "from tensorflow.keras.callbacks import EarlyStopping, ModelCheckpoint\n",
        "\n",
        "embedding_dim = 100\n",
        "hidden_units = 128\n",
        "\n",
        "model = Sequential()\n",
        "model.add(Embedding(vocab_size, embedding_dim))\n",
        "model.add(LSTM(hidden_units))\n",
        "model.add(Dense(1, activation='sigmoid'))\n",
        "\n",
        "es = EarlyStopping(monitor='val_loss', mode='min', verbose=1, patience=4)\n",
        "mc = ModelCheckpoint('best_model.h5', monitor='val_acc', mode='max', verbose=1, save_best_only=True)\n",
        "\n",
        "model.compile(optimizer='rmsprop', loss='binary_crossentropy', metrics=['acc'])\n",
        "history = model.fit(X_train, y_train, epochs=5, callbacks=[es, mc], batch_size=64, validation_split=0.2)"
      ]
    },
    {
      "cell_type": "code",
      "execution_count": null,
      "id": "4684ffe9",
      "metadata": {
        "id": "4684ffe9",
        "outputId": "7a5fcf99-e51c-4755-c5ca-8858da69d56c"
      },
      "outputs": [
        {
          "ename": "AttributeError",
          "evalue": "'numpy.ndarray' object has no attribute 'value_counts'",
          "output_type": "error",
          "traceback": [
            "\u001b[1;31m---------------------------------------------------------------------------\u001b[0m",
            "\u001b[1;31mAttributeError\u001b[0m                            Traceback (most recent call last)",
            "Cell \u001b[1;32mIn [48], line 6\u001b[0m\n\u001b[0;32m      3\u001b[0m \u001b[38;5;28;01mfrom\u001b[39;00m \u001b[38;5;21;01mtensorflow\u001b[39;00m\u001b[38;5;21;01m.\u001b[39;00m\u001b[38;5;21;01mkeras\u001b[39;00m\u001b[38;5;21;01m.\u001b[39;00m\u001b[38;5;21;01mmodels\u001b[39;00m \u001b[38;5;28;01mimport\u001b[39;00m load_model\n\u001b[0;32m      4\u001b[0m \u001b[38;5;28;01mfrom\u001b[39;00m \u001b[38;5;21;01mtensorflow\u001b[39;00m\u001b[38;5;21;01m.\u001b[39;00m\u001b[38;5;21;01mkeras\u001b[39;00m\u001b[38;5;21;01m.\u001b[39;00m\u001b[38;5;21;01mcallbacks\u001b[39;00m \u001b[38;5;28;01mimport\u001b[39;00m EarlyStopping, ModelCheckpoint\n\u001b[1;32m----> 6\u001b[0m out_nodes \u001b[38;5;241m=\u001b[39m \u001b[38;5;28mlen\u001b[39m(y_test\u001b[38;5;241m.\u001b[39mvalue_counts())\n\u001b[0;32m      7\u001b[0m loss_function \u001b[38;5;241m=\u001b[39m \u001b[38;5;124m'\u001b[39m\u001b[38;5;124mcategorical_crossentropy\u001b[39m\u001b[38;5;124m'\u001b[39m\n\u001b[0;32m      8\u001b[0m activation_function \u001b[38;5;241m=\u001b[39m \u001b[38;5;124m'\u001b[39m\u001b[38;5;124msoftmax\u001b[39m\u001b[38;5;124m'\u001b[39m\n",
            "\u001b[1;31mAttributeError\u001b[0m: 'numpy.ndarray' object has no attribute 'value_counts'"
          ]
        }
      ],
      "source": [
        "from tensorflow.keras.layers import Embedding, Dense, LSTM\n",
        "from tensorflow.keras.models import Sequential\n",
        "from tensorflow.keras.models import load_model\n",
        "from tensorflow.keras.callbacks import EarlyStopping, ModelCheckpoint\n",
        "\n",
        "out_nodes = len(y_test.value_counts())\n",
        "loss_function = 'categorical_crossentropy'\n",
        "activation_function = 'softmax'\n",
        "input_size = X.shape[1]\n",
        "y = to_categorical(y)\n",
        "model = Sequential()\n",
        "\n",
        "model.add(Dense(60, input_dim=input_size))\n",
        "model.add(Activation('relu'))\n",
        "\n",
        "model.add(Dense(40))\n",
        "model.add(Activation('relu'))\n",
        "\n",
        "model.add(Dense(20))\n",
        "model.add(Activation('relu'))\n",
        "\n",
        "model.add(Dense(out_nodes))\n",
        "model.add(Activation(activation_function))\n",
        "\n",
        "# 모델 컴파일\n",
        "model.compile(loss=loss_function, optimizer='adam', metrics=['accuracy'])\n",
        "model.summary()"
      ]
    },
    {
      "cell_type": "code",
      "execution_count": null,
      "id": "0f4fece1",
      "metadata": {
        "id": "0f4fece1"
      },
      "outputs": [],
      "source": [
        "# 학습 모델을 저장할 경로\n",
        "path = './model/22'\n",
        "\n",
        "# 만약 폴더가 있다면 삭제\n",
        "if os.path.isdir(path):\n",
        "    shutil.rmtree(path)\n",
        "\n",
        "# 폴더 생성\n",
        "os.makedirs(os.path.join(path))"
      ]
    },
    {
      "cell_type": "code",
      "execution_count": null,
      "id": "b74ea37b",
      "metadata": {
        "id": "b74ea37b"
      },
      "outputs": [],
      "source": [
        "#\n",
        "path1 = path + '/{epoch}-{val_loss}.h5'\n",
        "path2 = path + '/best_model.h5'\n",
        "\n",
        "# 저장콜백\n",
        "# save_best_olny: True를 설정해주면 모니터링하는 값이 개선된 경우에만 저장\n",
        "# 기본은 False 이고 False시 매번 저장\n",
        "# monitor: 저장하기 위해서 모니터링할 값\n",
        "call1 = ModelCheckpoint(filepath = path1, monitor = 'val_loss', save_best_olny=True)\n",
        "call2 = ModelCheckpoint(filepath = path2, monitor = 'val_loss', save_best_olny=True)"
      ]
    },
    {
      "cell_type": "code",
      "execution_count": null,
      "id": "5900cc21",
      "metadata": {
        "id": "5900cc21"
      },
      "outputs": [],
      "source": [
        "# 조기 중단\n",
        "# monitor : 감시할 검증 값\n",
        "# patience : 현재 평가 값이 전 평가 값보다 좋다고 판달될 경우 몇번 더 볼껀지 설정\n",
        "call3 = EarlyStopping(monitor = 'val_loss', patience=50)"
      ]
    },
    {
      "cell_type": "code",
      "execution_count": null,
      "id": "5232cd4c",
      "metadata": {
        "id": "5232cd4c"
      },
      "outputs": [],
      "source": [
        "# 학습\n",
        "history = model.fit(X, y, epochs=15, batch_size = 64, validation_split=0.2, callbacks = [call1, call2, call3])"
      ]
    },
    {
      "cell_type": "code",
      "execution_count": null,
      "id": "2e24e1a2",
      "metadata": {
        "id": "2e24e1a2"
      },
      "outputs": [],
      "source": [
        "from transformers import ElectraTokenizer\n",
        "tokenizer = ElectraTokenizer.from_pretrained(\"monologg/koelectra-base-v3-discriminator\")\n",
        "tokenizer.tokenize(\"[CLS] 한국어 ELECTRA를 공유합니다. [SEP]\")\n",
        "['[CLS]', '한국어', 'EL', '##EC', '##TRA', '##를', '공유', '##합니다', '.', '[SEP]']\n",
        "tokenizer.convert_tokens_to_ids(['[CLS]', '한국어', 'EL', '##EC', '##TRA', '##를', '공유', '##합니다', '.', '[SEP]'])\n",
        "[2, 11229, 29173, 13352, 25541, 4110, 7824, 17788, 18, 3]"
      ]
    },
    {
      "cell_type": "raw",
      "id": "2b6474cf",
      "metadata": {
        "id": "2b6474cf"
      },
      "source": [
        "!pip install torch==1.6.0"
      ]
    },
    {
      "cell_type": "raw",
      "id": "e409d3ba",
      "metadata": {
        "id": "e409d3ba"
      },
      "source": [
        "!pip install transformers==3.3.1"
      ]
    },
    {
      "cell_type": "raw",
      "id": "54a034ea",
      "metadata": {
        "id": "54a034ea"
      },
      "source": [
        "!pip install seqeval"
      ]
    },
    {
      "cell_type": "raw",
      "id": "99c39002",
      "metadata": {
        "id": "99c39002"
      },
      "source": [
        "!pip install fastprogress"
      ]
    },
    {
      "cell_type": "raw",
      "id": "56753685",
      "metadata": {
        "id": "56753685"
      },
      "source": [
        "!pip install attrdict"
      ]
    },
    {
      "cell_type": "raw",
      "id": "8d539979",
      "metadata": {
        "id": "8d539979"
      },
      "source": [
        "python3 run_seq_cls.py --task {$TASK_NAME} --config_file {$CONFIG_FILE}"
      ]
    },
    {
      "cell_type": "raw",
      "id": "b46f9bb7",
      "metadata": {
        "id": "b46f9bb7"
      },
      "source": [
        "python3 run_seq_cls.py --task nsmc --config_file koelectra-base.json\n",
        "python3 run_seq_cls.py --task kornli --config_file koelectra-base.json\n",
        "python3 run_seq_cls.py --task paws --config_file koelectra-base.json\n",
        "python3 run_seq_cls.py --task question-pair --config_file koelectra-base-v2.json\n",
        "python3 run_seq_cls.py --task korsts --config_file koelectra-small-v2.json\n",
        "python3 run_ner.py --task naver-ner --config_file koelectra-small.json\n",
        "python3 run_squad.py --task korquad --config_file xlm-roberta.json"
      ]
    },
    {
      "cell_type": "code",
      "execution_count": null,
      "id": "dc0c8805",
      "metadata": {
        "id": "dc0c8805"
      },
      "outputs": [],
      "source": [
        "df_dev.shape, df_test.shape, df_train.shape"
      ]
    },
    {
      "cell_type": "code",
      "execution_count": null,
      "id": "a636058b",
      "metadata": {
        "id": "a636058b"
      },
      "outputs": [],
      "source": [
        "# 버트\n",
        "from transformers import BertTokenizer, TFBertModel\n",
        "import tensorflow as tf"
      ]
    },
    {
      "cell_type": "code",
      "execution_count": null,
      "id": "e588232b",
      "metadata": {
        "id": "e588232b"
      },
      "outputs": [],
      "source": [
        "# 토크나이저 획득\n",
        "tokenizer = BertTokenizer.from_pretrained('klue/bert-base')"
      ]
    },
    {
      "cell_type": "code",
      "execution_count": null,
      "id": "951731c1",
      "metadata": {
        "id": "951731c1"
      },
      "outputs": [],
      "source": [
        "from transformers import ElectraModel, ElectraTokenizer\n",
        "\n",
        "model1 = ElectraModel.from_pretrained(\"monologg/koelectra-base-discriminator\")  # KoELECTRA-Base\n",
        "model2 = ElectraModel.from_pretrained(\"monologg/koelectra-small-discriminator\")  # KoELECTRA-Small\n",
        "model3 = ElectraModel.from_pretrained(\"monologg/koelectra-base-v2-discriminator\")  # KoELECTRA-Base-v2\n",
        "model4 = ElectraModel.from_pretrained(\"monologg/koelectra-small-v2-discriminator\")  # KoELECTRA-Small-v2\n",
        "model5 = ElectraModel.from_pretrained(\"monologg/koelectra-base-v3-discriminator\")  # KoELECTRA-Base-v3\n",
        "model6 = ElectraModel.from_pretrained(\"monologg/koelectra-small-v3-discriminator\")  # KoELECTRA-Small-v3\n",
        "# model = TFElectraModel.from_pretrained(\"monologg/koelectra-base-v3-discriminator\", from_pt=True)"
      ]
    },
    {
      "cell_type": "code",
      "execution_count": null,
      "id": "04b03ccd",
      "metadata": {
        "id": "04b03ccd"
      },
      "outputs": [],
      "source": [
        "# 일렉트라 토크나이저 획득\n",
        "from transformers import ElectraTokenizer\n",
        "tokenizer = ElectraTokenizer.from_pretrained(\"monologg/koelectra-base-v3-discriminator\")"
      ]
    },
    {
      "cell_type": "code",
      "execution_count": null,
      "id": "5bddc3a0",
      "metadata": {
        "id": "5bddc3a0"
      },
      "outputs": [],
      "source": [
        "# TODO 추가 0 => numpy 추가\n",
        "import numpy as np\n",
        "\n",
        "# 데이터 프레임 train_nli에서 컬럼 sentence1, sentence2 데이터를 순서대로 각각 추출한다 -> for ~\n",
        "def data_convert( sen1s, max_length, tokeni ):\n",
        "  '''\n",
        "    sen1s : 문장으로 구성된 말뭉치 1번세트\n",
        "    max_length : 토큰화 과정시 문장 최대길이 지정\n",
        "    tokeni : 토큰화 도구(토크나이저)\n",
        "  '''\n",
        "  # 각각 데이터를 담을 그릇\n",
        "  input_ids       = list()\n",
        "  token_type_ids  = list()\n",
        "  attention_masks = list()\n",
        "\n",
        "  for s1 in tqdm(zip(sen1s), total=len(sen1s) ):\n",
        "    # 인코딩 처리\n",
        "    # TODO 수정 1 => pad_to_max_length\n",
        "    results = tokeni.encode_plus( s1, max_length=max_length, pad_to_max_length=True )\n",
        "    # 각각 데이터들을 그릇에 추가한다\n",
        "    input_ids.append(       results['input_ids'] )\n",
        "    token_type_ids.append(  results['token_type_ids'] )\n",
        "    attention_masks.append( results['attention_mask'] )\n",
        "    pass\n",
        "\n",
        "  # TODO 추가 1 배열 형태로 변환하여 문장 1개당 128개 백터로 표현되게 처리\n",
        "  input_ids       = np.array(input_ids, dtype=int)\n",
        "  token_type_ids  = np.array(token_type_ids, dtype=int)\n",
        "  attention_masks = np.array(attention_masks, dtype=int)\n",
        "\n",
        "  return input_ids, token_type_ids, attention_masks"
      ]
    },
    {
      "cell_type": "code",
      "execution_count": null,
      "id": "95e5e8db",
      "metadata": {
        "id": "95e5e8db"
      },
      "outputs": [],
      "source": [
        "# 샘플링으로 1개씩만 확인\n",
        "sent1 = df_train.sentence_form.iloc[0]"
      ]
    },
    {
      "cell_type": "code",
      "execution_count": null,
      "id": "36057a26",
      "metadata": {
        "id": "36057a26"
      },
      "outputs": [],
      "source": [
        "# 문장의 최대 길이 지정(토큰화시)\n",
        "max_length = 128\n",
        "\n",
        "sample_encode = tokenizer.encode_plus(sent1,\n",
        "                                      max_length=max_length, pad_to_max_length=True  )"
      ]
    },
    {
      "cell_type": "code",
      "execution_count": null,
      "id": "72e6a1bb",
      "metadata": {
        "scrolled": true,
        "id": "72e6a1bb"
      },
      "outputs": [],
      "source": [
        "sample_encode\n",
        "# input_ids     : 토큰의 사전상의 인덱스로 표기\n",
        "#                 0, 1, 2, 3, ... => 스페셜 토큰 [CLS]:문장이시작한다, [SEP]:문장이끝났다, ...\n",
        "#                 [UNK]:모르는 단어다. 사전에 등록이 않되어 있다\n",
        "#                 [MASK]:마스크 토큰(숨김용도), [PAD]:문장 크기 보정용\n",
        "# token_type_ids: 첫번째 문장은 0, 두번째 문장은 1 : 문장 구분용\n",
        "# attention_mask: 문장이면 1, 패딩이면 0"
      ]
    },
    {
      "cell_type": "code",
      "execution_count": null,
      "id": "5bb5ae53",
      "metadata": {
        "id": "5bb5ae53"
      },
      "outputs": [],
      "source": [
        "# 장시간 작업시 진행율을 보여주는 기능 -> tqdm\n",
        "from tqdm import tqdm\n",
        "\n",
        "for s1 in tqdm(zip(df_train.sentence_form), total=len(df_train.sentence_form) ):\n",
        "  pass\n",
        "  #print( s1 )\n",
        "  #break"
      ]
    },
    {
      "cell_type": "code",
      "execution_count": null,
      "id": "e46af448",
      "metadata": {
        "id": "e46af448"
      },
      "outputs": [],
      "source": [
        "# TODO 추가 0 => numpy 추가\n",
        "import numpy as np\n",
        "\n",
        "# 데이터 프레임 train_nli에서 컬럼 sentence1, sentence2 데이터를 순서대로 각각 추출한다 -> for ~\n",
        "def data_convert( sen1s, max_length, tokeni ):\n",
        "  '''\n",
        "    sen1s : 문장으로 구성된 말뭉치 1번세트\n",
        "    max_length : 토큰화 과정시 문장 최대길이 지정\n",
        "    tokeni : 토큰화 도구(토크나이저)\n",
        "  '''\n",
        "  # 각각 데이터를 담을 그릇\n",
        "  input_ids       = list()\n",
        "  token_type_ids  = list()\n",
        "  attention_masks = list()\n",
        "\n",
        "  for s1 in tqdm(zip(sen1s), total=len(sen1s) ):\n",
        "    # 인코딩 처리\n",
        "    # TODO 수정 1 => pad_to_max_length\n",
        "    results = tokeni.encode_plus( s1, max_length=max_length, pad_to_max_length=True )\n",
        "    # 각각 데이터들을 그릇에 추가한다\n",
        "    input_ids.append(       results['input_ids'] )\n",
        "    token_type_ids.append(  results['token_type_ids'] )\n",
        "    attention_masks.append( results['attention_mask'] )\n",
        "    pass\n",
        "\n",
        "  # TODO 추가 1 배열 형태로 변환하여 문장 1개당 128개 백터로 표현되게 처리\n",
        "  input_ids       = np.array(input_ids, dtype=int)\n",
        "  token_type_ids  = np.array(token_type_ids, dtype=int)\n",
        "  attention_masks = np.array(attention_masks, dtype=int)\n",
        "\n",
        "  return input_ids, token_type_ids, attention_masks"
      ]
    },
    {
      "cell_type": "code",
      "execution_count": null,
      "id": "1317e438",
      "metadata": {
        "id": "1317e438"
      },
      "outputs": [],
      "source": [
        "X_train = data_convert( df_train.sentence_form, max_length, tokenizer )"
      ]
    },
    {
      "cell_type": "code",
      "execution_count": null,
      "id": "67d23ff8",
      "metadata": {
        "id": "67d23ff8"
      },
      "outputs": [],
      "source": [
        "# 결과 형태 확인\n",
        "len(X_train), type( X_train[0] ), type( X_train[1] ), type( X_train[2] )"
      ]
    },
    {
      "cell_type": "code",
      "execution_count": null,
      "id": "e476672f",
      "metadata": {
        "id": "e476672f"
      },
      "outputs": [],
      "source": [
        "# 검증용, 테스트용 컨버전 모두 진행\n",
        "X_val  = data_convert( df_dev.sentence_form, max_length, tokenizer )\n",
        "X_test = data_convert( df_test.sentence_form, max_length, tokenizer )"
      ]
    },
    {
      "cell_type": "code",
      "execution_count": null,
      "id": "b61b2b1f",
      "metadata": {
        "id": "b61b2b1f"
      },
      "outputs": [],
      "source": [
        "print( 'input_ids', X_test[0][0] )"
      ]
    },
    {
      "cell_type": "code",
      "execution_count": null,
      "id": "6f2619cb",
      "metadata": {
        "id": "6f2619cb"
      },
      "outputs": [],
      "source": [
        "print( 'token_type_ids', X_test[1][0] )"
      ]
    },
    {
      "cell_type": "code",
      "execution_count": null,
      "id": "c22ec977",
      "metadata": {
        "id": "c22ec977"
      },
      "outputs": [],
      "source": [
        "print( 'attention_mask', X_test[2][0] )"
      ]
    },
    {
      "cell_type": "code",
      "execution_count": null,
      "id": "fe7719d2",
      "metadata": {
        "id": "fe7719d2"
      },
      "outputs": [],
      "source": [
        "# 문장 복원\n",
        "tokenizer.decode( X_test[0][0] )"
      ]
    },
    {
      "cell_type": "code",
      "execution_count": null,
      "id": "81e09a89",
      "metadata": {
        "id": "81e09a89"
      },
      "outputs": [],
      "source": [
        "train_labels = df_train['annotation'].tolist()\n",
        "val_labels   = df_dev['annotation'].tolist()\n",
        "test_labels  = df_test['annotation'].tolist()"
      ]
    },
    {
      "cell_type": "code",
      "execution_count": null,
      "id": "f19390ee",
      "metadata": {
        "id": "f19390ee"
      },
      "outputs": [],
      "source": [
        "# LabelEncoder : 정답을 정수로 변환 처리\n",
        "from sklearn.preprocessing import LabelEncoder"
      ]
    },
    {
      "cell_type": "code",
      "execution_count": null,
      "id": "196dce78",
      "metadata": {
        "id": "196dce78"
      },
      "outputs": [],
      "source": [
        "label_enc = LabelEncoder()"
      ]
    },
    {
      "cell_type": "code",
      "execution_count": null,
      "id": "19ef7aae",
      "metadata": {
        "id": "19ef7aae"
      },
      "outputs": [],
      "source": [
        "# 정답 대비 정수값 세트 획득\n",
        "label_enc.fit( train_labels )"
      ]
    },
    {
      "cell_type": "code",
      "execution_count": null,
      "id": "3bec7893",
      "metadata": {
        "id": "3bec7893"
      },
      "outputs": [],
      "source": [
        "# 변환처리\n",
        "y_train = label_enc.transform( train_labels )\n",
        "y_val   = label_enc.transform( val_labels )\n",
        "y_test  = label_enc.transform( test_labels )"
      ]
    },
    {
      "cell_type": "code",
      "execution_count": null,
      "id": "92ea2de4",
      "metadata": {
        "id": "92ea2de4"
      },
      "outputs": [],
      "source": []
    },
    {
      "cell_type": "code",
      "execution_count": null,
      "id": "88d32fa3",
      "metadata": {
        "id": "88d32fa3"
      },
      "outputs": [],
      "source": []
    },
    {
      "cell_type": "code",
      "execution_count": null,
      "id": "285fc3cf",
      "metadata": {
        "id": "285fc3cf"
      },
      "outputs": [],
      "source": []
    },
    {
      "cell_type": "code",
      "execution_count": null,
      "id": "32d8290d",
      "metadata": {
        "id": "32d8290d"
      },
      "outputs": [],
      "source": []
    },
    {
      "cell_type": "code",
      "execution_count": null,
      "id": "e5ffd3b5",
      "metadata": {
        "id": "e5ffd3b5"
      },
      "outputs": [],
      "source": []
    },
    {
      "cell_type": "code",
      "execution_count": null,
      "id": "bb6dd7f4",
      "metadata": {
        "id": "bb6dd7f4"
      },
      "outputs": [],
      "source": []
    },
    {
      "cell_type": "code",
      "execution_count": null,
      "id": "531d02c2",
      "metadata": {
        "id": "531d02c2"
      },
      "outputs": [],
      "source": []
    },
    {
      "cell_type": "code",
      "execution_count": null,
      "id": "301f7f7e",
      "metadata": {
        "id": "301f7f7e"
      },
      "outputs": [],
      "source": []
    },
    {
      "cell_type": "code",
      "execution_count": null,
      "id": "fed6a98c",
      "metadata": {
        "id": "fed6a98c"
      },
      "outputs": [],
      "source": []
    },
    {
      "cell_type": "code",
      "execution_count": null,
      "id": "d82947bb",
      "metadata": {
        "id": "d82947bb"
      },
      "outputs": [],
      "source": []
    },
    {
      "cell_type": "code",
      "execution_count": null,
      "id": "9bb51ec4",
      "metadata": {
        "id": "9bb51ec4"
      },
      "outputs": [],
      "source": []
    },
    {
      "cell_type": "code",
      "execution_count": null,
      "id": "2a9aa7e9",
      "metadata": {
        "id": "2a9aa7e9"
      },
      "outputs": [],
      "source": []
    },
    {
      "cell_type": "code",
      "execution_count": null,
      "id": "8c6896a3",
      "metadata": {
        "id": "8c6896a3"
      },
      "outputs": [],
      "source": []
    }
  ],
  "metadata": {
    "kernelspec": {
      "display_name": "Python 3 (ipykernel)",
      "language": "python",
      "name": "python3"
    },
    "language_info": {
      "codemirror_mode": {
        "name": "ipython",
        "version": 3
      },
      "file_extension": ".py",
      "mimetype": "text/x-python",
      "name": "python",
      "nbconvert_exporter": "python",
      "pygments_lexer": "ipython3",
      "version": "3.9.13"
    },
    "colab": {
      "provenance": [],
      "include_colab_link": true
    }
  },
  "nbformat": 4,
  "nbformat_minor": 5
}