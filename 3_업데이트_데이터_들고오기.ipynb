{
  "cells": [
    {
      "cell_type": "markdown",
      "metadata": {
        "id": "view-in-github",
        "colab_type": "text"
      },
      "source": [
        "<a href=\"https://colab.research.google.com/github/YonggunJung/Project2-Review/blob/main/3_%EC%97%85%EB%8D%B0%EC%9D%B4%ED%8A%B8_%EB%8D%B0%EC%9D%B4%ED%84%B0_%EB%93%A4%EA%B3%A0%EC%98%A4%EA%B8%B0.ipynb\" target=\"_parent\"><img src=\"https://colab.research.google.com/assets/colab-badge.svg\" alt=\"Open In Colab\"/></a>"
      ]
    },
    {
      "cell_type": "code",
      "execution_count": null,
      "id": "7a8cbe32",
      "metadata": {
        "id": "7a8cbe32"
      },
      "outputs": [],
      "source": [
        "import bs4\n",
        "import json\n",
        "import requests\n",
        "import pandas as pd\n",
        "import numpy as np\n",
        "import time\n",
        "import datetime\n",
        "\n",
        "import os\n",
        "\n",
        "from datetime import date, timedelta\n",
        "from selenium import webdriver\n",
        "from selenium.webdriver.common.by import By\n",
        "from selenium.webdriver.support.ui import Select\n",
        "from IPython.display import clear_output\n",
        "from bs4 import BeautifulSoup"
      ]
    },
    {
      "cell_type": "code",
      "execution_count": null,
      "id": "c0bceb3c",
      "metadata": {
        "id": "c0bceb3c",
        "outputId": "c4b9d4f3-6ba4-42e5-bad6-c9b42a8b36ce"
      },
      "outputs": [
        {
          "data": {
            "text/plain": [
              "datetime.timedelta(days=1)"
            ]
          },
          "execution_count": 2,
          "metadata": {},
          "output_type": "execute_result"
        }
      ],
      "source": [
        "# datetime 내장 모듈의 timedelta 클래스는 기간을 표현하기 위해서 사용\n",
        "# timedelta 클래스의 생성자는 주, 일, 시, 분, 초, 밀리 초, 마이크로 초를 인자로 받음\n",
        "timedelta(1)"
      ]
    },
    {
      "cell_type": "code",
      "execution_count": null,
      "id": "a4a9e31a",
      "metadata": {
        "id": "a4a9e31a",
        "outputId": "ceba6226-6d45-4b9b-9bc1-a121222b0ea6"
      },
      "outputs": [
        {
          "name": "stdout",
          "output_type": "stream",
          "text": [
            "2022-11-09\n",
            "2022-11-08\n",
            "2022-11-07\n",
            "2022-09-10\n"
          ]
        }
      ],
      "source": [
        "\n",
        "\n",
        "# 컴퓨터 상의 오늘 날짜\n",
        "today = date.today()\n",
        "yesterday = date.today() - timedelta(1)       # 오늘에서 하루를 뺀 어제 날짜 변수화\n",
        "twodaysago = date.today() - timedelta(2)      # 어제에서 하루를 뺀 그제 날짜 변수화\n",
        "twomonths = date.today() - timedelta(61)\n",
        "\n",
        "# 날짜 확인\n",
        "print(today.strftime('%Y-%m-%d'))\n",
        "print(yesterday.strftime('%Y-%m-%d'))\n",
        "print(twodaysago.strftime('%Y-%m-%d'))\n",
        "print(twomonths.strftime('%Y-%m-%d'))"
      ]
    },
    {
      "cell_type": "code",
      "execution_count": null,
      "id": "895754b5",
      "metadata": {
        "id": "895754b5"
      },
      "outputs": [],
      "source": [
        "# 웹 드라이버 실행\n",
        "driver = webdriver.Chrome('chromedriver')"
      ]
    },
    {
      "cell_type": "code",
      "execution_count": null,
      "id": "beb9ae34",
      "metadata": {
        "id": "beb9ae34"
      },
      "outputs": [],
      "source": [
        "# 3) 지연시간 지정 후에 웹브라우저 주소로 이동\n",
        "# 지연시간 주기 time.sleep(시간)\n",
        "time.sleep(2)\n",
        "# 이동 URL\n",
        "# url = 'https://www.kurly.com/main'\n",
        "url = 'https://www.kurly.com/shop/goods/goods_review_list.php?goodsno=5059674&page=1'\n",
        "# 드라이버객체명.get(이동URL )\n",
        "driver.get(url)\n"
      ]
    },
    {
      "cell_type": "code",
      "execution_count": null,
      "id": "2b4445da",
      "metadata": {
        "id": "2b4445da",
        "outputId": "6d43d58e-54a6-4688-a12f-ca34e44eae1b"
      },
      "outputs": [
        {
          "name": "stdout",
          "output_type": "stream",
          "text": [
            "\n",
            "\n",
            "싱싱하게 잘 도착해서잘 요리해 먹었어요다이어트 중이라 1. 새송이 버섯을 식감이 있겠끔 다졌고 부추랑 김치 한 이파리도 적당한 크기로  썰었어요2. 닭가슴살은 미리 삶아두었고3. 두부 300g과 함께 food processor로 다졌어요4. 후라이펜에 강불에서 두부와 닭가슴살을 넣고 볶았어요 닭가슴살이 충분히 익고 두부의 물이 날아갈 때까지 볶았어요.5. 올리브오일 쪼끔6. 아까 다져뒀던 부추랑 버섯이랑 김치도 넣고7. 청양고춧가루 2/3큰술, 굴소스 반큰술, 다진마늘 한큰술을 넣고 볶아줍니다. 강불에서 3분정도 볶아주새요\n",
            "\n",
            "[KF365] 1등급 닭가슴살 500g씩 2개로 나뉘어 소분되어있어요.한팩은 아이 튀김 해주려고 두었고 한팩으로 오늘 “버터치킨커리”를 만들어 먹었습니다.닭가슴살이 신선해서 별다른 요리팁 없이도 맛있게 잘 먹었어요.*재료준비닭가슴살 500g, 커리페이스트1봉(또는 카레가루), 양파1개, 감자1개, 후추조금, 강황가루조금(생략가능)*조리과정1. 야채와 닭가슴살은 깍뚝썰기하여 준비2. 닭가슴살에 강황가루와 후추를 조금 뿌려 조물조물3. 버터를 한큰술 넣고 감자와 양파, 닭가슴살 볶기4. 적당히 물을 넣고 감자가 물렁하게 익을때까지 끓인후 커리페이스트를 넣어 잘 풀어주면 완성!아이가 빨리달라고 하두 졸라서 상차림 사진이 없네요^^;;저렴하면서도 신선한 컬리 닭가슴살로 오늘 한끼 건강하고 맛있게 잘 먹었어요~\n",
            "\n",
            "운동하는 저를 위한 식재료로 항상 주문해서 먹고있어요 좋아요~\n",
            "\n",
            "아들이 식단도절한다고 사달래서 구매했어요신선하네요\n",
            "\n",
            "조아요.닭가슴살포장이 진공이라\n",
            "\n"
          ]
        }
      ],
      "source": [
        "html_str = driver.page_source\n",
        "# 페이지 숲 객체화\n",
        "soup = BeautifulSoup(html_str)\n",
        "# 타켓을 품고있는 요소 파악\n",
        "target_list = soup.select('div.inner_review')\n",
        "# 원하는 타겟만을 얻기 위한 분리\n",
        "a= target_list[0].get_text().split('\\n\\n\\n')\n",
        "a[1]\n",
        "\n",
        "# 한 페이지에 후기가 7개씩 있으므로\n",
        "for i in range(7):\n",
        "        a = target_list[i].get_text().split('\\n\\n\\n')\n",
        "        print(a[1])"
      ]
    },
    {
      "cell_type": "code",
      "execution_count": null,
      "id": "3069880e",
      "metadata": {
        "scrolled": true,
        "id": "3069880e",
        "outputId": "c546fe4a-83f7-44ce-9f2e-0b06335c2bf0"
      },
      "outputs": [
        {
          "name": "stdout",
          "output_type": "stream",
          "text": [
            "<a class=\"layout-pagination-button layout-pagination-last-page\" href=\"/shop/goods/goods_review_list.php?goodsno=5059674&amp;page=1287\">맨 끝 페이지로 가기</a>\n",
            "==================================================\n"
          ]
        },
        {
          "data": {
            "text/plain": [
              "'1287'"
            ]
          },
          "execution_count": 7,
          "metadata": {},
          "output_type": "execute_result"
        }
      ],
      "source": [
        "# 페이지 수 확인\n",
        "print(soup.find_all('a')[-1])\n",
        "print('='*50)\n",
        "\n",
        "# 페이지 수 들고오기\n",
        "a = soup.find_all('a')[-1]\n",
        "a['href'].split('=')[-1]\n",
        "\n"
      ]
    },
    {
      "cell_type": "code",
      "execution_count": null,
      "id": "a2bfa48d",
      "metadata": {
        "id": "a2bfa48d"
      },
      "outputs": [],
      "source": [
        "# 게시글 날짜 부분 추출 확인\n",
        "timeget = driver.find_element(By.CLASS_NAME, 'time').text"
      ]
    },
    {
      "cell_type": "code",
      "execution_count": null,
      "id": "d560e493",
      "metadata": {
        "scrolled": false,
        "id": "d560e493",
        "outputId": "f96e91fa-2b90-4a04-e8c3-4ff177ab4ee5"
      },
      "outputs": [
        {
          "data": {
            "text/plain": [
              "datetime.date(2019, 11, 1)"
            ]
          },
          "execution_count": 9,
          "metadata": {},
          "output_type": "execute_result"
        }
      ],
      "source": [
        "# object타입의 날짜를 데이트타임으로 변경\n",
        "c=timeget.split('-')\n",
        "timeget2 = datetime.date(int(c[0]),int(c[1]),int(c[2]))\n",
        "timeget2"
      ]
    },
    {
      "cell_type": "code",
      "execution_count": null,
      "id": "4317ded3",
      "metadata": {
        "id": "4317ded3",
        "outputId": "865c8e2d-2d60-4693-cb4f-1aaa6781723e"
      },
      "outputs": [
        {
          "data": {
            "text/plain": [
              "<tr>\n",
              "<td align=\"center\">\n",
              "BEST\n",
              "</td>\n",
              "<td class=\"subject\">\n",
              "<div class=\"fst\">좋아요 <img alt=\"이미지가 첨부됨\" src=\"https://res.kurly.com/pc/ico/1910/ico_attach2.gif\"/></div>\n",
              "<div class=\"snd\">좋아요 <img alt=\"이미지가 첨부됨\" src=\"https://res.kurly.com/pc/ico/1910/ico_attach2.gif\"/></div>\n",
              "</td>\n",
              "<td class=\"user_grade grade_comm\">\n",
              "<span class=\"ico_grade grade1\">\n",
              "화이트 </span>\n",
              "</td>\n",
              "<td class=\"user_grade\">\n",
              "박*나 </td>\n",
              "<td class=\"time\">2022-06-04</td>\n",
              "<td>\n",
              "<span class=\"review-like-cnt\" data-sno=\"55810899\">0</span>\n",
              "</td>\n",
              "</tr>"
            ]
          },
          "execution_count": 10,
          "metadata": {},
          "output_type": "execute_result"
        }
      ],
      "source": [
        "# 게시글 번호와 게시글 날짜를 포함하고 있는 요소 변수화\n",
        "number = soup.select('tr')\n",
        "number[3]"
      ]
    },
    {
      "cell_type": "code",
      "execution_count": null,
      "id": "71b8bd0d",
      "metadata": {
        "id": "71b8bd0d",
        "outputId": "62635eee-6237-4824-d7a4-348f0e246905"
      },
      "outputs": [
        {
          "data": {
            "text/plain": [
              "'공지'"
            ]
          },
          "execution_count": 11,
          "metadata": {},
          "output_type": "execute_result"
        }
      ],
      "source": [
        "# 게시글 번호 추출\n",
        "num = number[1].text.split('\\n\\n')\n",
        "num[1]"
      ]
    },
    {
      "cell_type": "code",
      "execution_count": null,
      "id": "5da66ef3",
      "metadata": {
        "id": "5da66ef3",
        "outputId": "bbe2321d-de79-4597-d7db-cd94c8a663df"
      },
      "outputs": [
        {
          "data": {
            "text/plain": [
              "'2019-11-01'"
            ]
          },
          "execution_count": 12,
          "metadata": {},
          "output_type": "execute_result"
        }
      ],
      "source": [
        "# 게시글 날짜 추출\n",
        "date = number[1].text.split('\\n')\n",
        "date[-5]"
      ]
    },
    {
      "cell_type": "markdown",
      "id": "2395a66b",
      "metadata": {
        "id": "2395a66b"
      },
      "source": [
        "### 작동"
      ]
    },
    {
      "cell_type": "code",
      "execution_count": null,
      "id": "5cc5c6f6",
      "metadata": {
        "scrolled": false,
        "id": "5cc5c6f6",
        "outputId": "124d233b-dceb-411f-f387-4826ace806ed"
      },
      "outputs": [
        {
          "name": "stdout",
          "output_type": "stream",
          "text": [
            "<class 'int'>\n",
            "2022-11-02 2022-11-03\n",
            "2022-11-02 2022-11-03\n",
            "2022-11-02 2022-11-03\n",
            "2022-11-02 2022-11-03\n",
            "2022-11-02 2022-11-03\n",
            "2022-11-02 2022-11-03\n",
            "2022-11-02 2022-11-03\n",
            "2022-11-02 2022-11-03\n",
            "2022-11-02 2022-11-03\n",
            "2022-11-02 2022-11-03\n",
            "2022-11-02 2022-11-03\n",
            "2022-11-02 2022-11-03\n",
            "2022-11-02 2022-11-02\n",
            "2022-11-02 2022-11-02\n",
            "2022-11-02 2022-11-02\n",
            "2022-11-02 2022-11-02\n",
            "2022-11-02 2022-11-02\n",
            "2022-11-02 2022-11-02\n",
            "2022-11-02 2022-11-02\n",
            "2022-11-02 2022-11-02\n",
            "2022-11-02 2022-11-02\n",
            "2022-11-02 2022-11-02\n",
            "2022-11-02 2022-11-02\n",
            "2022-11-02 2022-11-01\n",
            "2022-11-02 2022-11-01\n",
            "2022-11-02 2022-11-01\n",
            "2022-11-02 2022-11-01\n"
          ]
        }
      ],
      "source": [
        "# 3번 9천개\n",
        "review = []  # 데이터를 담을 리스트\n",
        "url3 = 'https://www.kurly.com/shop/goods/goods_review_list.php?goodsno={}&page='\n",
        "a = soup.find_all('a')[-1]\n",
        "last_page = a['href'].split('=')[-1]\n",
        "last_page = int(last_page)\n",
        "print(type(last_page))\n",
        "i = 0\n",
        "while True:    # 무한 루프\n",
        "    url = url3 + str(i)\n",
        "    driver.get(url)\n",
        "    i += 1          # i를 1씩 증가시킴\n",
        "\n",
        "    html_str = driver.page_source\n",
        "    soup = BeautifulSoup(html_str)\n",
        "    target_list = soup.select('div.inner_review')\n",
        "    number = soup.select('tr')\n",
        "\n",
        "\n",
        "    try:    # 오류시 넘기기 위해\n",
        "        for j in range(0,7):\n",
        "            num = number[j+1].get_text().split('\\n\\n')\n",
        "            if num[1] != '공지' and num[1] != 'BEST'  :     # 공지글과 BEST글은 스킵\n",
        "                date = number[j+1].text.split('\\n')\n",
        "                c=date[-5].split('-')\n",
        "                timeget2 = datetime.date(int(c[0]),int(c[1]),int(c[2]))\n",
        "                print(yesterday,timeget2 )\n",
        "                if yesterday == timeget2:\n",
        "                    a = target_list[j].get_text().split('\\n\\n\\n')\n",
        "                    review.append(a[1].replace('\\n',''))  # 리뷰에 담기\n",
        "                    if twodaysago == timeget2:  # 이틀전 날짜가 글 게시 날짜와 같은때\n",
        "                        break\n",
        "                else:\n",
        "                    continue\n",
        "\n",
        "    except IndexError :\n",
        "        print('잘못된 인덱스입니다')  # 오류시 나오는 글\n",
        "\n",
        "    if twodaysago == timeget2: # 이틀전 날짜가 글 게시 날짜와 같을 때\n",
        "        break"
      ]
    },
    {
      "cell_type": "raw",
      "id": "ca673a97",
      "metadata": {
        "id": "ca673a97"
      },
      "source": [
        "# 저장\n",
        "review = pd.DataFrame(review)\n",
        "review.to_csv('./data/크롤링업데이트.csv', encoding = 'utf-8-sig', index = False)"
      ]
    },
    {
      "cell_type": "code",
      "execution_count": null,
      "id": "2430096c",
      "metadata": {
        "id": "2430096c",
        "outputId": "8838677c-85fa-41f3-a9ba-4d313fa1e9ff"
      },
      "outputs": [
        {
          "data": {
            "text/plain": [
              "['단백질먹어야죠ㅠㅠ맛은 여는 닭가슴살과 같습니다',\n",
              " '강아지 밥 맹글어 쥬느라 샀어요 싱싱하고 너무 좋아용~',\n",
              " '진공 포장으로 안심~ 냄새 안나고 좋아요~~',\n",
              " '실하고 깔끔해요. 괜찮아요.',\n",
              " '잘 먹었습니다!!^^',\n",
              " '맛있어요~~^^싱싱해요~~. 닭가슴살 장조림 만들어억었어요~~',\n",
              " '강아지 간식으로 꼭구매해둬요신선하고 좋아요가성비좋아서 항상구매해요',\n",
              " '항상 구매해서 먹는 제품이에요',\n",
              " '재구매입니다 다이어트식단입니다',\n",
              " '닭가슴살 스테이크 해먹으려고요~',\n",
              " '굿.굿. 세일이라서 무조건 사요']"
            ]
          },
          "execution_count": 14,
          "metadata": {},
          "output_type": "execute_result"
        }
      ],
      "source": [
        "review"
      ]
    },
    {
      "cell_type": "markdown",
      "id": "b305cdfb",
      "metadata": {
        "id": "b305cdfb"
      },
      "source": [
        "# 많은 시도들"
      ]
    },
    {
      "cell_type": "raw",
      "id": "1159c63d",
      "metadata": {
        "id": "1159c63d"
      },
      "source": [
        "number[0].get_text().split('\\n\\n')"
      ]
    },
    {
      "cell_type": "raw",
      "id": "fc8376f4",
      "metadata": {
        "scrolled": true,
        "id": "fc8376f4"
      },
      "source": [
        "target_list[1].get_text()"
      ]
    },
    {
      "cell_type": "raw",
      "id": "7393b7b3",
      "metadata": {
        "id": "7393b7b3"
      },
      "source": [
        "date = number[1].text.split('\\n')\n",
        "date[12]"
      ]
    },
    {
      "cell_type": "raw",
      "id": "a6e231c3",
      "metadata": {
        "id": "a6e231c3"
      },
      "source": [
        "<tr>\n",
        "<td align=\"center\">\n",
        "8986\n",
        "</td>\n",
        "<td class=\"subject\">\n",
        "<div class=\"fst\">잘 먹었습니다!!^ </div>\n",
        "<div class=\"snd\">잘 먹었습니다!!^ </div>\n",
        "</td>\n",
        "<td class=\"user_grade grade_comm\">\n",
        "<span class=\"ico_grade grade1\">\n",
        "화이트 </span>\n",
        "</td>\n",
        "<td class=\"user_grade\">\n",
        "공*영 </td>\n",
        "<td class=\"time\">2022-11-02</td>\n",
        "<td>\n",
        "<span class=\"review-like-cnt\" data-sno=\"66586414\">0</span>\n",
        "</td>\n",
        "\n",
        "\n",
        "\n",
        "</tr>"
      ]
    },
    {
      "cell_type": "raw",
      "id": "718b909e",
      "metadata": {
        "id": "718b909e"
      },
      "source": [
        "<td align=\"center\">\n",
        "공지\n",
        "</td>"
      ]
    },
    {
      "cell_type": "raw",
      "id": "50f5605c",
      "metadata": {
        "id": "50f5605c"
      },
      "source": [
        "number = soup.select('td')\n",
        "num = number[0].text.replace('\\n','')\n",
        "num"
      ]
    },
    {
      "cell_type": "raw",
      "id": "22487261",
      "metadata": {
        "id": "22487261"
      },
      "source": [
        "number = soup.select('tr')\n",
        "number[3]"
      ]
    },
    {
      "cell_type": "raw",
      "id": "0c8145cb",
      "metadata": {
        "id": "0c8145cb"
      },
      "source": [
        "yesterday.strftime('%Y-%m-%d')"
      ]
    },
    {
      "cell_type": "raw",
      "id": "bd10bbd6",
      "metadata": {
        "id": "bd10bbd6"
      },
      "source": [
        "today = date.today()\n",
        "yesterday = date.today() - timedelta(1)\n",
        "today,yesterday"
      ]
    },
    {
      "cell_type": "raw",
      "id": "210b8be6",
      "metadata": {
        "id": "210b8be6"
      },
      "source": [
        "d= pd.to_datetime(timeget, format = '%Y-%m-%d')\n",
        "d"
      ]
    },
    {
      "cell_type": "raw",
      "id": "ea1bdeab",
      "metadata": {
        "id": "ea1bdeab"
      },
      "source": [
        "timeget2 = timeget.strftime('%Y-%m-%d')"
      ]
    },
    {
      "cell_type": "raw",
      "id": "8d347dd5",
      "metadata": {
        "id": "8d347dd5"
      },
      "source": [
        "a = datetime.date(int(c[0]),int(c[1]),int(c[2]))"
      ]
    },
    {
      "cell_type": "raw",
      "id": "3aae8e92",
      "metadata": {
        "id": "3aae8e92"
      },
      "source": [
        "timeget2 = pd.to_datetime(timeget)"
      ]
    },
    {
      "cell_type": "code",
      "execution_count": null,
      "id": "d0e4ee32",
      "metadata": {
        "id": "d0e4ee32"
      },
      "outputs": [],
      "source": []
    },
    {
      "cell_type": "raw",
      "id": "41a16201",
      "metadata": {
        "id": "41a16201"
      },
      "source": [
        "# 3번 9천개\n",
        "review = []\n",
        "url3 = 'https://www.kurly.com/shop/goods/goods_review_list.php?goodsno=5059674&page='\n",
        "a = soup.find_all('a')[-1]\n",
        "last_page = a['href'].split('=')[-1]\n",
        "last_page = int(last_page)\n",
        "print(type(last_page))\n",
        "for i in range(1,12):\n",
        "    url = url3 + str(i)\n",
        "    if i%10 == 0:\n",
        "        review3 = pd.DataFrame(review)\n",
        "        review3.to_csv('./data/리뷰데이터333.csv', encoding = 'utf-8-sig', index = False)\n",
        "    time.sleep(1)\n",
        "    driver.get(url)\n",
        "\n",
        "    html_str = driver.page_source\n",
        "    soup = BeautifulSoup(html_str)\n",
        "    target_list = soup.select('div.inner_review')\n",
        "\n",
        "    try:\n",
        "        for j in range(7):\n",
        "            a = target_list[j].get_text().split('\\n\\n\\n')\n",
        "            review.append(a[1].replace('\\n',''))\n",
        "                else:\n",
        "\n",
        "    except IndexError :\n",
        "        print('잘못된 인덱스입니다')"
      ]
    },
    {
      "cell_type": "code",
      "execution_count": null,
      "id": "531f7854",
      "metadata": {
        "id": "531f7854"
      },
      "outputs": [],
      "source": []
    },
    {
      "cell_type": "raw",
      "id": "8c50667d",
      "metadata": {
        "id": "8c50667d"
      },
      "source": [
        "# 3번 9천개\n",
        "review = []\n",
        "url3 = 'https://www.kurly.com/shop/goods/goods_review_list.php?goodsno=5059674&page='\n",
        "a = soup.find_all('a')[-1]\n",
        "last_page = a['href'].split('=')[-1]\n",
        "last_page = int(last_page)\n",
        "print(type(last_page))\n",
        "for i in range(1,12):\n",
        "    url = url3 + str(i)\n",
        "    if i%10 == 0:\n",
        "        review3 = pd.DataFrame(review)\n",
        "        review3.to_csv('./data/리뷰데이터333.csv', encoding = 'utf-8-sig', index = False)\n",
        "    time.sleep(1)\n",
        "    driver.get(url)\n",
        "\n",
        "    html_str = driver.page_source\n",
        "    soup = BeautifulSoup(html_str)\n",
        "    target_list = soup.select('div.inner_review')\n",
        "    number = soup.select('tr')\n",
        "\n",
        "\n",
        "    try:\n",
        "        for j in range(7):\n",
        "            num = number[j].text.split('\\n\\n')\n",
        "            if num[1] != '공지' :\n",
        "                print(num[1],j)\n",
        "                date = number[j].text.split('\\n')\n",
        "                c=date[12].split('-')\n",
        "                timeget2 = datetime.date(int(c[0]),int(c[1]),int(c[2]))\n",
        "                if yesterday == timeget2:\n",
        "                    a = target_list[j].get_text().split('\\n\\n\\n')\n",
        "                    review.append(a[1].replace('\\n',''))\n",
        "                else:\n",
        "                    print('if else')\n",
        "\n",
        "    except IndexError :\n",
        "        print('잘못된 인덱스입니다')"
      ]
    },
    {
      "cell_type": "code",
      "execution_count": null,
      "id": "23be51cb",
      "metadata": {
        "id": "23be51cb"
      },
      "outputs": [],
      "source": []
    }
  ],
  "metadata": {
    "kernelspec": {
      "display_name": "Python 3 (ipykernel)",
      "language": "python",
      "name": "python3"
    },
    "language_info": {
      "codemirror_mode": {
        "name": "ipython",
        "version": 3
      },
      "file_extension": ".py",
      "mimetype": "text/x-python",
      "name": "python",
      "nbconvert_exporter": "python",
      "pygments_lexer": "ipython3",
      "version": "3.10.9"
    },
    "vscode": {
      "interpreter": {
        "hash": "a4d58ee7e2ba9b81a442ffc7c97c0ac0ad323a5f56cd454931fec4c6c3182729"
      }
    },
    "colab": {
      "provenance": [],
      "include_colab_link": true
    }
  },
  "nbformat": 4,
  "nbformat_minor": 5
}