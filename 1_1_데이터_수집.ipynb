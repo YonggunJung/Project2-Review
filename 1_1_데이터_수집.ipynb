{
  "cells": [
    {
      "cell_type": "markdown",
      "metadata": {
        "id": "view-in-github",
        "colab_type": "text"
      },
      "source": [
        "<a href=\"https://colab.research.google.com/github/YonggunJung/Project2-Review/blob/main/1_1_%EB%8D%B0%EC%9D%B4%ED%84%B0_%EC%88%98%EC%A7%91.ipynb\" target=\"_parent\"><img src=\"https://colab.research.google.com/assets/colab-badge.svg\" alt=\"Open In Colab\"/></a>"
      ]
    },
    {
      "cell_type": "code",
      "execution_count": null,
      "id": "09c6dabe",
      "metadata": {
        "id": "09c6dabe"
      },
      "outputs": [],
      "source": [
        "import bs4\n",
        "import json\n",
        "import requests\n",
        "import pandas as pd\n",
        "import numpy as np\n",
        "import time\n",
        "import os\n",
        "from selenium import webdriver\n",
        "from selenium.webdriver.common.by import By\n",
        "from selenium.webdriver.support.ui import Select\n",
        "from IPython.display import clear_output\n",
        "from bs4 import BeautifulSoup"
      ]
    },
    {
      "cell_type": "code",
      "execution_count": null,
      "id": "ff6c7ad4",
      "metadata": {
        "id": "ff6c7ad4"
      },
      "outputs": [],
      "source": [
        "# 웹 드라이버 실행\n",
        "driver = webdriver.Chrome('chromedriver')"
      ]
    },
    {
      "cell_type": "code",
      "execution_count": null,
      "id": "edf7e028",
      "metadata": {
        "id": "edf7e028"
      },
      "outputs": [],
      "source": [
        "# 3) 지연시간 지정 후에 웹브라우저 주소로 이동\n",
        "# 지연시간 주기 time.sleep(시간)\n",
        "time.sleep(2)\n",
        "# 이동 URL\n",
        "# url = 'https://www.kurly.com/main'\n",
        "url = 'https://www.kurly.com/shop/goods/goods_review_list.php?goodsno=5069036&page=2%22'\n",
        "# 드라이버객체명.get(이동URL )\n",
        "driver.get(url)"
      ]
    },
    {
      "cell_type": "code",
      "execution_count": null,
      "id": "4fa65691",
      "metadata": {
        "id": "4fa65691",
        "outputId": "abe22ffb-5b22-4afb-cc12-dc013c3bd507"
      },
      "outputs": [
        {
          "name": "stdout",
          "output_type": "stream",
          "text": [
            "첫구매했는데 맛있고좋네요\n",
            "\n",
            "이거 정말 맛있어요!!\n",
            "\n",
            "간편하고 맛있어요~\n",
            "\n",
            "재재재구매 합니다 맛있어요 냄새도 안나고\n",
            "\n",
            "너무 편해요 닭가슴살에 이것저것 채소랑 토마토 넣고 볶으니까 요리가 됩니다\n",
            "\n",
            "닭가슴살 처음 먹어봤는데 굉장히 맛있었어요!! 촉촉하고 겉은 바삭하고 :) 다른 맛도 먹어보고 싶습니다\n",
            "\n",
            "맛있어요!!!!!!\n",
            "\n"
          ]
        }
      ],
      "source": [
        "html_str = driver.page_source\n",
        "# 페이지 숲 객체화\n",
        "soup = BeautifulSoup(html_str)\n",
        "# 타켓을 품고있는 요소 파악\n",
        "target_list = soup.select('div.inner_review')\n",
        "# 원하는 타겟만을 얻기 위한 분리\n",
        "a= target_list[0].get_text().split('\\n\\n\\n')\n",
        "a[1]\n",
        "\n",
        "for i in range(7):\n",
        "    a = target_list[i].get_text().split('\\n\\n\\n')\n",
        "    print(a[1])"
      ]
    },
    {
      "cell_type": "code",
      "execution_count": null,
      "id": "22c8f91a",
      "metadata": {
        "id": "22c8f91a",
        "outputId": "0f6c0aa9-bfd3-4d13-af0e-d2da70f21113"
      },
      "outputs": [
        {
          "name": "stdout",
          "output_type": "stream",
          "text": [
            "<a class=\"layout-pagination-button layout-pagination-last-page\" href=\"/shop/goods/goods_review_list.php?goodsno=5069036&amp;page=13969\">맨 끝 페이지로 가기</a>\n",
            "==================================================\n"
          ]
        },
        {
          "data": {
            "text/plain": [
              "'13969'"
            ]
          },
          "execution_count": 5,
          "metadata": {},
          "output_type": "execute_result"
        }
      ],
      "source": [
        "# 페이지 수 확인\n",
        "print(soup.find_all('a')[-1])\n",
        "print('='*50)\n",
        "\n",
        "# 페이지 수 들고오기\n",
        "a = soup.find_all('a')[-1]\n",
        "a['href'].split('=')[-1]"
      ]
    },
    {
      "cell_type": "code",
      "execution_count": null,
      "id": "cfcb8a45",
      "metadata": {
        "id": "cfcb8a45",
        "outputId": "3ff91c5a-37db-42bf-dd09-01d0506466f9"
      },
      "outputs": [
        {
          "name": "stdout",
          "output_type": "stream",
          "text": [
            "<class 'int'>\n"
          ]
        }
      ],
      "source": [
        "# 닭찌찌\n",
        "# 리뷰 데이터를 담을 리스트\n",
        "review1 = []\n",
        "\n",
        "# 상품 리뷰 주소\n",
        "url2 = 'https://www.kurly.com/shop/goods/goods_review_list.php?goodsno=5069036&page='\n",
        "a = soup.find_all('a')[-1]\n",
        "last_page = a['href'].split('=')[-1]\n",
        "last_page = int(last_page)\n",
        "print(type(last_page))\n",
        "for i in range(2,102):\n",
        "    url = url2 + str(i)\n",
        "#     if i%10 == 0:\n",
        "#         review2 = pd.DataFrame(review)\n",
        "#         review2.to_csv('./data/리뷰데이터2.csv', encoding = 'utf-8-sig', index = False)\n",
        "#     time.sleep(1)\n",
        "    driver.get(url)\n",
        "\n",
        "    html_str = driver.page_source\n",
        "    soup = BeautifulSoup(html_str)\n",
        "    target_list = soup.select('div.inner_review')\n",
        "\n",
        "# 에러 발생시 알려주고 넘어가는 코드\n",
        "    try:\n",
        "        for j in range(7):\n",
        "            a = target_list[j].get_text().split('\\n\\n\\n')\n",
        "            review1.append(a[1].replace('\\n',''))\n",
        "\n",
        "    except IndexError :\n",
        "        print('잘못된 인덱스입니다')"
      ]
    },
    {
      "cell_type": "code",
      "execution_count": null,
      "id": "2ecf067c",
      "metadata": {
        "id": "2ecf067c"
      },
      "outputs": [],
      "source": [
        "# 초콜릿 저장\n",
        "review1 = pd.DataFrame(review1)\n"
      ]
    },
    {
      "cell_type": "code",
      "execution_count": null,
      "id": "a8cb813c",
      "metadata": {
        "id": "a8cb813c",
        "outputId": "3ec36c73-8257-491d-ea7b-dcdb91245f5d"
      },
      "outputs": [
        {
          "name": "stdout",
          "output_type": "stream",
          "text": [
            "<class 'int'>\n",
            "잘못된 인덱스입니다\n",
            "잘못된 인덱스입니다\n",
            "잘못된 인덱스입니다\n",
            "잘못된 인덱스입니다\n",
            "잘못된 인덱스입니다\n",
            "잘못된 인덱스입니다\n",
            "잘못된 인덱스입니다\n"
          ]
        }
      ],
      "source": [
        "# 김치\n",
        "# 리뷰 데이터를 담을 리스트\n",
        "review2 = []\n",
        "\n",
        "# 상품 리뷰 주소\n",
        "url2 = 'https://www.kurly.com/shop/goods/goods_review_list.php?goodsno=5156526&page='\n",
        "a = soup.find_all('a')[-1]\n",
        "last_page = a['href'].split('=')[-1]\n",
        "last_page = int(last_page)\n",
        "print(type(last_page))\n",
        "for i in range(2,102):\n",
        "    url = url2 + str(i)\n",
        "#     if i%10 == 0:\n",
        "#         review2 = pd.DataFrame(review)\n",
        "#         review2.to_csv('./data/리뷰데이터2.csv', encoding = 'utf-8-sig', index = False)\n",
        "#     time.sleep(1)\n",
        "    driver.get(url)\n",
        "\n",
        "    html_str = driver.page_source\n",
        "    soup = BeautifulSoup(html_str)\n",
        "    target_list = soup.select('div.inner_review')\n",
        "\n",
        "# 에러 발생시 알려주고 넘어가는 코드\n",
        "    try:\n",
        "        for j in range(7):\n",
        "            a = target_list[j].get_text().split('\\n\\n\\n')\n",
        "            review2.append(a[1].replace('\\n',''))\n",
        "\n",
        "    except IndexError :\n",
        "        print('잘못된 인덱스입니다')"
      ]
    },
    {
      "cell_type": "code",
      "execution_count": null,
      "id": "1741f746",
      "metadata": {
        "id": "1741f746"
      },
      "outputs": [],
      "source": [
        "# 김치 저장\n",
        "review2 = pd.DataFrame(review2)\n"
      ]
    },
    {
      "cell_type": "code",
      "execution_count": null,
      "id": "f8bb8838",
      "metadata": {
        "id": "f8bb8838",
        "outputId": "6a53ee92-11f3-4d55-93c1-23f8ad7f177e"
      },
      "outputs": [
        {
          "name": "stdout",
          "output_type": "stream",
          "text": [
            "<class 'int'>\n"
          ]
        }
      ],
      "source": [
        "# 초콜릿\n",
        "# 리뷰 데이터를 담을 리스트\n",
        "review3 = []\n",
        "\n",
        "# 상품 리뷰 주소\n",
        "url2 = 'https://www.kurly.com/shop/goods/goods_review_list.php?goodsno=5042099&page='\n",
        "a = soup.find_all('a')[-1]\n",
        "last_page = a['href'].split('=')[-1]\n",
        "last_page = int(last_page)\n",
        "print(type(last_page))\n",
        "for i in range(2,102):\n",
        "    url = url2 + str(i)\n",
        "#     if i%10 == 0:\n",
        "#         review2 = pd.DataFrame(review)\n",
        "#         review2.to_csv('./data/리뷰데이터2.csv', encoding = 'utf-8-sig', index = False)\n",
        "#     time.sleep(1)\n",
        "    driver.get(url)\n",
        "\n",
        "    html_str = driver.page_source\n",
        "    soup = BeautifulSoup(html_str)\n",
        "    target_list = soup.select('div.inner_review')\n",
        "\n",
        "# 에러 발생시 알려주고 넘어가는 코드\n",
        "    try:\n",
        "        for j in range(7):\n",
        "            a = target_list[j].get_text().split('\\n\\n\\n')\n",
        "            review3.append(a[1].replace('\\n',''))\n",
        "\n",
        "    except IndexError :\n",
        "        print('잘못된 인덱스입니다')"
      ]
    },
    {
      "cell_type": "code",
      "execution_count": null,
      "id": "2d94f0da",
      "metadata": {
        "id": "2d94f0da"
      },
      "outputs": [],
      "source": [
        "# 초콜릿 저장\n",
        "review3 = pd.DataFrame(review3)\n"
      ]
    },
    {
      "cell_type": "code",
      "execution_count": null,
      "id": "26cded0c",
      "metadata": {
        "id": "26cded0c"
      },
      "outputs": [],
      "source": [
        "review"
      ]
    },
    {
      "cell_type": "raw",
      "id": "62d90a78",
      "metadata": {
        "id": "62d90a78"
      },
      "source": [
        "# 중복값 제거\n",
        "review.drop_duplicates(subset=['0'], inplace=True)\n",
        "review"
      ]
    },
    {
      "cell_type": "code",
      "execution_count": null,
      "id": "1518a028",
      "metadata": {
        "id": "1518a028",
        "outputId": "b286fc4c-828e-4cc1-8c8a-9e2e4fb3a197"
      },
      "outputs": [
        {
          "data": {
            "text/html": [
              "<div>\n",
              "<style scoped>\n",
              "    .dataframe tbody tr th:only-of-type {\n",
              "        vertical-align: middle;\n",
              "    }\n",
              "\n",
              "    .dataframe tbody tr th {\n",
              "        vertical-align: top;\n",
              "    }\n",
              "\n",
              "    .dataframe thead th {\n",
              "        text-align: right;\n",
              "    }\n",
              "</style>\n",
              "<table border=\"1\" class=\"dataframe\">\n",
              "  <thead>\n",
              "    <tr style=\"text-align: right;\">\n",
              "      <th></th>\n",
              "      <th>0</th>\n",
              "    </tr>\n",
              "  </thead>\n",
              "  <tbody>\n",
              "    <tr>\n",
              "      <th>0</th>\n",
              "      <td>첫구매했는데 맛있고좋네요</td>\n",
              "    </tr>\n",
              "    <tr>\n",
              "      <th>1</th>\n",
              "      <td>이거 정말 맛있어요!!</td>\n",
              "    </tr>\n",
              "    <tr>\n",
              "      <th>2</th>\n",
              "      <td>간편하고 맛있어요~</td>\n",
              "    </tr>\n",
              "    <tr>\n",
              "      <th>3</th>\n",
              "      <td>재재재구매 합니다 맛있어요 냄새도 안나고</td>\n",
              "    </tr>\n",
              "    <tr>\n",
              "      <th>4</th>\n",
              "      <td>너무 편해요 닭가슴살에 이것저것 채소랑 토마토 넣고 볶으니까 요리가 됩니다</td>\n",
              "    </tr>\n",
              "    <tr>\n",
              "      <th>...</th>\n",
              "      <td>...</td>\n",
              "    </tr>\n",
              "    <tr>\n",
              "      <th>695</th>\n",
              "      <td>굿굿굿굿굿굿굿굿굿굿</td>\n",
              "    </tr>\n",
              "    <tr>\n",
              "      <th>696</th>\n",
              "      <td>아이 등원전에몇조각 쩌서 주면 잘먹어요</td>\n",
              "    </tr>\n",
              "    <tr>\n",
              "      <th>697</th>\n",
              "      <td>요거요거 물건이네요 ..... 평소 아침은 안먹고 점심을 간단하게 때우는편인데 이거...</td>\n",
              "    </tr>\n",
              "    <tr>\n",
              "      <th>698</th>\n",
              "      <td>닭가슴살 제품중 제일 맛있어요.</td>\n",
              "    </tr>\n",
              "    <tr>\n",
              "      <th>699</th>\n",
              "      <td>오리지널이랑 갈릭맛 샀는데 오리지널보단 갈릭맛이 더 맛있었어요!!! 부드럽고 짱!!!</td>\n",
              "    </tr>\n",
              "  </tbody>\n",
              "</table>\n",
              "<p>700 rows × 1 columns</p>\n",
              "</div>"
            ],
            "text/plain": [
              "                                                     0\n",
              "0                                        첫구매했는데 맛있고좋네요\n",
              "1                                         이거 정말 맛있어요!!\n",
              "2                                           간편하고 맛있어요~\n",
              "3                               재재재구매 합니다 맛있어요 냄새도 안나고\n",
              "4            너무 편해요 닭가슴살에 이것저것 채소랑 토마토 넣고 볶으니까 요리가 됩니다\n",
              "..                                                 ...\n",
              "695                                         굿굿굿굿굿굿굿굿굿굿\n",
              "696                              아이 등원전에몇조각 쩌서 주면 잘먹어요\n",
              "697  요거요거 물건이네요 ..... 평소 아침은 안먹고 점심을 간단하게 때우는편인데 이거...\n",
              "698                                  닭가슴살 제품중 제일 맛있어요.\n",
              "699    오리지널이랑 갈릭맛 샀는데 오리지널보단 갈릭맛이 더 맛있었어요!!! 부드럽고 짱!!!\n",
              "\n",
              "[700 rows x 1 columns]"
            ]
          },
          "execution_count": 14,
          "metadata": {},
          "output_type": "execute_result"
        }
      ],
      "source": [
        "review1"
      ]
    },
    {
      "cell_type": "code",
      "execution_count": null,
      "id": "fe126cea",
      "metadata": {
        "id": "fe126cea",
        "outputId": "d13210c6-e0a3-4980-8f63-01a832922b74"
      },
      "outputs": [
        {
          "data": {
            "text/html": [
              "<div>\n",
              "<style scoped>\n",
              "    .dataframe tbody tr th:only-of-type {\n",
              "        vertical-align: middle;\n",
              "    }\n",
              "\n",
              "    .dataframe tbody tr th {\n",
              "        vertical-align: top;\n",
              "    }\n",
              "\n",
              "    .dataframe thead th {\n",
              "        text-align: right;\n",
              "    }\n",
              "</style>\n",
              "<table border=\"1\" class=\"dataframe\">\n",
              "  <thead>\n",
              "    <tr style=\"text-align: right;\">\n",
              "      <th></th>\n",
              "      <th>0</th>\n",
              "    </tr>\n",
              "  </thead>\n",
              "  <tbody>\n",
              "    <tr>\n",
              "      <th>0</th>\n",
              "      <td>첫구매했는데 맛있고좋네요</td>\n",
              "    </tr>\n",
              "    <tr>\n",
              "      <th>1</th>\n",
              "      <td>이거 정말 맛있어요!!</td>\n",
              "    </tr>\n",
              "    <tr>\n",
              "      <th>2</th>\n",
              "      <td>간편하고 맛있어요~</td>\n",
              "    </tr>\n",
              "    <tr>\n",
              "      <th>3</th>\n",
              "      <td>재재재구매 합니다 맛있어요 냄새도 안나고</td>\n",
              "    </tr>\n",
              "    <tr>\n",
              "      <th>4</th>\n",
              "      <td>너무 편해요 닭가슴살에 이것저것 채소랑 토마토 넣고 볶으니까 요리가 됩니다</td>\n",
              "    </tr>\n",
              "    <tr>\n",
              "      <th>...</th>\n",
              "      <td>...</td>\n",
              "    </tr>\n",
              "    <tr>\n",
              "      <th>695</th>\n",
              "      <td>굿굿굿굿굿굿굿굿굿굿</td>\n",
              "    </tr>\n",
              "    <tr>\n",
              "      <th>696</th>\n",
              "      <td>아이 등원전에몇조각 쩌서 주면 잘먹어요</td>\n",
              "    </tr>\n",
              "    <tr>\n",
              "      <th>697</th>\n",
              "      <td>요거요거 물건이네요 ..... 평소 아침은 안먹고 점심을 간단하게 때우는편인데 이거...</td>\n",
              "    </tr>\n",
              "    <tr>\n",
              "      <th>698</th>\n",
              "      <td>닭가슴살 제품중 제일 맛있어요.</td>\n",
              "    </tr>\n",
              "    <tr>\n",
              "      <th>699</th>\n",
              "      <td>오리지널이랑 갈릭맛 샀는데 오리지널보단 갈릭맛이 더 맛있었어요!!! 부드럽고 짱!!!</td>\n",
              "    </tr>\n",
              "  </tbody>\n",
              "</table>\n",
              "<p>665 rows × 1 columns</p>\n",
              "</div>"
            ],
            "text/plain": [
              "                                                     0\n",
              "0                                        첫구매했는데 맛있고좋네요\n",
              "1                                         이거 정말 맛있어요!!\n",
              "2                                           간편하고 맛있어요~\n",
              "3                               재재재구매 합니다 맛있어요 냄새도 안나고\n",
              "4            너무 편해요 닭가슴살에 이것저것 채소랑 토마토 넣고 볶으니까 요리가 됩니다\n",
              "..                                                 ...\n",
              "695                                         굿굿굿굿굿굿굿굿굿굿\n",
              "696                              아이 등원전에몇조각 쩌서 주면 잘먹어요\n",
              "697  요거요거 물건이네요 ..... 평소 아침은 안먹고 점심을 간단하게 때우는편인데 이거...\n",
              "698                                  닭가슴살 제품중 제일 맛있어요.\n",
              "699    오리지널이랑 갈릭맛 샀는데 오리지널보단 갈릭맛이 더 맛있었어요!!! 부드럽고 짱!!!\n",
              "\n",
              "[665 rows x 1 columns]"
            ]
          },
          "execution_count": 17,
          "metadata": {},
          "output_type": "execute_result"
        }
      ],
      "source": [
        "review1.drop_duplicates(subset=[0], inplace=True)\n",
        "review1"
      ]
    },
    {
      "cell_type": "code",
      "execution_count": null,
      "id": "65aa5156",
      "metadata": {
        "id": "65aa5156",
        "outputId": "3e499116-6a83-4f36-e17f-e2854d4a5063"
      },
      "outputs": [
        {
          "data": {
            "text/html": [
              "<div>\n",
              "<style scoped>\n",
              "    .dataframe tbody tr th:only-of-type {\n",
              "        vertical-align: middle;\n",
              "    }\n",
              "\n",
              "    .dataframe tbody tr th {\n",
              "        vertical-align: top;\n",
              "    }\n",
              "\n",
              "    .dataframe thead th {\n",
              "        text-align: right;\n",
              "    }\n",
              "</style>\n",
              "<table border=\"1\" class=\"dataframe\">\n",
              "  <thead>\n",
              "    <tr style=\"text-align: right;\">\n",
              "      <th></th>\n",
              "      <th>review</th>\n",
              "    </tr>\n",
              "  </thead>\n",
              "  <tbody>\n",
              "    <tr>\n",
              "      <th>0</th>\n",
              "      <td>첫구매했는데 맛있고좋네요</td>\n",
              "    </tr>\n",
              "    <tr>\n",
              "      <th>1</th>\n",
              "      <td>이거 정말 맛있어요!!</td>\n",
              "    </tr>\n",
              "    <tr>\n",
              "      <th>2</th>\n",
              "      <td>간편하고 맛있어요~</td>\n",
              "    </tr>\n",
              "    <tr>\n",
              "      <th>3</th>\n",
              "      <td>재재재구매 합니다 맛있어요 냄새도 안나고</td>\n",
              "    </tr>\n",
              "    <tr>\n",
              "      <th>4</th>\n",
              "      <td>너무 편해요 닭가슴살에 이것저것 채소랑 토마토 넣고 볶으니까 요리가 됩니다</td>\n",
              "    </tr>\n",
              "    <tr>\n",
              "      <th>...</th>\n",
              "      <td>...</td>\n",
              "    </tr>\n",
              "    <tr>\n",
              "      <th>695</th>\n",
              "      <td>굿굿굿굿굿굿굿굿굿굿</td>\n",
              "    </tr>\n",
              "    <tr>\n",
              "      <th>696</th>\n",
              "      <td>아이 등원전에몇조각 쩌서 주면 잘먹어요</td>\n",
              "    </tr>\n",
              "    <tr>\n",
              "      <th>697</th>\n",
              "      <td>요거요거 물건이네요 ..... 평소 아침은 안먹고 점심을 간단하게 때우는편인데 이거...</td>\n",
              "    </tr>\n",
              "    <tr>\n",
              "      <th>698</th>\n",
              "      <td>닭가슴살 제품중 제일 맛있어요.</td>\n",
              "    </tr>\n",
              "    <tr>\n",
              "      <th>699</th>\n",
              "      <td>오리지널이랑 갈릭맛 샀는데 오리지널보단 갈릭맛이 더 맛있었어요!!! 부드럽고 짱!!!</td>\n",
              "    </tr>\n",
              "  </tbody>\n",
              "</table>\n",
              "<p>665 rows × 1 columns</p>\n",
              "</div>"
            ],
            "text/plain": [
              "                                                review\n",
              "0                                        첫구매했는데 맛있고좋네요\n",
              "1                                         이거 정말 맛있어요!!\n",
              "2                                           간편하고 맛있어요~\n",
              "3                               재재재구매 합니다 맛있어요 냄새도 안나고\n",
              "4            너무 편해요 닭가슴살에 이것저것 채소랑 토마토 넣고 볶으니까 요리가 됩니다\n",
              "..                                                 ...\n",
              "695                                         굿굿굿굿굿굿굿굿굿굿\n",
              "696                              아이 등원전에몇조각 쩌서 주면 잘먹어요\n",
              "697  요거요거 물건이네요 ..... 평소 아침은 안먹고 점심을 간단하게 때우는편인데 이거...\n",
              "698                                  닭가슴살 제품중 제일 맛있어요.\n",
              "699    오리지널이랑 갈릭맛 샀는데 오리지널보단 갈릭맛이 더 맛있었어요!!! 부드럽고 짱!!!\n",
              "\n",
              "[665 rows x 1 columns]"
            ]
          },
          "execution_count": 26,
          "metadata": {},
          "output_type": "execute_result"
        }
      ],
      "source": [
        "review1.columns = ['review']\n",
        "review1"
      ]
    },
    {
      "cell_type": "code",
      "execution_count": null,
      "id": "fa74c596",
      "metadata": {
        "id": "fa74c596"
      },
      "outputs": [],
      "source": [
        "review1.to_csv('./data/닭찌찌.csv', encoding = 'utf-8-sig', index = False)"
      ]
    },
    {
      "cell_type": "code",
      "execution_count": null,
      "id": "41aaee03",
      "metadata": {
        "id": "41aaee03",
        "outputId": "21846ca8-1054-434c-fcd2-38f7d8c464a4"
      },
      "outputs": [
        {
          "data": {
            "text/html": [
              "<div>\n",
              "<style scoped>\n",
              "    .dataframe tbody tr th:only-of-type {\n",
              "        vertical-align: middle;\n",
              "    }\n",
              "\n",
              "    .dataframe tbody tr th {\n",
              "        vertical-align: top;\n",
              "    }\n",
              "\n",
              "    .dataframe thead th {\n",
              "        text-align: right;\n",
              "    }\n",
              "</style>\n",
              "<table border=\"1\" class=\"dataframe\">\n",
              "  <thead>\n",
              "    <tr style=\"text-align: right;\">\n",
              "      <th></th>\n",
              "      <th>0</th>\n",
              "    </tr>\n",
              "  </thead>\n",
              "  <tbody>\n",
              "    <tr>\n",
              "      <th>0</th>\n",
              "      <td>해담촌 파김치가 맛있어서 포기김치도 시켜봤어요맛있어요 재구매 각</td>\n",
              "    </tr>\n",
              "    <tr>\n",
              "      <th>1</th>\n",
              "      <td>맛 괜찮아요! 재구매는 글쎄요</td>\n",
              "    </tr>\n",
              "    <tr>\n",
              "      <th>2</th>\n",
              "      <td>평범해요 안매운김치 애들먹어도될듯</td>\n",
              "    </tr>\n",
              "    <tr>\n",
              "      <th>3</th>\n",
              "      <td>양념많이들어간 해담촌 김치 좋아해요오랫만에 주문했는데 살짝 매콤. 맛있게 먹었어요....</td>\n",
              "    </tr>\n",
              "    <tr>\n",
              "      <th>4</th>\n",
              "      <td>깔끔하고 젓갈맛이 맛깔스러워요</td>\n",
              "    </tr>\n",
              "    <tr>\n",
              "      <th>...</th>\n",
              "      <td>...</td>\n",
              "    </tr>\n",
              "    <tr>\n",
              "      <th>646</th>\n",
              "      <td>해담촌 김치 좋아하는데 열무김치도 나왓음 좋겟어요ㅎㅎ</td>\n",
              "    </tr>\n",
              "    <tr>\n",
              "      <th>647</th>\n",
              "      <td>수육에도 잘 어울리고요 찌개용으로도 좋아요 ㅎㅎ</td>\n",
              "    </tr>\n",
              "    <tr>\n",
              "      <th>648</th>\n",
              "      <td>소포장이라 자취하는사람들 먹기 편하고 좋아요</td>\n",
              "    </tr>\n",
              "    <tr>\n",
              "      <th>649</th>\n",
              "      <td>음 그냥 그래요 재구매는 안할거 같아용</td>\n",
              "    </tr>\n",
              "    <tr>\n",
              "      <th>650</th>\n",
              "      <td>안 익어도 맛있고 익어도 맛나오 근데 익기 전에 다 먹어버리는 게 정설... ㅎ</td>\n",
              "    </tr>\n",
              "  </tbody>\n",
              "</table>\n",
              "<p>651 rows × 1 columns</p>\n",
              "</div>"
            ],
            "text/plain": [
              "                                                     0\n",
              "0                  해담촌 파김치가 맛있어서 포기김치도 시켜봤어요맛있어요 재구매 각\n",
              "1                                     맛 괜찮아요! 재구매는 글쎄요\n",
              "2                                   평범해요 안매운김치 애들먹어도될듯\n",
              "3    양념많이들어간 해담촌 김치 좋아해요오랫만에 주문했는데 살짝 매콤. 맛있게 먹었어요....\n",
              "4                                     깔끔하고 젓갈맛이 맛깔스러워요\n",
              "..                                                 ...\n",
              "646                      해담촌 김치 좋아하는데 열무김치도 나왓음 좋겟어요ㅎㅎ\n",
              "647                         수육에도 잘 어울리고요 찌개용으로도 좋아요 ㅎㅎ\n",
              "648                           소포장이라 자취하는사람들 먹기 편하고 좋아요\n",
              "649                              음 그냥 그래요 재구매는 안할거 같아용\n",
              "650       안 익어도 맛있고 익어도 맛나오 근데 익기 전에 다 먹어버리는 게 정설... ㅎ\n",
              "\n",
              "[651 rows x 1 columns]"
            ]
          },
          "execution_count": 18,
          "metadata": {},
          "output_type": "execute_result"
        }
      ],
      "source": [
        "review2"
      ]
    },
    {
      "cell_type": "code",
      "execution_count": null,
      "id": "467edfa4",
      "metadata": {
        "id": "467edfa4",
        "outputId": "f1e17483-3c98-4ec8-8d05-b23a0a316a26"
      },
      "outputs": [
        {
          "data": {
            "text/html": [
              "<div>\n",
              "<style scoped>\n",
              "    .dataframe tbody tr th:only-of-type {\n",
              "        vertical-align: middle;\n",
              "    }\n",
              "\n",
              "    .dataframe tbody tr th {\n",
              "        vertical-align: top;\n",
              "    }\n",
              "\n",
              "    .dataframe thead th {\n",
              "        text-align: right;\n",
              "    }\n",
              "</style>\n",
              "<table border=\"1\" class=\"dataframe\">\n",
              "  <thead>\n",
              "    <tr style=\"text-align: right;\">\n",
              "      <th></th>\n",
              "      <th>0</th>\n",
              "    </tr>\n",
              "  </thead>\n",
              "  <tbody>\n",
              "    <tr>\n",
              "      <th>0</th>\n",
              "      <td>해담촌 파김치가 맛있어서 포기김치도 시켜봤어요맛있어요 재구매 각</td>\n",
              "    </tr>\n",
              "    <tr>\n",
              "      <th>1</th>\n",
              "      <td>맛 괜찮아요! 재구매는 글쎄요</td>\n",
              "    </tr>\n",
              "    <tr>\n",
              "      <th>2</th>\n",
              "      <td>평범해요 안매운김치 애들먹어도될듯</td>\n",
              "    </tr>\n",
              "    <tr>\n",
              "      <th>3</th>\n",
              "      <td>양념많이들어간 해담촌 김치 좋아해요오랫만에 주문했는데 살짝 매콤. 맛있게 먹었어요....</td>\n",
              "    </tr>\n",
              "    <tr>\n",
              "      <th>4</th>\n",
              "      <td>깔끔하고 젓갈맛이 맛깔스러워요</td>\n",
              "    </tr>\n",
              "    <tr>\n",
              "      <th>...</th>\n",
              "      <td>...</td>\n",
              "    </tr>\n",
              "    <tr>\n",
              "      <th>646</th>\n",
              "      <td>해담촌 김치 좋아하는데 열무김치도 나왓음 좋겟어요ㅎㅎ</td>\n",
              "    </tr>\n",
              "    <tr>\n",
              "      <th>647</th>\n",
              "      <td>수육에도 잘 어울리고요 찌개용으로도 좋아요 ㅎㅎ</td>\n",
              "    </tr>\n",
              "    <tr>\n",
              "      <th>648</th>\n",
              "      <td>소포장이라 자취하는사람들 먹기 편하고 좋아요</td>\n",
              "    </tr>\n",
              "    <tr>\n",
              "      <th>649</th>\n",
              "      <td>음 그냥 그래요 재구매는 안할거 같아용</td>\n",
              "    </tr>\n",
              "    <tr>\n",
              "      <th>650</th>\n",
              "      <td>안 익어도 맛있고 익어도 맛나오 근데 익기 전에 다 먹어버리는 게 정설... ㅎ</td>\n",
              "    </tr>\n",
              "  </tbody>\n",
              "</table>\n",
              "<p>649 rows × 1 columns</p>\n",
              "</div>"
            ],
            "text/plain": [
              "                                                     0\n",
              "0                  해담촌 파김치가 맛있어서 포기김치도 시켜봤어요맛있어요 재구매 각\n",
              "1                                     맛 괜찮아요! 재구매는 글쎄요\n",
              "2                                   평범해요 안매운김치 애들먹어도될듯\n",
              "3    양념많이들어간 해담촌 김치 좋아해요오랫만에 주문했는데 살짝 매콤. 맛있게 먹었어요....\n",
              "4                                     깔끔하고 젓갈맛이 맛깔스러워요\n",
              "..                                                 ...\n",
              "646                      해담촌 김치 좋아하는데 열무김치도 나왓음 좋겟어요ㅎㅎ\n",
              "647                         수육에도 잘 어울리고요 찌개용으로도 좋아요 ㅎㅎ\n",
              "648                           소포장이라 자취하는사람들 먹기 편하고 좋아요\n",
              "649                              음 그냥 그래요 재구매는 안할거 같아용\n",
              "650       안 익어도 맛있고 익어도 맛나오 근데 익기 전에 다 먹어버리는 게 정설... ㅎ\n",
              "\n",
              "[649 rows x 1 columns]"
            ]
          },
          "execution_count": 19,
          "metadata": {},
          "output_type": "execute_result"
        }
      ],
      "source": [
        "review2.drop_duplicates(subset=[0], inplace=True)\n",
        "review2"
      ]
    },
    {
      "cell_type": "code",
      "execution_count": null,
      "id": "577a883d",
      "metadata": {
        "id": "577a883d",
        "outputId": "4e7f5fd9-efb3-485c-c7ac-97ea857c34a9"
      },
      "outputs": [
        {
          "data": {
            "text/html": [
              "<div>\n",
              "<style scoped>\n",
              "    .dataframe tbody tr th:only-of-type {\n",
              "        vertical-align: middle;\n",
              "    }\n",
              "\n",
              "    .dataframe tbody tr th {\n",
              "        vertical-align: top;\n",
              "    }\n",
              "\n",
              "    .dataframe thead th {\n",
              "        text-align: right;\n",
              "    }\n",
              "</style>\n",
              "<table border=\"1\" class=\"dataframe\">\n",
              "  <thead>\n",
              "    <tr style=\"text-align: right;\">\n",
              "      <th></th>\n",
              "      <th>review</th>\n",
              "    </tr>\n",
              "  </thead>\n",
              "  <tbody>\n",
              "    <tr>\n",
              "      <th>0</th>\n",
              "      <td>해담촌 파김치가 맛있어서 포기김치도 시켜봤어요맛있어요 재구매 각</td>\n",
              "    </tr>\n",
              "    <tr>\n",
              "      <th>1</th>\n",
              "      <td>맛 괜찮아요! 재구매는 글쎄요</td>\n",
              "    </tr>\n",
              "    <tr>\n",
              "      <th>2</th>\n",
              "      <td>평범해요 안매운김치 애들먹어도될듯</td>\n",
              "    </tr>\n",
              "    <tr>\n",
              "      <th>3</th>\n",
              "      <td>양념많이들어간 해담촌 김치 좋아해요오랫만에 주문했는데 살짝 매콤. 맛있게 먹었어요....</td>\n",
              "    </tr>\n",
              "    <tr>\n",
              "      <th>4</th>\n",
              "      <td>깔끔하고 젓갈맛이 맛깔스러워요</td>\n",
              "    </tr>\n",
              "    <tr>\n",
              "      <th>...</th>\n",
              "      <td>...</td>\n",
              "    </tr>\n",
              "    <tr>\n",
              "      <th>646</th>\n",
              "      <td>해담촌 김치 좋아하는데 열무김치도 나왓음 좋겟어요ㅎㅎ</td>\n",
              "    </tr>\n",
              "    <tr>\n",
              "      <th>647</th>\n",
              "      <td>수육에도 잘 어울리고요 찌개용으로도 좋아요 ㅎㅎ</td>\n",
              "    </tr>\n",
              "    <tr>\n",
              "      <th>648</th>\n",
              "      <td>소포장이라 자취하는사람들 먹기 편하고 좋아요</td>\n",
              "    </tr>\n",
              "    <tr>\n",
              "      <th>649</th>\n",
              "      <td>음 그냥 그래요 재구매는 안할거 같아용</td>\n",
              "    </tr>\n",
              "    <tr>\n",
              "      <th>650</th>\n",
              "      <td>안 익어도 맛있고 익어도 맛나오 근데 익기 전에 다 먹어버리는 게 정설... ㅎ</td>\n",
              "    </tr>\n",
              "  </tbody>\n",
              "</table>\n",
              "<p>649 rows × 1 columns</p>\n",
              "</div>"
            ],
            "text/plain": [
              "                                                review\n",
              "0                  해담촌 파김치가 맛있어서 포기김치도 시켜봤어요맛있어요 재구매 각\n",
              "1                                     맛 괜찮아요! 재구매는 글쎄요\n",
              "2                                   평범해요 안매운김치 애들먹어도될듯\n",
              "3    양념많이들어간 해담촌 김치 좋아해요오랫만에 주문했는데 살짝 매콤. 맛있게 먹었어요....\n",
              "4                                     깔끔하고 젓갈맛이 맛깔스러워요\n",
              "..                                                 ...\n",
              "646                      해담촌 김치 좋아하는데 열무김치도 나왓음 좋겟어요ㅎㅎ\n",
              "647                         수육에도 잘 어울리고요 찌개용으로도 좋아요 ㅎㅎ\n",
              "648                           소포장이라 자취하는사람들 먹기 편하고 좋아요\n",
              "649                              음 그냥 그래요 재구매는 안할거 같아용\n",
              "650       안 익어도 맛있고 익어도 맛나오 근데 익기 전에 다 먹어버리는 게 정설... ㅎ\n",
              "\n",
              "[649 rows x 1 columns]"
            ]
          },
          "execution_count": 27,
          "metadata": {},
          "output_type": "execute_result"
        }
      ],
      "source": [
        "review2.columns = ['review']\n",
        "review2"
      ]
    },
    {
      "cell_type": "code",
      "execution_count": null,
      "id": "de0f31d6",
      "metadata": {
        "id": "de0f31d6"
      },
      "outputs": [],
      "source": [
        "review2.to_csv('./data/김치.csv', encoding = 'utf-8-sig', index = False)"
      ]
    },
    {
      "cell_type": "code",
      "execution_count": null,
      "id": "a82f1122",
      "metadata": {
        "id": "a82f1122",
        "outputId": "1db73c02-0cb7-4900-fc0b-71db19e2849d"
      },
      "outputs": [
        {
          "data": {
            "text/html": [
              "<div>\n",
              "<style scoped>\n",
              "    .dataframe tbody tr th:only-of-type {\n",
              "        vertical-align: middle;\n",
              "    }\n",
              "\n",
              "    .dataframe tbody tr th {\n",
              "        vertical-align: top;\n",
              "    }\n",
              "\n",
              "    .dataframe thead th {\n",
              "        text-align: right;\n",
              "    }\n",
              "</style>\n",
              "<table border=\"1\" class=\"dataframe\">\n",
              "  <thead>\n",
              "    <tr style=\"text-align: right;\">\n",
              "      <th></th>\n",
              "      <th>0</th>\n",
              "    </tr>\n",
              "  </thead>\n",
              "  <tbody>\n",
              "    <tr>\n",
              "      <th>0</th>\n",
              "      <td>여러가지 맛을 한번에 맛 볼 수 있어서 좋아요</td>\n",
              "    </tr>\n",
              "    <tr>\n",
              "      <th>1</th>\n",
              "      <td>정말 맛있네요 ㅠㅠ 맛 여러가지 섞인 땡큐로 샀어요</td>\n",
              "    </tr>\n",
              "    <tr>\n",
              "      <th>2</th>\n",
              "      <td>맛나죠 말이필요없는정도ㅎ</td>\n",
              "    </tr>\n",
              "    <tr>\n",
              "      <th>3</th>\n",
              "      <td>5시 새벽배송받아 힘들어하는 수험생 아들에게 화이팅^^ 메모와 함께 책상에 살짝 올...</td>\n",
              "    </tr>\n",
              "    <tr>\n",
              "      <th>4</th>\n",
              "      <td>초코튜브 갯수도 꽤 되고 맛도 좋습니다. 세종류 다 맛있고 저는 딸기맛이 좋네요</td>\n",
              "    </tr>\n",
              "    <tr>\n",
              "      <th>...</th>\n",
              "      <td>...</td>\n",
              "    </tr>\n",
              "    <tr>\n",
              "      <th>695</th>\n",
              "      <td>하나씩 까먹기 좋아요 &gt;_&lt;</td>\n",
              "    </tr>\n",
              "    <tr>\n",
              "      <th>696</th>\n",
              "      <td>여러종류 먹을 수 있어서 좋고 맛있어여</td>\n",
              "    </tr>\n",
              "    <tr>\n",
              "      <th>697</th>\n",
              "      <td>다양한 맛이 있고,,패키지도 예쁘고,,맛있어요</td>\n",
              "    </tr>\n",
              "    <tr>\n",
              "      <th>698</th>\n",
              "      <td>요거트만 빼고 사야지 했는데 왜때문에 요거트만 왔는지 모르겠지만.. (제가 제 손으...</td>\n",
              "    </tr>\n",
              "    <tr>\n",
              "      <th>699</th>\n",
              "      <td>깔끔하게 하나씩 빼먹어요</td>\n",
              "    </tr>\n",
              "  </tbody>\n",
              "</table>\n",
              "<p>700 rows × 1 columns</p>\n",
              "</div>"
            ],
            "text/plain": [
              "                                                     0\n",
              "0                            여러가지 맛을 한번에 맛 볼 수 있어서 좋아요\n",
              "1                         정말 맛있네요 ㅠㅠ 맛 여러가지 섞인 땡큐로 샀어요\n",
              "2                                        맛나죠 말이필요없는정도ㅎ\n",
              "3    5시 새벽배송받아 힘들어하는 수험생 아들에게 화이팅^^ 메모와 함께 책상에 살짝 올...\n",
              "4         초코튜브 갯수도 꽤 되고 맛도 좋습니다. 세종류 다 맛있고 저는 딸기맛이 좋네요\n",
              "..                                                 ...\n",
              "695                                    하나씩 까먹기 좋아요 >_<\n",
              "696                              여러종류 먹을 수 있어서 좋고 맛있어여\n",
              "697                          다양한 맛이 있고,,패키지도 예쁘고,,맛있어요\n",
              "698  요거트만 빼고 사야지 했는데 왜때문에 요거트만 왔는지 모르겠지만.. (제가 제 손으...\n",
              "699                                      깔끔하게 하나씩 빼먹어요\n",
              "\n",
              "[700 rows x 1 columns]"
            ]
          },
          "execution_count": 20,
          "metadata": {},
          "output_type": "execute_result"
        }
      ],
      "source": [
        "review3"
      ]
    },
    {
      "cell_type": "code",
      "execution_count": null,
      "id": "4a0e74d0",
      "metadata": {
        "id": "4a0e74d0",
        "outputId": "85f26c89-2b38-4452-b3e0-625efa2b159c"
      },
      "outputs": [
        {
          "data": {
            "text/html": [
              "<div>\n",
              "<style scoped>\n",
              "    .dataframe tbody tr th:only-of-type {\n",
              "        vertical-align: middle;\n",
              "    }\n",
              "\n",
              "    .dataframe tbody tr th {\n",
              "        vertical-align: top;\n",
              "    }\n",
              "\n",
              "    .dataframe thead th {\n",
              "        text-align: right;\n",
              "    }\n",
              "</style>\n",
              "<table border=\"1\" class=\"dataframe\">\n",
              "  <thead>\n",
              "    <tr style=\"text-align: right;\">\n",
              "      <th></th>\n",
              "      <th>0</th>\n",
              "    </tr>\n",
              "  </thead>\n",
              "  <tbody>\n",
              "    <tr>\n",
              "      <th>0</th>\n",
              "      <td>여러가지 맛을 한번에 맛 볼 수 있어서 좋아요</td>\n",
              "    </tr>\n",
              "    <tr>\n",
              "      <th>1</th>\n",
              "      <td>정말 맛있네요 ㅠㅠ 맛 여러가지 섞인 땡큐로 샀어요</td>\n",
              "    </tr>\n",
              "    <tr>\n",
              "      <th>2</th>\n",
              "      <td>맛나죠 말이필요없는정도ㅎ</td>\n",
              "    </tr>\n",
              "    <tr>\n",
              "      <th>3</th>\n",
              "      <td>5시 새벽배송받아 힘들어하는 수험생 아들에게 화이팅^^ 메모와 함께 책상에 살짝 올...</td>\n",
              "    </tr>\n",
              "    <tr>\n",
              "      <th>4</th>\n",
              "      <td>초코튜브 갯수도 꽤 되고 맛도 좋습니다. 세종류 다 맛있고 저는 딸기맛이 좋네요</td>\n",
              "    </tr>\n",
              "    <tr>\n",
              "      <th>...</th>\n",
              "      <td>...</td>\n",
              "    </tr>\n",
              "    <tr>\n",
              "      <th>695</th>\n",
              "      <td>하나씩 까먹기 좋아요 &gt;_&lt;</td>\n",
              "    </tr>\n",
              "    <tr>\n",
              "      <th>696</th>\n",
              "      <td>여러종류 먹을 수 있어서 좋고 맛있어여</td>\n",
              "    </tr>\n",
              "    <tr>\n",
              "      <th>697</th>\n",
              "      <td>다양한 맛이 있고,,패키지도 예쁘고,,맛있어요</td>\n",
              "    </tr>\n",
              "    <tr>\n",
              "      <th>698</th>\n",
              "      <td>요거트만 빼고 사야지 했는데 왜때문에 요거트만 왔는지 모르겠지만.. (제가 제 손으...</td>\n",
              "    </tr>\n",
              "    <tr>\n",
              "      <th>699</th>\n",
              "      <td>깔끔하게 하나씩 빼먹어요</td>\n",
              "    </tr>\n",
              "  </tbody>\n",
              "</table>\n",
              "<p>694 rows × 1 columns</p>\n",
              "</div>"
            ],
            "text/plain": [
              "                                                     0\n",
              "0                            여러가지 맛을 한번에 맛 볼 수 있어서 좋아요\n",
              "1                         정말 맛있네요 ㅠㅠ 맛 여러가지 섞인 땡큐로 샀어요\n",
              "2                                        맛나죠 말이필요없는정도ㅎ\n",
              "3    5시 새벽배송받아 힘들어하는 수험생 아들에게 화이팅^^ 메모와 함께 책상에 살짝 올...\n",
              "4         초코튜브 갯수도 꽤 되고 맛도 좋습니다. 세종류 다 맛있고 저는 딸기맛이 좋네요\n",
              "..                                                 ...\n",
              "695                                    하나씩 까먹기 좋아요 >_<\n",
              "696                              여러종류 먹을 수 있어서 좋고 맛있어여\n",
              "697                          다양한 맛이 있고,,패키지도 예쁘고,,맛있어요\n",
              "698  요거트만 빼고 사야지 했는데 왜때문에 요거트만 왔는지 모르겠지만.. (제가 제 손으...\n",
              "699                                      깔끔하게 하나씩 빼먹어요\n",
              "\n",
              "[694 rows x 1 columns]"
            ]
          },
          "execution_count": 21,
          "metadata": {},
          "output_type": "execute_result"
        }
      ],
      "source": [
        "review3.drop_duplicates(subset=[0], inplace=True)\n",
        "review3"
      ]
    },
    {
      "cell_type": "code",
      "execution_count": null,
      "id": "ffe308ba",
      "metadata": {
        "id": "ffe308ba",
        "outputId": "4313bb2e-46e6-4da2-b228-438c83903683"
      },
      "outputs": [
        {
          "data": {
            "text/html": [
              "<div>\n",
              "<style scoped>\n",
              "    .dataframe tbody tr th:only-of-type {\n",
              "        vertical-align: middle;\n",
              "    }\n",
              "\n",
              "    .dataframe tbody tr th {\n",
              "        vertical-align: top;\n",
              "    }\n",
              "\n",
              "    .dataframe thead th {\n",
              "        text-align: right;\n",
              "    }\n",
              "</style>\n",
              "<table border=\"1\" class=\"dataframe\">\n",
              "  <thead>\n",
              "    <tr style=\"text-align: right;\">\n",
              "      <th></th>\n",
              "      <th>review</th>\n",
              "    </tr>\n",
              "  </thead>\n",
              "  <tbody>\n",
              "    <tr>\n",
              "      <th>0</th>\n",
              "      <td>여러가지 맛을 한번에 맛 볼 수 있어서 좋아요</td>\n",
              "    </tr>\n",
              "    <tr>\n",
              "      <th>1</th>\n",
              "      <td>정말 맛있네요 ㅠㅠ 맛 여러가지 섞인 땡큐로 샀어요</td>\n",
              "    </tr>\n",
              "    <tr>\n",
              "      <th>2</th>\n",
              "      <td>맛나죠 말이필요없는정도ㅎ</td>\n",
              "    </tr>\n",
              "    <tr>\n",
              "      <th>3</th>\n",
              "      <td>5시 새벽배송받아 힘들어하는 수험생 아들에게 화이팅^^ 메모와 함께 책상에 살짝 올...</td>\n",
              "    </tr>\n",
              "    <tr>\n",
              "      <th>4</th>\n",
              "      <td>초코튜브 갯수도 꽤 되고 맛도 좋습니다. 세종류 다 맛있고 저는 딸기맛이 좋네요</td>\n",
              "    </tr>\n",
              "    <tr>\n",
              "      <th>...</th>\n",
              "      <td>...</td>\n",
              "    </tr>\n",
              "    <tr>\n",
              "      <th>695</th>\n",
              "      <td>하나씩 까먹기 좋아요 &gt;_&lt;</td>\n",
              "    </tr>\n",
              "    <tr>\n",
              "      <th>696</th>\n",
              "      <td>여러종류 먹을 수 있어서 좋고 맛있어여</td>\n",
              "    </tr>\n",
              "    <tr>\n",
              "      <th>697</th>\n",
              "      <td>다양한 맛이 있고,,패키지도 예쁘고,,맛있어요</td>\n",
              "    </tr>\n",
              "    <tr>\n",
              "      <th>698</th>\n",
              "      <td>요거트만 빼고 사야지 했는데 왜때문에 요거트만 왔는지 모르겠지만.. (제가 제 손으...</td>\n",
              "    </tr>\n",
              "    <tr>\n",
              "      <th>699</th>\n",
              "      <td>깔끔하게 하나씩 빼먹어요</td>\n",
              "    </tr>\n",
              "  </tbody>\n",
              "</table>\n",
              "<p>694 rows × 1 columns</p>\n",
              "</div>"
            ],
            "text/plain": [
              "                                                review\n",
              "0                            여러가지 맛을 한번에 맛 볼 수 있어서 좋아요\n",
              "1                         정말 맛있네요 ㅠㅠ 맛 여러가지 섞인 땡큐로 샀어요\n",
              "2                                        맛나죠 말이필요없는정도ㅎ\n",
              "3    5시 새벽배송받아 힘들어하는 수험생 아들에게 화이팅^^ 메모와 함께 책상에 살짝 올...\n",
              "4         초코튜브 갯수도 꽤 되고 맛도 좋습니다. 세종류 다 맛있고 저는 딸기맛이 좋네요\n",
              "..                                                 ...\n",
              "695                                    하나씩 까먹기 좋아요 >_<\n",
              "696                              여러종류 먹을 수 있어서 좋고 맛있어여\n",
              "697                          다양한 맛이 있고,,패키지도 예쁘고,,맛있어요\n",
              "698  요거트만 빼고 사야지 했는데 왜때문에 요거트만 왔는지 모르겠지만.. (제가 제 손으...\n",
              "699                                      깔끔하게 하나씩 빼먹어요\n",
              "\n",
              "[694 rows x 1 columns]"
            ]
          },
          "execution_count": 28,
          "metadata": {},
          "output_type": "execute_result"
        }
      ],
      "source": [
        "review3.columns = ['review']\n",
        "review3"
      ]
    },
    {
      "cell_type": "code",
      "execution_count": null,
      "id": "25f54424",
      "metadata": {
        "id": "25f54424"
      },
      "outputs": [],
      "source": [
        "review3.to_csv('./data/초콜릿.csv', encoding = 'utf-8-sig', index = False)"
      ]
    },
    {
      "cell_type": "code",
      "execution_count": null,
      "id": "b0783f6e",
      "metadata": {
        "id": "b0783f6e",
        "outputId": "6c487b82-c88b-4f51-c8f0-fefaf4a2a2c6"
      },
      "outputs": [
        {
          "data": {
            "text/plain": [
              "review    0\n",
              "dtype: int64"
            ]
          },
          "execution_count": 35,
          "metadata": {},
          "output_type": "execute_result"
        }
      ],
      "source": [
        "review3.isna().sum()"
      ]
    }
  ],
  "metadata": {
    "kernelspec": {
      "display_name": "Python 3 (ipykernel)",
      "language": "python",
      "name": "python3"
    },
    "language_info": {
      "codemirror_mode": {
        "name": "ipython",
        "version": 3
      },
      "file_extension": ".py",
      "mimetype": "text/x-python",
      "name": "python",
      "nbconvert_exporter": "python",
      "pygments_lexer": "ipython3",
      "version": "3.10.9"
    },
    "colab": {
      "provenance": [],
      "include_colab_link": true
    }
  },
  "nbformat": 4,
  "nbformat_minor": 5
}